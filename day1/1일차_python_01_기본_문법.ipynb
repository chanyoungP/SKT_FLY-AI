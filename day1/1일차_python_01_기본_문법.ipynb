{
  "nbformat": 4,
  "nbformat_minor": 0,
  "metadata": {
    "colab": {
      "provenance": []
    },
    "kernelspec": {
      "name": "python3",
      "display_name": "Python 3"
    },
    "language_info": {
      "name": "python"
    }
  },
  "cells": [
    {
      "cell_type": "markdown",
      "source": [
        "## Python 기초 프로그래밍 연습\n",
        "- python은 인터프리터 언어 (컴파일 없이 line by line으로)\n",
        "- 큰 커뮤니티 -> 다양한 라이브러리 활용 가능"
      ],
      "metadata": {
        "id": "uM20cgxKlt24"
      }
    },
    {
      "cell_type": "code",
      "execution_count": null,
      "metadata": {
        "colab": {
          "base_uri": "https://localhost:8080/"
        },
        "id": "4fWDDPamUtX0",
        "outputId": "1d319c2b-1f2e-47ff-bd70-05059e32b00d"
      },
      "outputs": [
        {
          "output_type": "stream",
          "name": "stdout",
          "text": [
            "Hello, world!\n"
          ]
        }
      ],
      "source": [
        "# prompt: print hello world\n",
        "\n",
        "print('Hello, world!')\n"
      ]
    },
    {
      "cell_type": "code",
      "source": [
        "# prompt: a와b가 같으면 \"testing\"을 출력\n",
        "\n",
        "a = 10\n",
        "b = 10\n",
        "if a == b:\n",
        "  print(\"testing\")\n"
      ],
      "metadata": {
        "id": "aRzRzwCQVMdL"
      },
      "execution_count": null,
      "outputs": []
    },
    {
      "cell_type": "code",
      "source": [
        "# prompt: requeset 라이브러리 예시 코드\n",
        "\n",
        "import requests\n",
        "response = requests.get('http://www.naver.com')\n",
        "print(response.status_code)\n",
        "print(response.text)\n"
      ],
      "metadata": {
        "colab": {
          "base_uri": "https://localhost:8080/"
        },
        "id": "wV2am5qkXix8",
        "outputId": "bbfbb54a-61bf-4f44-f0d2-bd5fff165b3b"
      },
      "execution_count": null,
      "outputs": [
        {
          "output_type": "stream",
          "name": "stdout",
          "text": [
            "200\n",
            "   <!doctype html> <html lang=\"ko\" class=\"fzoom\"> <head> <meta charset=\"utf-8\"> <meta name=\"Referrer\" content=\"origin\"> <meta http-equiv=\"X-UA-Compatible\" content=\"IE=edge\"> <meta name=\"viewport\" content=\"width=1190\"> <title>NAVER</title> <meta name=\"apple-mobile-web-app-title\" content=\"NAVER\"/> <meta name=\"robots\" content=\"index,nofollow\"/> <meta name=\"description\" content=\"네이버 메인에서 다양한 정보와 유용한 컨텐츠를 만나 보세요\"/> <meta property=\"og:title\" content=\"네이버\"> <meta property=\"og:url\" content=\"https://www.naver.com/\"> <meta property=\"og:image\" content=\"https://s.pstatic.net/static/www/mobile/edit/2016/0705/mobile_212852414260.png\"> <meta property=\"og:description\" content=\"네이버 메인에서 다양한 정보와 유용한 컨텐츠를 만나 보세요\"/> <meta name=\"twitter:card\" content=\"summary\"> <meta name=\"twitter:title\" content=\"\"> <meta name=\"twitter:url\" content=\"https://www.naver.com/\"> <meta name=\"twitter:image\" content=\"https://s.pstatic.net/static/www/mobile/edit/2016/0705/mobile_212852414260.png\"> <meta name=\"twitter:description\" content=\"네이버 메인에서 다양한 정보와 유용한 컨텐츠를 만나 보세요\"/> <link rel=\"shortcut icon\" type=\"image/x-icon\" href=\"/favicon.ico?1\"> <link rel=\"apple-touch-icon-precomposed\" href=\"https://s.pstatic.net/static/www/nFavicon96.png\"/> <link rel=\"apple-touch-icon\" sizes=\"114x114\" href=\"https://s.pstatic.net/static/www/u/2014/0328/mma_204243574.png\"/> <link rel=\"apple-touch-icon\" href=\"https://s.pstatic.net/static/www/u/2014/0328/mma_20432863.png\"/> <link rel=\"stylesheet\" href=\"https://ssl.pstatic.net/sstatic/search/pc/css/sp_autocomplete_231130.css\"> <script>window.gladsdk=window.gladsdk||{},window.gladsdk.cmd=window.gladsdk.cmd||[],window.ndpsdk=window.ndpsdk||{},window.ndpsdk.cmd=window.ndpsdk.cmd||[],window.ndpsdk.polyfill=window.ndpsdk.polyfill||{cmd:[]};var g_ssc=\"navertop.v5\";window.nsc=g_ssc,window.nmain=window.nmain||{},window.nmain.jsOrigin=\"www\"</script> <script async src=\"https://ssl.pstatic.net/tveta/libs/ndpsdk/prod/ndp-loader.js\"></script> <script async src=\"https://ssl.pstatic.net/tveta/libs/glad/prod/gfp-core.js\"></script> <script src=\"https://ssl.pstatic.net/tveta/libs/assets/js/pc/main/min/pc.veta.core.min.js\" defer=\"defer\"></script>  <script>\n",
            "window[\"EAGER-DATA\"] = window[\"EAGER-DATA\"] || {};\n",
            "window[\"EAGER-DATA\"][\"PC-FEED-WRAPPER\"] = {\"@type\":\"BLOCK\",\"blocks\":[{\"@type\":\"BLOCK\",\"blocks\":[{\"@type\":\"PC-FEED-BLOCK\",\"blocks\":[{\"@type\":\"PC-FEED-BLOCK\",\"materials\":[{\"@type\":\"MATERIAL-PC-FEED\",\"title\":\"자유로운 비행을 할 수 있는 유일한 포유류\",\"url\":\"https://post.naver.com/viewer/postView.naver?volumeNo=36991622&memberNo=10775421&navigationType=push\",\"image\":{\"url\":\"https://s.pstatic.net/dthumb.phinf/?src=%22https%3A%2F%2Fs.pstatic.net%2Fstatic%2Fwww%2Fmobile%2Fedit%2F20231211_1095%2Fupload_1702289760920uhFL3.jpg%22&type=f504_292&service=navermain\"},\"source\":{\"name\":\"국립생태원\",\"service\":\"POST\",\"image\":{\"url\":\"https://s.pstatic.net/post.phinf/MjAyMjA1MTBfMiAg/MDAxNjUyMTU2MjY1NDU5.K_yhKC8-y7j2kBr3EQt-D5umJSR1WwgfGxiviVExuBUg.oBDMZ1Egy0mxvHlb-hkC0XnHxLJR3eM4gSJ0Osd0SXsg.PNG/post_2976054415672180078.png?type=f120_120\"}},\"_id\":\"651281851033cf99071880fe\"},{\"@type\":\"MATERIAL-PC-FEED\",\"title\":\"올 한해 위키피디아에서 가장 많이 검색된 항목은?\",\"url\":\"https://post.naver.com/viewer/postView.naver?volumeNo=36998142&memberNo=37600247\",\"image\":{\"url\":\"https://s.pstatic.net/dthumb.phinf/?src=%22https%3A%2F%2Fs.pstatic.net%2Fstatic%2Fwww%2Fmobile%2Fedit%2F20231211_1095%2Fupload_1702289747667qlW97.jpg%22&type=f504_292&service=navermain\"},\"source\":{\"name\":\"하입비스트\",\"service\":\"POST\",\"image\":{\"url\":\"https://s.pstatic.net/post.phinf/MjAyMDEyMTZfMjU3/MDAxNjA4MDg5NDc5NTI3.3L8PNHRhIKZv8SUl-WQd0fFUJc39Zu5McVIuQzOY2Ysg.wUeapgHt5W3PqtPkitS2GBLLBa1XYmxukzRQiXWrOgog.JPEG/post_9121271427993247926.jpg?type=f120_120\"}},\"_id\":\"651281851033cf99071880ff\"},{\"@type\":\"MATERIAL-PC-FEED\",\"title\":\"\\\"돈 없고 취업도 안 돼서\\\" 얹혀사는 '큰 아기', 세계 부모들 고심\",\"url\":\"https://post.naver.com/viewer/postView.naver?volumeNo=37018261&memberNo=11466887\",\"image\":{\"url\":\"https://s.pstatic.net/dthumb.phinf/?src=%22https%3A%2F%2Fs.pstatic.net%2Fstatic%2Fwww%2Fmobile%2Fedit%2F20231211_1095%2Fupload_1702289753598MJvwm.jpg%22&type=f504_292&service=navermain\"},\"source\":{\"name\":\"아시아경제\",\"service\":\"POST\",\"image\":{\"url\":\"https://s.pstatic.net/post.phinf/MjAxOTA5MTBfMTM3/MDAxNTY4MDczOTUxOTk3.PictPATYBtu8x0fPoCkrig4IAz4k7Ydj8LB3fqQkk0Ig.1MpjVZF0oFKgjX3usjqLUs5I25f3YLUf3JUpHttsY1Mg.PNG/post_7702124125895925658.png?type=f120_120\"}},\"_id\":\"651281851033cf9907188100\"}],\"excludeInPaging\":false,\"positionForPaging\":0,\"realtime\":false,\"needCologger\":false,\"ad\":false,\"@type\":\"PC-FEED-BLOCK\",\"@template\":\"NONE\"}],\"excludeInPaging\":false,\"positionForPaging\":0,\"realtime\":false,\"needCologger\":false,\"ad\":false,\"@type\":\"PC-FEED-BLOCK\",\"@code\":\"PC-FEED-LECTURE-TODAY-LECTURE\",\"@template\":\"HIGHLIGHTED-COLUMNS\"},{\"@type\":\"PC-FEED-BLOCK\",\"materials\":[{\"@type\":\"MATERIAL-PC-FEED\",\"title\":\"원두 갈아낼 때 물 뿌리라는 이유는\",\"url\":\"https://m.post.naver.com/viewer/postView.naver?volumeNo=37053637&memberNo=156429&vType=VERTICAL\",\"image\":{\"url\":\"https://s.pstatic.net/dthumb.phinf/?src=%22https%3A%2F%2Fs.pstatic.net%2Fpost.phinf%2FMjAyMzEyMThfNjcg%2FMDAxNzAyODY1NTA4MjU2.uyQOWG4H4EXoQjzbAxC3AutgcYZcdvTkOjUoPq9ESuQg._hhXI4DOqkmF-KcbAOgli6SDQ0YkoO2pOyzLh07_VmMg.JPEG%2FI0kH1_5u229xJYR5ks_G9nks5cfo.jpg%22&type=nf308_200&service=navermain\"},\"desc\":\"스푸트니크\",\"source\":{\"name\":\"스푸트니크\",\"image\":{\"url\":\"https://s.pstatic.net/dthumb.phinf/?src=%22https%3A%2F%2Fs.pstatic.net%2Fpost.phinf%2FMjAyMDEyMjZfNjgg%2FMDAxNjA4OTc0NjEwODM3.Dy1ZI-soz94naj3rhg516fY7LuAy-u_1r994gytyzugg.MCxC_GMwasi97EAsmMX8wUccAgpB1cyUj6kPBNpRj8cg.JPEG%2Fpost_665389228577463991.jpg%3Ftype%3Df200_200%22&type=nf96_96&service=navermain\"}},\"_id\":\"6441ca92c499cc07f334c439\"},{\"@type\":\"MATERIAL-PC-FEED\",\"title\":\"‘이런’ 어른 되고 싶어요! 윗세대와 달라진 Z세대의 롤 모델은?\",\"url\":\"https://contents.premium.naver.com/careets/insight/contents/231206155023261gp\",\"image\":{\"url\":\"https://s.pstatic.net/dthumb.phinf/?src=%22https%3A%2F%2Fs.pstatic.net%2Fscs.phinf%2FMjAyMzEyMDZfMTEx%2FMDAxNzAxODQ0NTk0NjA0.nw4_zdpOrjrdz11-LVz0p8hdz-ygNe7RenaeMeCJ8Xwg.qy67Er03pYzmD51yPHKVLaSXEof64e5SisHNLUlWYDgg.PNG%2F7623f9b2-bf98-4b42-bb50-9a827af2b9fe_770x426.png%22&type=nf308_200&service=navermain\"},\"desc\":\"캐릿\",\"source\":{\"name\":\"캐릿\",\"image\":{\"url\":\"https://s.pstatic.net/dthumb.phinf/?src=%22https%3A%2F%2Fs.pstatic.net%2Fscs.phinf%2FMjAyMTA1MTFfMTc1%2FMDAxNjIwNzE3OTM2ODc4.8TmAaBkUseCr96FTowkUrOXAmtTD80DPc8UV5tCAhPAg.A0zDEsYwr0PmIuk5OED3FmkdDoErVqZgqTcOuhMmQOEg.JPEG%2Fimage%257Cpremium%257Cchannel%257Cinsight%257C2021%257C05%257C11%257C1620717936853.jpg%22&type=nf96_96&service=navermain\"}},\"labels\":[{\"type\":\"paid\",\"text\":null}],\"_id\":\"6441ca92c499cc07f334c43a\"},{\"@type\":\"MATERIAL-PC-FEED\",\"title\":\"‘실연’과 ‘실현’은 어떻게 다를까?\",\"url\":\"https://blog.naver.com/areumkor/223293907432\",\"image\":{\"url\":\"https://s.pstatic.net/dthumb.phinf/?src=%22http%3A%2F%2Fblogfiles.naver.net%2FMjAyMzEyMTVfMjE3%2FMDAxNzAyNjMzOTQyMDg5.yQK2ZlWL9HNulsgviP5GjP_oZQhOHw9f783t8thSOIgg.T88Opzz1L25StzJtxNhGEGuiGvWvKUgVjbMex8-hpxQg.JPEG.areumkor%2F1.jpg%22&type=nf308_200&service=navermain\"},\"desc\":\"국립국어원\",\"source\":{\"name\":\"국립국어원\",\"image\":{\"url\":\"https://s.pstatic.net/dthumb.phinf/?src=%22http%3A%2F%2Fblogpfthumb.phinf.naver.net%2FMjAxODEwMjVfMTg5%2FMDAxNTQwNDM1MjcxODEz.eU59p3QOADL1y-u5UyWyivdlBDtWT2QnYJkdVxGkevIg.6m2SocARCLbH6ycVuHMJ2KGb8OWPCG0iqbUOEs15JXkg.JPEG.areumkor%2F%25B1%25B9%25B8%25B3%25B1%25B9%25BE%25EE%25BF%25F8_%25B7%25CE%25B0%25ED.jpg%22&type=nf96_96&service=navermain\"}},\"_id\":\"6441ca92c499cc07f334c43b\"},{\"@type\":\"MATERIAL-PC-FEED\",\"title\":\"토지와 건물 공유관계인 상태에서 건물 일부 지분이 매각된 경우, 법정지상권의 인정여부\",\"url\":\"https://contents.premium.naver.com/ysp0722/ysp0723/contents/231218101927286pp\",\"image\":{\"url\":\"https://s.pstatic.net/dthumb.phinf/?src=%22https%3A%2F%2Fs.pstatic.net%2Fscs.phinf%2FMjAyMzExMjhfOTQg%2FMDAxNzAxMTM4NDIwNzQx.hnmwaUR4pReK9NTi7dfoSiNwGHR5CY7obs2ZHqqm4pEg.xvZ-Yzmq7zCbGpiFTscc2LVu9_KTEwT2zVn0_vwDnR4g.JPEG%2F%EB%82%B4%EC%82%AC%EC%A7%842.jpg%22&type=nf308_200&service=navermain\"},\"desc\":\"법을 밥먹듯이 설명해 주는 변호사\",\"source\":{\"name\":\"법을 밥먹듯이 설명해 주는 변호사\",\"image\":{\"url\":\"https://s.pstatic.net/dthumb.phinf/?src=%22https%3A%2F%2Fs.pstatic.net%2Fscs.phinf%2FMjAyMjEwMjZfNDcg%2FMDAxNjY2NzQ2NDM0NDMw.Ywa63KkOtjlCZI-oNtIuelCZlWneymoxuPUVGso69pAg.ARU4hG2lCHxp_D8rJPTZkLj3PGtPohmzbjx3TckLjYIg.JPEG%2Fimage%257Cpremium%257Cchannel%257Cysp0722%257C2022%257C10%257C26%257C1666746434403.jpg%22&type=nf96_96&service=navermain\"}},\"labels\":[{\"type\":\"paid\",\"text\":null}],\"_id\":\"6441ca92c499cc07f334c43c\"},{\"@type\":\"MATERIAL-PC-FEED\",\"title\":\"텅빈 동해하늘과 북한 탄도탄 근황\",\"url\":\"https://blog.naver.com/ranto28/223295968781\",\"image\":{\"url\":\"https://s.pstatic.net/dthumb.phinf/?src=%22http%3A%2F%2Fblogfiles.naver.net%2FMjAyMzEyMThfODcg%2FMDAxNzAyODU3MDgzMzU0.v8pG-fE5hdnfWLyiEiGWDrCYGr8qdAriqF-3xCBtgyQg.9GGGfSvqS7iH__cgR09fa9f8SXnIXI498mePkErmTH0g.JPEG.ranto28%2FIMG_6798.jpg%22&type=nf308_200&service=navermain\"},\"desc\":\"메르\",\"source\":{\"name\":\"메르\",\"image\":{\"url\":\"https://s.pstatic.net/dthumb.phinf/?src=%22http%3A%2F%2Fblogpfthumb.phinf.naver.net%2FMjAyMjAzMjZfMjAy%2FMDAxNjQ4MjIxNzMyNzE0.KSBsjtPAqXxRRTL2S1_nAUpmn7ZL1Kn50O72GxxM_Ngg.mS2ZxAaLIa9i5tPWuEpi8C_G5qgYFAOqbwWn9G2lhscg.PNG.ranto28%2F2022-03-23_07%253B05%253B10_.png%2F2022-03-23%2B07%253B05%253B10_.png%22&type=nf96_96&service=navermain\"}},\"_id\":\"6441ca92c499cc07f334c43d\"},{\"@type\":\"MATERIAL-PC-FEED\",\"title\":\"미숫가루를 물에 탔을 때 왜 자꾸 덩어리질까?\",\"url\":\"https://m.post.naver.com/viewer/postView.naver?volumeNo=37043998&memberNo=23825279&vType=VERTICAL\",\"image\":{\"url\":\"https://s.pstatic.net/dthumb.phinf/?src=%22https%3A%2F%2Fs.pstatic.net%2Fpost.phinf%2FMjAyMzEyMTVfMTM2%2FMDAxNzAyNjI0MTUyMjU1.PDVtE9TAZ7fkvqm3o3D5JrUCciwcUxWetz3UDh0Ko7Eg.mJaolIJUCL6I5IuCDsSw3u0QHxYKjiYE1ULQWzFMJ4cg.PNG%2FIlyTEeaXh-2PO3enhzIvpS7SXnYg.jpg%22&type=nf308_200&service=navermain\"},\"desc\":\"사물궁이 잡학지식\",\"source\":{\"name\":\"사물궁이 잡학지식\",\"image\":{\"url\":\"https://s.pstatic.net/dthumb.phinf/?src=%22https%3A%2F%2Fs.pstatic.net%2Fpost.phinf%2FMjAyMzEyMTBfMTgy%2FMDAxNzAyMTg3ODY4MTI2.4r0VRj8vLaNeZpvvoNYIPANchurMUBBpRZJ-LJ0ZaBQg.2OL85fwyhnBxAzJcNwSuY92rlu2DKdpcDdM8DZ08Ivgg.PNG%2Fpost_4181872335216673060.png%3Ftype%3Df200_200%22&type=nf96_96&service=navermain\"}},\"_id\":\"6441ca92c499cc07f334c43e\"},{\"@type\":\"MATERIAL-PC-FEED\",\"title\":\"생텍쥐페리, <어린 왕자> - 동심으로의 불시착\",\"url\":\"https://contents.premium.naver.com/minion/dminion/contents/231218112542220ux\",\"image\":{\"url\":\"https://s.pstatic.net/dthumb.phinf/?src=%22https%3A%2F%2Fs.pstatic.net%2Fscs.phinf%2FMjAyMzEyMThfMTU2%2FMDAxNzAyODY2MDMwNTE1.F3fcv7gui5a1VIToZyD5OcIKQ1VSOUUEn9nAnR9Wmzsg.WDnQTh7PQWyOvzZSMvxunHjzt-cHTI0w9FFtMltVaCog.JPEG%2Flittleprincerev2.jpg%22&type=nf308_200&service=navermain\"},\"desc\":\"글쓰는 편집장\",\"source\":{\"name\":\"글쓰는 편집장\",\"image\":{\"url\":\"https://s.pstatic.net/dthumb.phinf/?src=%22https%3A%2F%2Fs.pstatic.net%2Fscs.phinf%2FMjAyMzAyMTVfMTgw%2FMDAxNjc2NDU1ODA5MDAy.wJXqJEx7WWnw-EW4NQQ5RRWx6YWPxf--M5RX0FA2UCcg.VFKFj7xRB9IYnNj7iI1tp1vz8LJuyZA3rmQWkW09XUUg.PNG%2Fimage%257Cpremium%257Cchannel%257Cminion%257C2023%257C02%257C15%257C1676455808978.png%22&type=nf96_96&service=navermain\"}},\"labels\":[{\"type\":\"free\",\"text\":null}],\"_id\":\"6441ca92c499cc07f334c43f\"},{\"@type\":\"MATERIAL-PC-FEED\",\"title\":\"[예고] 우리가 몰랐던 크리스마스의 모든 진실\",\"url\":\"https://m.tv.naver.com/v/44387207\",\"image\":{\"url\":\"https://s.pstatic.net/dthumb.phinf/?src=%22https%3A%2F%2Fs.pstatic.net%2Ftvcast.phinf%2F20231215_26%2FIorw3_1702625250977NPY25_JPEG%2F43b281ba-b3e4-4b1c-8668-1ef143a649d5_B.jpg%22&type=nf308_200&service=navermain\"},\"desc\":\"벌거벗은 세계사\",\"source\":{\"name\":\"벌거벗은 세계사\",\"image\":{\"url\":\"https://s.pstatic.net/dthumb.phinf/?src=%22https%3A%2F%2Fs.pstatic.net%2Ftvcast.phinf%2F20210121_56%2FpVkIK_1611216554307RGDDb_JPEG%2Ff056457d-879f-4d4d-bfc6-ae05931a978e.jpg%22&type=nf96_96&service=navermain\"}},\"video\":{\"playTime\":\"00:15\"},\"_id\":\"6441ca92c499cc07f334c440\"}],\"excludeInPaging\":false,\"positionForPaging\":0,\"realtime\":false,\"needCologger\":false,\"ad\":false,\"@type\":\"PC-FEED-BLOCK\",\"@code\":\"PC-FEED-LECTURE-AIRS-0\",\"@template\":\"TWO-COLUMNS\"},{\"@type\":\"PC-FEED-BLOCK\",\"blocks\":[{\"@type\":\"PC-FEED-BLOCK\",\"excludeInPaging\":false,\"positionForPaging\":0,\"realtime\":false,\"needCologger\":false,\"ad\":false,\"@type\":\"PC-FEED-BLOCK\",\"@template\":\"NONE\"}],\"excludeInPaging\":false,\"positionForPaging\":0,\"realtime\":false,\"needCologger\":false,\"ad\":false,\"@type\":\"PC-FEED-BLOCK\",\"@code\":\"PC-FEED-LECTURE-INTEREST-CONTENTS\",\"@template\":\"HIGHLIGHTED-COLUMNS\"},{\"@type\":\"PC-FEED-BLOCK\",\"materials\":[{\"@type\":\"MATERIAL-PC-FEED\",\"title\":\"고려거란전쟁 프리퀄. 여요전쟁이 있기전 혼란 그 자체였던 한반도, 중국, 만주의 정세\",\"url\":\"https://blog.naver.com/satamguatam/223295650436\",\"image\":{\"url\":\"https://s.pstatic.net/dthumb.phinf/?src=%22http%3A%2F%2Fblogfiles.naver.net%2FMjAyMzEyMTdfMjky%2FMDAxNzAyODIwMjA5MzA0.ByqyfrL3bYxS1Lclljat3USNOC5XM-rhY-lm1P3JIXMg.pSW8nsNKo_rlfrvcHsxswvrpIT-tIjil_d5Y6KR9sIEg.JPEG.satamguatam%2F312121.jpg%22&type=nf308_200&service=navermain\"},\"desc\":\"사건탐구 과거탐구\",\"source\":{\"name\":\"사건탐구 과거탐구\",\"image\":{\"url\":\"https://s.pstatic.net/dthumb.phinf/?src=%22http%3A%2F%2Fblogpfthumb.phinf.naver.net%2FMjAyMTA2MTBfMjIw%2FMDAxNjIzMjU4NjgyOTI5.CIbbmz2Dfru9S4QwTYRJdsIc3yFA7dl3kiN6VwJh50Ug.JYfdtqoznovtlXYTF5n3a-AaeJCav8SCSPuRqSd1PIUg.JPEG.satamguatam%2F%25EC%2582%25AC%25ED%2583%2590%25EA%25B3%25BC%25ED%2583%2590%2B%25EB%25A1%259C%25EA%25B3%25A05.jpg%22&type=nf96_96&service=navermain\"}},\"_id\":\"6441ca92c499cc07f334c441\"},{\"@type\":\"MATERIAL-PC-FEED\",\"title\":\"국내 대드론체계 사업 현황\",\"url\":\"https://contents.premium.naver.com/jhst3103/sheldon/contents/231218003548035qi\",\"image\":{\"url\":\"https://s.pstatic.net/dthumb.phinf/?src=%22https%3A%2F%2Fs.pstatic.net%2Fscs.phinf%2FMjAyMzEyMThfMjkg%2FMDAxNzAyODI1NDk5Mzc4.GzM-lYu2xhhvHb4McxlRJohENMfZZchBDKph18qpXNIg.cHSMy1a5MhqfQbQTmLIuN-Sc89i91gC5PuMzff7g8kIg.PNG%2F1689084516431767.png%22&type=nf308_200&service=navermain\"},\"desc\":\"쉘든의 밀리터리\",\"source\":{\"name\":\"쉘든의 밀리터리\",\"image\":{\"url\":\"https://s.pstatic.net/dthumb.phinf/?src=%22https%3A%2F%2Fs.pstatic.net%2Fscs.phinf%2FMjAyMTA3MTlfMTA0%2FMDAxNjI2NjkwNTYzNzE3.7dWSmTwL4DYce6QM8wBdt9aPQHpjv4X4TOksF1oaIhYg.85lvnC0c82MBbV5GUwdrcnXEfFJGQh1Nn6M6vBH8zssg.PNG%2Fimage%257Cpremium%257Cchannel%257Cjhst3103%257Csheldon%257C2021%257C07%257C19%257C1626690563419.png%22&type=nf96_96&service=navermain\"}},\"labels\":[{\"type\":\"paid\",\"text\":null}],\"_id\":\"6441ca92c499cc07f334c442\"},{\"@type\":\"MATERIAL-PC-FEED\",\"title\":\"미셸 들라크루아 파리의 벨 에포크 전시회-얼리버드 티켓 예약 관람 후기\",\"url\":\"https://blog.naver.com/jellypoly/223295650544\",\"image\":{\"url\":\"https://s.pstatic.net/dthumb.phinf/?src=%22http%3A%2F%2Fblogfiles.naver.net%2FMjAyMzEyMTdfMTgz%2FMDAxNzAyODIwMzA4NjIy.Jj4KnRFcMUooClDVYBfzf5QgFLQf_kdPfOT5ErESj98g.xn635ssqXbaRI6tW9SvZD08sTatCPHjGxFb0ScvYpeIg.JPEG.jellypoly%2Foutput_1739935598.jpg%22&type=nf308_200&service=navermain\"},\"desc\":\"윤사서\",\"source\":{\"name\":\"윤사서\",\"image\":{\"url\":\"https://s.pstatic.net/dthumb.phinf/?src=%22http%3A%2F%2Fblogpfthumb.phinf.naver.net%2FMjAyMzA0MDdfNjkg%2FMDAxNjgwODYxNTMyMjU1.wrnLv9EisCHJzefWBnsDAm6Qm159BMUCPFvUxY9NuDkg.RCrqFQNTWDV1SFiYb1fqqOb50weZOFbcsa3Ry4qDUGEg.PNG.jellypoly%2FprofileImage.png%22&type=nf96_96&service=navermain\"}},\"_id\":\"6441ca92c499cc07f334c443\"},{\"@type\":\"MATERIAL-PC-FEED\",\"title\":\"탱크가 레고처럼 생긴 장갑을 두른 이유\",\"url\":\"https://now.naver.com/h/44013323\",\"image\":{\"url\":\"https://s.pstatic.net/dthumb.phinf/?src=%22https%3A%2F%2Fs.pstatic.net%2Ftvcast.phinf%2F20231208_267%2FKAa97_1701995789343pVeDW_PNG%2F1701995743779.png%22&type=nf308_200&service=navermain\"},\"desc\":\"테크플러스TV\",\"source\":{\"name\":\"테크플러스TV\",\"image\":{\"url\":\"https://s.pstatic.net/dthumb.phinf/?src=%22https%3A%2F%2Fs.pstatic.net%2Ftvcast.phinf%2F20200309_90%2F9CWUm_1583715942449EolRf_JPEG%2F1583715942421.jpg%22&type=nf96_96&service=navermain\"}},\"video\":{\"playTime\":\"00:57\"},\"_id\":\"6441ca92c499cc07f334c444\"},{\"@type\":\"MATERIAL-PC-FEED\",\"title\":\"지중해 첫 석기시대 선박 흔적 나올까\",\"url\":\"https://m.post.naver.com/viewer/postView.naver?volumeNo=37053063&memberNo=156429&vType=VERTICAL\",\"image\":{\"url\":\"https://s.pstatic.net/dthumb.phinf/?src=%22https%3A%2F%2Fs.pstatic.net%2Fpost.phinf%2FMjAyMzEyMThfMTE1%2FMDAxNzAyODYwOTk0OTE3.0sZTCs9SzQJsBWNDPzmRE0f9AOg5FkLuYfYose3_DbAg.KWVIzdhHwxsrRcUSFkmnJOiR6NtISdMeHJqKg-TPF48g.JPEG%2FIWlHe_uUHHgaPrOkr8SK5K2bGwBI.jpg%22&type=nf308_200&service=navermain\"},\"desc\":\"스푸트니크\",\"source\":{\"name\":\"스푸트니크\",\"image\":{\"url\":\"https://s.pstatic.net/dthumb.phinf/?src=%22https%3A%2F%2Fs.pstatic.net%2Fpost.phinf%2FMjAyMDEyMjZfNjgg%2FMDAxNjA4OTc0NjEwODM3.Dy1ZI-soz94naj3rhg516fY7LuAy-u_1r994gytyzugg.MCxC_GMwasi97EAsmMX8wUccAgpB1cyUj6kPBNpRj8cg.JPEG%2Fpost_665389228577463991.jpg%3Ftype%3Df200_200%22&type=nf96_96&service=navermain\"}},\"_id\":\"6441ca92c499cc07f334c445\"},{\"@type\":\"MATERIAL-PC-FEED\",\"title\":\"[기초화학] 반드시 알아야 하는 화학1 개념 <3장>- 몰(mole) 개념\",\"url\":\"https://contents.premium.naver.com/dreamchemistory/dreamchemi/contents/231130224039361cr\",\"image\":{\"url\":\"https://s.pstatic.net/dthumb.phinf/?src=%22https%3A%2F%2Fs.pstatic.net%2Fscs.phinf%2FMjAyMzExMzBfMjgz%2FMDAxNzAxMzMxNDE3OTAw.ukYEak7BO5fQlJWX8XxVFF5ifBW847s6pAZpSbXCZeQg.9_sn5f8gMDuxPiUA3hZyJsMT4oYxZoRifiZz-a9b73Qg.PNG%2Fboard-g6a7e11d4b_1920.png%22&type=nf308_200&service=navermain\"},\"desc\":\"이야기를 품은 화학\",\"source\":{\"name\":\"이야기를 품은 화학\",\"image\":{\"url\":\"https://s.pstatic.net/dthumb.phinf/?src=%22https%3A%2F%2Fs.pstatic.net%2Fscs.phinf%2FMjAyMjAyMjVfMTkw%2FMDAxNjQ1NzY4MjQ0MTgy.ZpPHBIK77nmMshkjMxnfK8_ddv452xG5ePKD5sx14xsg._Ce0ZaZsSgs4BART6WFEk27UKxPkI3FDNwohYIG_mL0g.JPEG%2Fimage%257Cpremium%257Cchannel%257Cdreamchemistory%257C2022%257C02%257C25%257C1645768244031.jpg%22&type=nf96_96&service=navermain\"}},\"labels\":[{\"type\":\"free\",\"text\":null}],\"_id\":\"6441ca92c499cc07f334c446\"},{\"@type\":\"MATERIAL-PC-FEED\",\"title\":\"아버지를 아버지라 부르지 못하고 ··· 우리가 알던 사실과 다른 홍길동이 집을 나간 이유 #highlight\",\"url\":\"https://m.tv.naver.com/v/44334881\",\"image\":{\"url\":\"https://s.pstatic.net/dthumb.phinf/?src=%22https%3A%2F%2Fs.pstatic.net%2Ftvcast.phinf%2F20231214_84%2FJGgdB_17025430576283hfpC_JPEG%2F8a009228-953c-45f0-83f0-2a01fd991e8e_B.jpg%22&type=nf308_200&service=navermain\"},\"desc\":\"벌거벗은 한국사\",\"source\":{\"name\":\"벌거벗은 한국사\",\"image\":{\"url\":\"https://s.pstatic.net/dthumb.phinf/?src=%22https%3A%2F%2Fs.pstatic.net%2Ftvcast.phinf%2F20220418_48%2FkohCq_16502603564782qxms_JPEG%2F5b8057ba-2954-4adb-a7b0-586b7a49d7de.jpg%22&type=nf96_96&service=navermain\"}},\"video\":{\"playTime\":\"17:12\"},\"_id\":\"6441ca92c499cc07f334c447\"},{\"@type\":\"MATERIAL-PC-FEED\",\"title\":\"어도비 프로그램 디자인 이렇게 바뀐다\",\"url\":\"https://contents.premium.naver.com/techdigest/tdigest/contents/231218073245009fx\",\"image\":{\"url\":\"https://s.pstatic.net/dthumb.phinf/?src=%22https%3A%2F%2Fs.pstatic.net%2Fscs.phinf%2FMjAyMzEyMTRfMjY2%2FMDAxNzAyNTM1NDQ2MjY4.hVcGiBffhDjKqtJAJVQqXesYsEOgouabHoPTyIvrQiEg.mV3IUXfHL549r0sGmGBsTzIePeXFRekSnhUCwMqdk0Yg.JPEG%2F001.jpg%22&type=nf308_200&service=navermain\"},\"desc\":\"테크 다이제스트\",\"source\":{\"name\":\"테크 다이제스트\",\"image\":{\"url\":\"https://s.pstatic.net/dthumb.phinf/?src=%22https%3A%2F%2Fs.pstatic.net%2Fscs.phinf%2FMjAyMTEwMDZfMTE4%2FMDAxNjMzNDgwMzkyODYy.lcaN7IhwrLQ3vDP5U-0t7OLHgzTAAlzu7D9faLkDHQYg.paqLood3k3oaLq9jrJTjmCq5gYKFxlnWWC5K9uvomR0g.JPEG%2Fimage%257Cpremium%257Cchannel%257Ctechdigest%257C2021%257C10%257C06%257C1633480392844.jpg%22&type=nf96_96&service=navermain\"}},\"labels\":[{\"type\":\"free\",\"text\":null}],\"_id\":\"6441ca92c499cc07f334c448\"}],\"excludeInPaging\":false,\"positionForPaging\":0,\"realtime\":false,\"needCologger\":false,\"ad\":false,\"@type\":\"PC-FEED-BLOCK\",\"@code\":\"PC-FEED-LECTURE-AIRS-1\",\"@template\":\"TWO-COLUMNS\"},{\"@type\":\"PC-FEED-BLOCK\",\"materials\":[{\"@type\":\"MATERIAL-PC-FEED\",\"title\":\"독일, 전기차 보조금 지급 전격중단 근황\",\"url\":\"https://blog.naver.com/ranto28/223295452160\",\"image\":{\"url\":\"https://s.pstatic.net/dthumb.phinf/?src=%22http%3A%2F%2Fblogfiles.naver.net%2FMjAyMzEyMTdfNDEg%2FMDAxNzAyODA0MDM0MTY5.wKcQeUHU29taWlMs0yP3DyFF-mnVGayYhT_XOF5ccEgg.FwZCZ0B7d0sHQEEJC6lw6CIj0IZBucTtX7jCkAf8LOMg.JPEG.ranto28%2Fphoto-1571987502227-9231b837d92a.jpg%22&type=f222_222&service=navermain\"},\"desc\":\"메르\",\"source\":{\"name\":\"메르\",\"image\":{\"url\":\"http://blogpfthumb.phinf.naver.net/MjAyMjAzMjZfMjAy/MDAxNjQ4MjIxNzMyNzE0.KSBsjtPAqXxRRTL2S1_nAUpmn7ZL1Kn50O72GxxM_Ngg.mS2ZxAaLIa9i5tPWuEpi8C_G5qgYFAOqbwWn9G2lhscg.PNG.ranto28/2022-03-23_07%3B05%3B10_.png/2022-03-23+07%3B05%3B10_.png\"}},\"_id\":\"64ee087d58a9ce6eb3d4dd79\"},{\"@type\":\"MATERIAL-PC-FEED\",\"title\":\"2호 고쳤더니 1호...'보이저' 또 고장\",\"url\":\"https://m.post.naver.com/viewer/postView.naver?volumeNo=37048527&memberNo=156429&vType=VERTICAL\",\"image\":{\"url\":\"https://s.pstatic.net/dthumb.phinf/?src=%22https%3A%2F%2Fs.pstatic.net%2Fpost.phinf%2FMjAyMzEyMTZfMTc2%2FMDAxNzAyNzI1MzI5NjY1.Az5DKE3uENld2lzwfEtv0oqjoh3IGosG62pvaS4q3dAg.qGwwPX8SI8DzzBseYomwpo46E4qKzV4c67gYEOZlRJQg.JPEG%2FI_foY8cO4nq_SLNtQO3WjqTeDnmA.jpg%22&type=f222_222&service=navermain\"},\"desc\":\"스푸트니크\",\"source\":{\"name\":\"스푸트니크\",\"image\":{\"url\":\"https://s.pstatic.net/post.phinf/MjAyMDEyMjZfNjgg/MDAxNjA4OTc0NjEwODM3.Dy1ZI-soz94naj3rhg516fY7LuAy-u_1r994gytyzugg.MCxC_GMwasi97EAsmMX8wUccAgpB1cyUj6kPBNpRj8cg.JPEG/post_665389228577463991.jpg?type=f200_200\"}},\"_id\":\"64ee087d58a9ce6eb3d4dd7a\"},{\"@type\":\"MATERIAL-PC-FEED\",\"title\":\"[연인과 부부 ⑭] 가수 이난영의 두 남자 김해송과 남인수… ‘천재 뮤지션’ 남편(김해송)과는 생이별하고 ‘가요계의 거성’ 동거남(남인수)과는 사별\",\"url\":\"https://contents.premium.naver.com/hisdocu/histour/contents/231217202945647ba\",\"image\":{\"url\":\"https://s.pstatic.net/dthumb.phinf/?src=%22https%3A%2F%2Fs.pstatic.net%2Fscs.phinf%2FMjAyMzEyMTdfMTE3%2FMDAxNzAyODEyMDAwMjI5._dYvcmnbVNM748F5L3F1nE-NWUtAdULOGZgoQb3jJCgg.mX4qTmpYYL2zm0Ru3l57xzh1R5jAlgseFHibyMcMzokg.JPEG%2F%EC%99%BC%EC%AA%BD%EB%B6%80%ED%84%B0_%EA%B9%80%ED%95%B4%EC%86%A1%2C_%EC%9D%B4%EB%82%9C%EC%98%81%2C_%EB%82%A8%EC%9D%B8%EC%88%98.jpg%22&type=f222_222&service=navermain\"},\"desc\":\"김정형의 근현대 기행\",\"source\":{\"name\":\"김정형의 근현대 기행\",\"image\":{\"url\":\"https://s.pstatic.net/scs.phinf/MjAyMzA5MTFfMjYx/MDAxNjk0MzkxMDY2MTgx.z6wVjyHOrT7_n4MvwA8sSRcOhDMcPCrOKe28KWF1198g.F8Qpv2Xy8GXk7kAYv9dJqGDzWxrx8po5wS3H9tqKSyog.JPEG/image%7Cpremium%7Cchannel%7Chisdocu%7C2023%7C09%7C11%7C1694391066167.jpg\"}},\"labels\":[{\"type\":\"paid\",\"text\":null}],\"_id\":\"64ee087d58a9ce6eb3d4dd7b\"},{\"@type\":\"MATERIAL-PC-FEED\",\"title\":\"하나된 다이소 온라인, 주목할 변화 4가지\",\"url\":\"https://contents.premium.naver.com/byline/commercebn/contents/231216170725435io\",\"image\":{\"url\":\"https://s.pstatic.net/dthumb.phinf/?src=%22https%3A%2F%2Fs.pstatic.net%2Fscs.phinf%2FMjAyMzEyMTVfMjIx%2FMDAxNzAyNjQzOTc5OTUw.9hUDYu8ygkQEMscZI0qsNhM_60Ln6JG0YgPJt_7D3gEg.CMKTumYj6hOG_H-4Cmks4bH3oUV7KNvHeM5NxN6DCeIg.JPEG%2F%EB%8B%A4%EC%9D%B4%EC%86%8C%EB%AA%B0_%EA%B3%B5%EC%A7%80_1%EB%B2%88.jpeg%22&type=f222_222&service=navermain\"},\"desc\":\"커머스BN\",\"source\":{\"name\":\"커머스BN\",\"image\":{\"url\":\"https://s.pstatic.net/scs.phinf/MjAyMTA1MTJfMTI5/MDAxNjIwODEyMDg4NTUw.eNUZOSW2l3aNCbEpnSHumTyvXyNki7QSGcgvCKWFjBgg._wpmFFD-YJnZoAqkr5C2W-lMRnJTEijuXI9spzp89rIg.JPEG/image%7Cpremium%7Cchannel%7Cbyline%7Ccommercebn%7C2021%7C05%7C12%7C1620812088519.jpg\"}},\"labels\":[{\"type\":\"paid\",\"text\":null}],\"_id\":\"64ee087d58a9ce6eb3d4dd7c\"},{\"@type\":\"MATERIAL-PC-FEED\",\"title\":\"2023년 올해의 국제 웨딩 사진 공모전 수상작들\",\"url\":\"https://m.post.naver.com/viewer/postView.naver?volumeNo=37026405&memberNo=21060&vType=VERTICAL\",\"image\":{\"url\":\"https://s.pstatic.net/dthumb.phinf/?src=%22https%3A%2F%2Fs.pstatic.net%2Fpost.phinf%2FMjAyMzEyMTJfMTUz%2FMDAxNzAyMzEwMTI5NTM5.PVtTZ_gRtXnb9Xw4vHZlRqoWp1Z1pAAeeGVzqAfVCRsg.tWXFUfD6dmQghFVg-ak0CHj3rAlzbsfi-H5HBmvPLxMg.JPEG%2FI2rAr3dFGjiKJnQ45xOAgCeIP9s4.jpg%22&type=f222_222&service=navermain\"},\"desc\":\"썬도그\",\"source\":{\"name\":\"썬도그\",\"image\":{\"url\":\"https://s.pstatic.net/post.phinf/20131113_259/ifp1592_1384339967725bW26i_JPEG/159780793_3d416709a9.jpg?type=f200_200\"}},\"_id\":\"64ee087d58a9ce6eb3d4dd7d\"},{\"@type\":\"MATERIAL-PC-FEED\",\"title\":\"난데없이 유행한 '스팀덱 냄새 맡기'...밸브 \\\"자제해달라\\\"\",\"url\":\"https://blog.naver.com/tech-plus/223293672597\",\"image\":{\"url\":\"https://s.pstatic.net/dthumb.phinf/?src=%22http%3A%2F%2Fblogfiles.naver.net%2FMjAyMzEyMTVfMjE4%2FMDAxNzAyNjIxMDk0MTYz.Gos5w8vu31Rs6h1jEhzyEaLdUs6_lcfsiMXxnrfMeOIg.e2h8Gmr_4GSYQ-hO4x9MGh2bShNuVNFnEBt-WGnGhI4g.JPEG.tech-plus%2F001_Valve.jpg%22&type=f222_222&service=navermain\"},\"desc\":\"테크플러스\",\"source\":{\"name\":\"테크플러스\",\"image\":{\"url\":\"http://blogpfthumb.phinf.naver.net/MjAxOTA4MjdfMyAg/MDAxNTY2ODkzMDA3ODc5.y7C4Ybnsip2DjrvLkFptceck1G9vYaEYk91p-8NyT6kg.BIMjhjzJ-8dcqFSQV-Z5Chj7e_EkPWJygRXoXSpN114g.JPEG.tech-plus/01logoUntitled-1.JPG\"}},\"_id\":\"64ee087d58a9ce6eb3d4dd7e\"},{\"@type\":\"MATERIAL-PC-FEED\",\"title\":\"탱크가 레고처럼 생긴 장갑을 두른 이유\",\"url\":\"https://now.naver.com/h/44013323\",\"image\":{\"url\":\"https://s.pstatic.net/dthumb.phinf/?src=%22https%3A%2F%2Fs.pstatic.net%2Ftvcast.phinf%2F20231208_267%2FKAa97_1701995789343pVeDW_PNG%2F1701995743779.png%22&type=f222_222&service=navermain\"},\"desc\":\"테크플러스TV\",\"source\":{\"name\":\"테크플러스TV\",\"image\":{\"url\":\"https://s.pstatic.net/tvcast.phinf/20200309_90/9CWUm_1583715942449EolRf_JPEG/1583715942421.jpg\"}},\"video\":{\"playTime\":\"00:57\"},\"_id\":\"64ee087d58a9ce6eb3d4dd7f\"},{\"@type\":\"MATERIAL-PC-FEED\",\"title\":\"엑셀을 잘하기 위한 3가지 필수 원칙!!\",\"url\":\"https://contents.premium.naver.com/exceldevil/excelpremium/contents/231217223337680zc\",\"image\":{\"url\":\"https://s.pstatic.net/dthumb.phinf/?src=%22https%3A%2F%2Fs.pstatic.net%2Fscs.phinf%2FMjAyMzEyMTdfNTgg%2FMDAxNzAyODE5NDI3OTk4.8BD92v7Id3ARcKS1BRXTi-vsTkJcvAHuJkwQT5vV_0Mg.ywbeIj6aqgwncaoK6nmn4E7rNtDa4aqpujA-Ef7WwyEg.PNG%2F001.png%22&type=f222_222&service=navermain\"},\"desc\":\"엑셀마왕의 실무엑셀 프리미엄 콘텐츠\",\"source\":{\"name\":\"엑셀마왕의 실무엑셀 프리미엄 콘텐츠\",\"image\":{\"url\":\"https://s.pstatic.net/scs.phinf/MjAyMjExMDlfMjIy/MDAxNjY3OTg5MDY0NDEw.UtKge8ARdSCzlwc3FgSizVLqLyZbaIc_idcBxPg0aIkg.y_CpQ2GiUwZwUoY_SddYQkyE9Mc2lUNsiUYWS839zeog.JPEG/image%7Cpremium%7Cchannel%7Cexceldevil%7C2022%7C11%7C09%7C1667989064387.jpg\"}},\"labels\":[{\"type\":\"paid\",\"text\":null}],\"_id\":\"64ee087d58a9ce6eb3d4dd80\"},{\"@type\":\"MATERIAL-PC-FEED\",\"title\":\"요 성종. 요나라의 최전성기를 이끌었던 요나라 역사상 최고의 명군이지만 유독 고려만 상대하면 참패했던 인물\",\"url\":\"https://blog.naver.com/satamguatam/223292882033\",\"image\":{\"url\":\"https://s.pstatic.net/dthumb.phinf/?src=%22http%3A%2F%2Fblogfiles.naver.net%2FMjAyMzEyMTRfMjg2%2FMDAxNzAyNTUzMTY0Mzcx.RtrIEzw7kCdmTHo0nMkatk2DdhRih8atEWDlBxneGgQg.Z3m4lrF2AebXtSpa5kTqX0cnKCmz2axoiC9etCBVRMAg.JPEG.satamguatam%2F54156.jpg%22&type=f222_222&service=navermain\"},\"desc\":\"사건탐구 과거탐구\",\"source\":{\"name\":\"사건탐구 과거탐구\",\"image\":{\"url\":\"http://blogpfthumb.phinf.naver.net/MjAyMTA2MTBfMjIw/MDAxNjIzMjU4NjgyOTI5.CIbbmz2Dfru9S4QwTYRJdsIc3yFA7dl3kiN6VwJh50Ug.JYfdtqoznovtlXYTF5n3a-AaeJCav8SCSPuRqSd1PIUg.JPEG.satamguatam/%EC%82%AC%ED%83%90%EA%B3%BC%ED%83%90+%EB%A1%9C%EA%B3%A05.jpg\"}},\"_id\":\"64ee087d58a9ce6eb3d4dd81\"},{\"@type\":\"MATERIAL-PC-FEED\",\"title\":\"고려거란전쟁 프리퀄. 여요전쟁이 있기전 혼란 그 자체였던 한반도, 중국, 만주의 정세\",\"url\":\"https://blog.naver.com/satamguatam/223295650436\",\"image\":{\"url\":\"https://s.pstatic.net/dthumb.phinf/?src=%22http%3A%2F%2Fblogfiles.naver.net%2FMjAyMzEyMTdfMjky%2FMDAxNzAyODIwMjA5MzA0.ByqyfrL3bYxS1Lclljat3USNOC5XM-rhY-lm1P3JIXMg.pSW8nsNKo_rlfrvcHsxswvrpIT-tIjil_d5Y6KR9sIEg.JPEG.satamguatam%2F312121.jpg%22&type=f222_222&service=navermain\"},\"desc\":\"사건탐구 과거탐구\",\"source\":{\"name\":\"사건탐구 과거탐구\",\"image\":{\"url\":\"http://blogpfthumb.phinf.naver.net/MjAyMTA2MTBfMjIw/MDAxNjIzMjU4NjgyOTI5.CIbbmz2Dfru9S4QwTYRJdsIc3yFA7dl3kiN6VwJh50Ug.JYfdtqoznovtlXYTF5n3a-AaeJCav8SCSPuRqSd1PIUg.JPEG.satamguatam/%EC%82%AC%ED%83%90%EA%B3%BC%ED%83%90+%EB%A1%9C%EA%B3%A05.jpg\"}},\"_id\":\"64ee087d58a9ce6eb3d4dd82\"}],\"excludeInPaging\":false,\"positionForPaging\":0,\"realtime\":false,\"title\":\"많이 본 콘텐츠\",\"needCologger\":false,\"ad\":false,\"@type\":\"PC-FEED-BLOCK\",\"@code\":\"PC-FEED-LECTURE-AIRS-BEST\",\"@template\":\"SIX-COLUMNS\"},{\"@type\":\"PC-FEED-BLOCK\",\"materials\":[{\"@type\":\"MATERIAL-PC-FEED\",\"title\":\"달콤한 추억이 생각나는 리얼리즘 작품\",\"url\":\"https://blog.naver.com/vlfdlffh/223295128704\",\"image\":{\"url\":\"https://s.pstatic.net/dthumb.phinf/?src=%22http%3A%2F%2Fblogfiles.naver.net%2FMjAyMzEyMTdfMjE4%2FMDAxNzAyNzM5MDk0NzU2.7Am5l4YW5-btdYZxBAikXOwkSpsIhGk0dH7hozS4qIYg.qeKTsOOc568mdBO0A2BcrZGvjo4OjUWhnK51kQQX1sgg.JPEG.vlfdlffh%2F39.jpg%22&type=nf308_200&service=navermain\"},\"desc\":\"아이디어제로\",\"source\":{\"name\":\"아이디어제로\",\"image\":{\"url\":\"https://s.pstatic.net/dthumb.phinf/?src=%22http%3A%2F%2Fblogpfthumb.phinf.naver.net%2FMjAyMzA5MDhfMzgg%2FMDAxNjk0MTgxOTU1ODkz.YRB-n6gBVkJJ5_iS0COu2L0E8iAlfoQm04CNnFJskqcg.2lQ64JUH2VU43hjv5rqyAy-8miNDRR9CNxUhMFRHS7wg.JPEG.vlfdlffh%2FprofileImage.jpg%22&type=nf96_96&service=navermain\"}},\"_id\":\"6441ca92c499cc07f334c453\"},{\"@type\":\"MATERIAL-PC-FEED\",\"title\":\"대형견 수명 연장\\\"...美 FDA, 강아지용 노화방지제 효능 인정\",\"url\":\"https://m.post.naver.com/viewer/postView.naver?volumeNo=37037777&memberNo=16485321&vType=VERTICAL\",\"image\":{\"url\":\"https://s.pstatic.net/dthumb.phinf/?src=%22https%3A%2F%2Fs.pstatic.net%2Fpost.phinf%2FMjAyMzEyMTRfODQg%2FMDAxNzAyNTMxNjI5Mzk1.ahn1kbA1FQSVDxEqgGVfNDu8SJkxa3R05V0QAv2UPQYg.ikhJq8o543xd0Q8TeRrLi1p-3zpgC0wQwy2g0wsbc-wg.PNG%2FI57MdOw1HxK7OTTvYOzwKDwSuyrI.jpg%22&type=nf308_200&service=navermain\"},\"desc\":\"데일리포스트\",\"source\":{\"name\":\"데일리포스트\",\"image\":{\"url\":\"https://s.pstatic.net/dthumb.phinf/?src=%22https%3A%2F%2Fs.pstatic.net%2Fpost.phinf%2FMjAxOTEyMjJfMTU1%2FMDAxNTc2OTkyMDEyNzQ0.whF7vf7zQfSnYjQMDyU4Iu27MoHnhss2HXlNjUMncDUg.fEO8r6YhQFTV8S3WHyJTtkl1MmvuDvIAgBwGqoTXXnUg.JPEG%2Fpost_2510860009776168724.jpg%3Ftype%3Df200_200%22&type=nf96_96&service=navermain\"}},\"_id\":\"6441ca92c499cc07f334c454\"},{\"@type\":\"MATERIAL-PC-FEED\",\"title\":\"실거주의무 폐지, 내집마련 기회 확장 vs 투기 조장\",\"url\":\"https://contents.premium.naver.com/maekyung/jobschool/contents/231212133824363xc\",\"image\":{\"url\":\"https://s.pstatic.net/dthumb.phinf/?src=%22https%3A%2F%2Fs.pstatic.net%2Fscs.phinf%2FMjAyMzEyMTVfMTY3%2FMDAxNzAyNjIzNjUxNDQ4.4F8-Qu3vSkfu0CZLM5bAnzXRNDb73qoLXyJpHAlgMnkg.OjtHn8lkYAni07sVJxhPwuuuuh1ROdCx8gIODhRC8Tcg.JPEG%2FGYH2023010300150004403_P2.jpg%22&type=nf308_200&service=navermain\"},\"desc\":\"매경테스트 취업스쿨\",\"source\":{\"name\":\"매경테스트 취업스쿨\",\"image\":{\"url\":\"https://s.pstatic.net/dthumb.phinf/?src=%22https%3A%2F%2Fs.pstatic.net%2Fscs.phinf%2FMjAyMTA2MDRfMyAg%2FMDAxNjIyNzgxNTYzNTY2.CsamTk3L7g07P4YSsbE_1LuYTJZsm5Lhqfz3x3bl0SYg.KbWvEiHzP8glTVxrSIuMDpXJCupoYUYCf_1OJa5e_xkg.PNG%2Fimage%257Cpremium%257Cchannel%257Cmaekyung%257Cjobschool%257C2021%257C06%257C04%257C1622781563193.png%22&type=nf96_96&service=navermain\"}},\"labels\":[{\"type\":\"paid\",\"text\":null}],\"_id\":\"6441ca92c499cc07f334c455\"},{\"@type\":\"MATERIAL-PC-FEED\",\"title\":\"은하 사이를 흐르는 대규모 별의 흐름 - 성류(星流) 처음 발견\",\"url\":\"https://m.post.naver.com/viewer/postView.naver?volumeNo=37037940&memberNo=5148059&vType=VERTICAL\",\"image\":{\"url\":\"https://s.pstatic.net/dthumb.phinf/?src=%22https%3A%2F%2Fs.pstatic.net%2Fpost.phinf%2FMjAyMzEyMTRfMTUw%2FMDAxNzAyNTIyMjQzOTU4.zaTnS_dVtidDIF1mRBfpGrzy8sEIry7kka8KeaxZb6wg.upQ9IrJHrXrhZGozHZx-QERU2YYuPI38j-n6RjJa7Ecg.JPEG%2FIrDVllAaplHRcJx_Q_9wKpGVKapc.jpg%22&type=nf308_200&service=navermain\"},\"desc\":\"전파과학사\",\"source\":{\"name\":\"전파과학사\",\"image\":{\"url\":\"https://s.pstatic.net/dthumb.phinf/?src=%22https%3A%2F%2Fs.pstatic.net%2Fpost.phinf%2FMjAxOTAzMDRfMjEg%2FMDAxNTUxNjc1NzU4MzA4.O9fa1KxWQyo1Tfr8ogbywLGMI93-9Tju0AvP6BqdfOAg.Zday92tiCe6Hjin2mJEwra3JBaDYhcT9C2WSc0N6rnMg.JPEG%2Fpost_4434728121113378550.jpg%3Ftype%3Df200_200%22&type=nf96_96&service=navermain\"}},\"_id\":\"6441ca92c499cc07f334c456\"},{\"@type\":\"MATERIAL-PC-FEED\",\"title\":\"럭셔리 SUV의 등장\",\"url\":\"https://contents.premium.naver.com/koosangdesign/knowledge/contents/231214110649382mc\",\"image\":{\"url\":\"https://s.pstatic.net/dthumb.phinf/?src=%22https%3A%2F%2Fs.pstatic.net%2Fscs.phinf%2FMjAyMzEyMTRfNjIg%2FMDAxNzAyNTE5MTIxMjg4.qbpqlvKKXqq7ofu5kvphWsFgQpulK_FA0aaqfOIfW7Ig.aKgh7SJd_oiMTldrjV9xOpWoLLr20WlHRiJhmJRVrTcg.JPEG%2F1.jpg%22&type=nf308_200&service=navermain\"},\"desc\":\"구상 교수의 모빌리티 디자인 구상\",\"source\":{\"name\":\"구상 교수의 모빌리티 디자인 구상\",\"image\":{\"url\":\"https://s.pstatic.net/dthumb.phinf/?src=%22https%3A%2F%2Fs.pstatic.net%2Fscs.phinf%2FMjAyMjA2MDhfNTYg%2FMDAxNjU0NjUwNDg1NTM4.skUO-zRMk99lEF3nUTSutcz2xU9IrATDE_NKs2SxaI4g.zBv3EULV2dffGx8JyZyC_r7e3A4vviyxW9-HE2ZhwmAg.JPEG%2Fimage%257Cpremium%257Cchannel%257Ckoosangdesign%257C2022%257C06%257C08%257C1654650485268.jpg%22&type=nf96_96&service=navermain\"}},\"labels\":[{\"type\":\"free\",\"text\":null}],\"_id\":\"6441ca92c499cc07f334c457\"},{\"@type\":\"MATERIAL-PC-FEED\",\"title\":\"왕건의 참패, 패배의 흔적들 | KBS 231210 방송\",\"url\":\"https://m.tv.naver.com/v/44119513\",\"image\":{\"url\":\"https://s.pstatic.net/dthumb.phinf/?src=%22https%3A%2F%2Fs.pstatic.net%2Ftvcast.phinf%2F20231210_44%2FFHWlj_1702216298089Hadcb_PNG%2F2bITuOKVS1EL.png%22&type=nf308_200&service=navermain\"},\"desc\":\"역사저널 그날\",\"source\":{\"name\":\"역사저널 그날\",\"image\":{\"url\":\"https://s.pstatic.net/dthumb.phinf/?src=%22https%3A%2F%2Fs.pstatic.net%2Ftvcast.phinf%2F20200204_284%2FT691J_15807796045196DMhW_JPEG%2FvNEIXkxqIReC.jpg%22&type=nf96_96&service=navermain\"}},\"video\":{\"playTime\":\"06:00\"},\"_id\":\"6441ca92c499cc07f334c458\"},{\"@type\":\"MATERIAL-PC-FEED\",\"title\":\"난데없이 유행한 '스팀덱 냄새 맡기'...밸브 \\\"자제해달라\\\"\",\"url\":\"https://blog.naver.com/tech-plus/223293672597\",\"image\":{\"url\":\"https://s.pstatic.net/dthumb.phinf/?src=%22http%3A%2F%2Fblogfiles.naver.net%2FMjAyMzEyMTVfMjE4%2FMDAxNzAyNjIxMDk0MTYz.Gos5w8vu31Rs6h1jEhzyEaLdUs6_lcfsiMXxnrfMeOIg.e2h8Gmr_4GSYQ-hO4x9MGh2bShNuVNFnEBt-WGnGhI4g.JPEG.tech-plus%2F001_Valve.jpg%22&type=nf308_200&service=navermain\"},\"desc\":\"테크플러스\",\"source\":{\"name\":\"테크플러스\",\"image\":{\"url\":\"https://s.pstatic.net/dthumb.phinf/?src=%22http%3A%2F%2Fblogpfthumb.phinf.naver.net%2FMjAxOTA4MjdfMyAg%2FMDAxNTY2ODkzMDA3ODc5.y7C4Ybnsip2DjrvLkFptceck1G9vYaEYk91p-8NyT6kg.BIMjhjzJ-8dcqFSQV-Z5Chj7e_EkPWJygRXoXSpN114g.JPEG.tech-plus%2F01logoUntitled-1.JPG%22&type=nf96_96&service=navermain\"}},\"_id\":\"6441ca92c499cc07f334c459\"},{\"@type\":\"MATERIAL-PC-FEED\",\"title\":\"상사업계가 지금 인도네시아에 주목하는 이유는?\",\"url\":\"https://m.post.naver.com/viewer/postView.naver?volumeNo=37038622&memberNo=54403673&vType=VERTICAL\",\"image\":{\"url\":\"https://s.pstatic.net/dthumb.phinf/?src=%22https%3A%2F%2Fs.pstatic.net%2Fpost.phinf%2FMjAyMzEyMTRfMjk4%2FMDAxNzAyNTM4OTk1NjQx.Zlr5vzmxHY4fijrZqWPy0IpsWTZGexFSxS43hHL_J2cg.q3XJIPwrfBi-xDoV7ZD5EnNgj731hmkL2D4oNwrDHgUg.PNG%2FI5Naid6SaHsl2-2L_0rPlsfvkLts.jpg%22&type=nf308_200&service=navermain\"},\"desc\":\"LX인터내셔널\",\"source\":{\"name\":\"LX인터내셔널\",\"image\":{\"url\":\"https://s.pstatic.net/dthumb.phinf/?src=%22https%3A%2F%2Fs.pstatic.net%2Fpost.phinf%2FMjAyMTA2MjlfMjQy%2FMDAxNjI0OTU5NTg5NTA3.wFI74hZyaay4Fk0xv5gbOIDPcAniGSJr6o71_MPKp3Ug.5jEAywYEeYoQwL9Z75-eU6c68JYc0C9gqZxJcLZgX-Ug.JPEG%2Fpost_4690542793953036190.jpg%3Ftype%3Df200_200%22&type=nf96_96&service=navermain\"}},\"_id\":\"6441ca92c499cc07f334c45a\"}],\"excludeInPaging\":false,\"positionForPaging\":0,\"realtime\":false,\"needCologger\":false,\"ad\":false,\"@type\":\"PC-FEED-BLOCK\",\"@code\":\"PC-FEED-LECTURE-AIRS-2\",\"@template\":\"TWO-COLUMNS\"},{\"@type\":\"PC-FEED-BLOCK\",\"materials\":[{\"@type\":\"MATERIAL-PC-FEED\",\"title\":\"인류에 가장 큰 영향을 끼친 경제학 고전 ①\",\"url\":\"https://contents.premium.naver.com/finance/knowledge/contents/231129150023233gf\",\"image\":{\"url\":\"https://s.pstatic.net/dthumb.phinf/?src=%22https%3A%2F%2Fs.pstatic.net%2Fscs.phinf%2FMjAyMzExMTdfMTEx%2FMDAxNzAwMTk4NzIxMzU5.oVe7iNeeKL951pkrkmMnXOlHXWgGXmdJg54uq9kbQU4g.974gl6d4qWYmE5RQYLsW0GsEqX9Yr8xKJOT1W34ctIgg.JPEG%2FSE-abcd5c6d-92dd-4bcf-8158-9da0221208e5.jpg%22&type=nf308_200&service=navermain\"},\"desc\":\"홍기훈의 금융경제 이야기\",\"source\":{\"name\":\"홍기훈의 금융경제 이야기\",\"image\":{\"url\":\"https://s.pstatic.net/dthumb.phinf/?src=%22https%3A%2F%2Fs.pstatic.net%2Fscs.phinf%2FMjAyMzAxMjZfMTc0%2FMDAxNjc0NzIwMDk0NzMz.AhVBlli-lo_w7CtWeI7sq_FLM4TBSPSq3pdeOusF_u4g.lasP4VikB6vIAIAJB2keGicagYY2NM83Tzpz7z4-vG8g.JPEG%2Fimage%257Cpremium%257Cchannel%257Cfinance%257C2023%257C01%257C26%257C1674720094713.jpg%22&type=nf96_96&service=navermain\"}},\"labels\":[{\"type\":\"free\",\"text\":null}],\"_id\":\"6441ca92c499cc07f334c45b\"},{\"@type\":\"MATERIAL-PC-FEED\",\"title\":\"25년 동안 구글에서 가장 많이 검색된 단어는?ㅣ브랜더쿠\",\"url\":\"https://blog.naver.com/businessinsight/223293830173\",\"image\":{\"url\":\"https://s.pstatic.net/dthumb.phinf/?src=%22http%3A%2F%2Fblogfiles.naver.net%2FMjAyMzEyMTVfMTA0%2FMDAxNzAyNjI5MDkyODY2.3i1f8fcN1vvvbHRiYSHQfHy07MkJehffF4KEtmLRKsMg.19ZNQoiTJc0AlbFrzyGSlS6AZkVTfQfCQBdETGw4IYMg.JPEG.businessinsight%2F%EA%B5%AC%EA%B8%80.jpg%22&type=nf308_200&service=navermain\"},\"desc\":\"인터비즈\",\"source\":{\"name\":\"인터비즈\",\"image\":{\"url\":\"https://s.pstatic.net/dthumb.phinf/?src=%22http%3A%2F%2Fblogpfthumb.phinf.naver.net%2F20220116_144%2Fbusinessinsight_1642289673281I8Mjr_PNG%2Fprofile.png%22&type=nf96_96&service=navermain\"}},\"_id\":\"6441ca92c499cc07f334c45c\"},{\"@type\":\"MATERIAL-PC-FEED\",\"title\":\"포도봉봉에 들어있는 포도는 진짜 포도일까?\",\"url\":\"https://now.naver.com/h/44325802\",\"image\":{\"url\":\"https://s.pstatic.net/dthumb.phinf/?src=%22https%3A%2F%2Fs.pstatic.net%2Ftvcast.phinf%2F20231214_30%2FdhNJo_1702534990931HUTL6_PNG%2F1702534977737.png%22&type=nf308_200&service=navermain\"},\"desc\":\"사물궁이 잡학지식\",\"source\":{\"name\":\"사물궁이 잡학지식\",\"image\":{\"url\":\"https://s.pstatic.net/dthumb.phinf/?src=%22https%3A%2F%2Fs.pstatic.net%2Ftvcast.phinf%2F20230409_12%2FWGHBa_16810341064810jsHH_PNG%2F1681034106480.png%22&type=nf96_96&service=navermain\"}},\"video\":{\"playTime\":\"00:58\"},\"_id\":\"6441ca92c499cc07f334c45d\"},{\"@type\":\"MATERIAL-PC-FEED\",\"title\":\"2023년 올해의 국제 웨딩 사진 공모전 수상작들\",\"url\":\"https://m.post.naver.com/viewer/postView.naver?volumeNo=37026405&memberNo=21060&vType=VERTICAL\",\"image\":{\"url\":\"https://s.pstatic.net/dthumb.phinf/?src=%22https%3A%2F%2Fs.pstatic.net%2Fpost.phinf%2FMjAyMzEyMTJfMTUz%2FMDAxNzAyMzEwMTI5NTM5.PVtTZ_gRtXnb9Xw4vHZlRqoWp1Z1pAAeeGVzqAfVCRsg.tWXFUfD6dmQghFVg-ak0CHj3rAlzbsfi-H5HBmvPLxMg.JPEG%2FI2rAr3dFGjiKJnQ45xOAgCeIP9s4.jpg%22&type=nf308_200&service=navermain\"},\"desc\":\"썬도그\",\"source\":{\"name\":\"썬도그\",\"image\":{\"url\":\"https://s.pstatic.net/dthumb.phinf/?src=%22https%3A%2F%2Fs.pstatic.net%2Fpost.phinf%2F20131113_259%2Fifp1592_1384339967725bW26i_JPEG%2F159780793_3d416709a9.jpg%3Ftype%3Df200_200%22&type=nf96_96&service=navermain\"}},\"_id\":\"6441ca92c499cc07f334c45e\"},{\"@type\":\"MATERIAL-PC-FEED\",\"title\":\"엑셀을 잘하기 위한 3가지 필수 원칙!!\",\"url\":\"https://contents.premium.naver.com/exceldevil/excelpremium/contents/231217223337680zc\",\"image\":{\"url\":\"https://s.pstatic.net/dthumb.phinf/?src=%22https%3A%2F%2Fs.pstatic.net%2Fscs.phinf%2FMjAyMzEyMTdfNTgg%2FMDAxNzAyODE5NDI3OTk4.8BD92v7Id3ARcKS1BRXTi-vsTkJcvAHuJkwQT5vV_0Mg.ywbeIj6aqgwncaoK6nmn4E7rNtDa4aqpujA-Ef7WwyEg.PNG%2F001.png%22&type=nf308_200&service=navermain\"},\"desc\":\"엑셀마왕의 실무엑셀 프리미엄 콘텐츠\",\"source\":{\"name\":\"엑셀마왕의 실무엑셀 프리미엄 콘텐츠\",\"image\":{\"url\":\"https://s.pstatic.net/dthumb.phinf/?src=%22https%3A%2F%2Fs.pstatic.net%2Fscs.phinf%2FMjAyMjExMDlfMjIy%2FMDAxNjY3OTg5MDY0NDEw.UtKge8ARdSCzlwc3FgSizVLqLyZbaIc_idcBxPg0aIkg.y_CpQ2GiUwZwUoY_SddYQkyE9Mc2lUNsiUYWS839zeog.JPEG%2Fimage%257Cpremium%257Cchannel%257Cexceldevil%257C2022%257C11%257C09%257C1667989064387.jpg%22&type=nf96_96&service=navermain\"}},\"labels\":[{\"type\":\"paid\",\"text\":null}],\"_id\":\"6441ca92c499cc07f334c45f\"},{\"@type\":\"MATERIAL-PC-FEED\",\"title\":\"[예고] 1년에 제사만 30번? 우리가 몰랐던 유교의 민낯\",\"url\":\"https://m.tv.naver.com/v/44366090\",\"image\":{\"url\":\"https://s.pstatic.net/dthumb.phinf/?src=%22https%3A%2F%2Fs.pstatic.net%2Ftvcast.phinf%2F20231218_109%2F7iycr_1702863389911GMhOi_JPEG%2F0821ec7d-1848-47d2-b07a-27e19ff8aec5_B.jpg%22&type=nf308_200&service=navermain\"},\"desc\":\"벌거벗은 한국사\",\"source\":{\"name\":\"벌거벗은 한국사\",\"image\":{\"url\":\"https://s.pstatic.net/dthumb.phinf/?src=%22https%3A%2F%2Fs.pstatic.net%2Ftvcast.phinf%2F20220418_48%2FkohCq_16502603564782qxms_JPEG%2F5b8057ba-2954-4adb-a7b0-586b7a49d7de.jpg%22&type=nf96_96&service=navermain\"}},\"video\":{\"playTime\":\"00:15\"},\"_id\":\"6441ca92c499cc07f334c460\"},{\"@type\":\"MATERIAL-PC-FEED\",\"title\":\"독일, 전기차 보조금 지급 전격중단 근황\",\"url\":\"https://blog.naver.com/ranto28/223295452160\",\"image\":{\"url\":\"https://s.pstatic.net/dthumb.phinf/?src=%22http%3A%2F%2Fblogfiles.naver.net%2FMjAyMzEyMTdfNDEg%2FMDAxNzAyODA0MDM0MTY5.wKcQeUHU29taWlMs0yP3DyFF-mnVGayYhT_XOF5ccEgg.FwZCZ0B7d0sHQEEJC6lw6CIj0IZBucTtX7jCkAf8LOMg.JPEG.ranto28%2Fphoto-1571987502227-9231b837d92a.jpg%22&type=nf308_200&service=navermain\"},\"desc\":\"메르\",\"source\":{\"name\":\"메르\",\"image\":{\"url\":\"https://s.pstatic.net/dthumb.phinf/?src=%22http%3A%2F%2Fblogpfthumb.phinf.naver.net%2FMjAyMjAzMjZfMjAy%2FMDAxNjQ4MjIxNzMyNzE0.KSBsjtPAqXxRRTL2S1_nAUpmn7ZL1Kn50O72GxxM_Ngg.mS2ZxAaLIa9i5tPWuEpi8C_G5qgYFAOqbwWn9G2lhscg.PNG.ranto28%2F2022-03-23_07%253B05%253B10_.png%2F2022-03-23%2B07%253B05%253B10_.png%22&type=nf96_96&service=navermain\"}},\"_id\":\"6441ca92c499cc07f334c461\"},{\"@type\":\"MATERIAL-PC-FEED\",\"title\":\"[연인과 부부 ⑭] 가수 이난영의 두 남자 김해송과 남인수… ‘천재 뮤지션’ 남편(김해송)과는 생이별하고 ‘가요계의 거성’ 동거남(남인수)과는 사별\",\"url\":\"https://contents.premium.naver.com/hisdocu/histour/contents/231217202945647ba\",\"image\":{\"url\":\"https://s.pstatic.net/dthumb.phinf/?src=%22https%3A%2F%2Fs.pstatic.net%2Fscs.phinf%2FMjAyMzEyMTdfMTE3%2FMDAxNzAyODEyMDAwMjI5._dYvcmnbVNM748F5L3F1nE-NWUtAdULOGZgoQb3jJCgg.mX4qTmpYYL2zm0Ru3l57xzh1R5jAlgseFHibyMcMzokg.JPEG%2F%EC%99%BC%EC%AA%BD%EB%B6%80%ED%84%B0_%EA%B9%80%ED%95%B4%EC%86%A1%2C_%EC%9D%B4%EB%82%9C%EC%98%81%2C_%EB%82%A8%EC%9D%B8%EC%88%98.jpg%22&type=nf308_200&service=navermain\"},\"desc\":\"김정형의 근현대 기행\",\"source\":{\"name\":\"김정형의 근현대 기행\",\"image\":{\"url\":\"https://s.pstatic.net/dthumb.phinf/?src=%22https%3A%2F%2Fs.pstatic.net%2Fscs.phinf%2FMjAyMzA5MTFfMjYx%2FMDAxNjk0MzkxMDY2MTgx.z6wVjyHOrT7_n4MvwA8sSRcOhDMcPCrOKe28KWF1198g.F8Qpv2Xy8GXk7kAYv9dJqGDzWxrx8po5wS3H9tqKSyog.JPEG%2Fimage%257Cpremium%257Cchannel%257Chisdocu%257C2023%257C09%257C11%257C1694391066167.jpg%22&type=nf96_96&service=navermain\"}},\"labels\":[{\"type\":\"paid\",\"text\":null}],\"_id\":\"6441ca92c499cc07f334c462\"}],\"excludeInPaging\":false,\"positionForPaging\":0,\"realtime\":false,\"needCologger\":false,\"ad\":false,\"@type\":\"PC-FEED-BLOCK\",\"@code\":\"PC-FEED-LECTURE-AIRS-3\",\"@template\":\"TWO-COLUMNS\"},{\"@type\":\"PC-FEED-BLOCK\",\"materials\":[{\"@type\":\"MATERIAL-PC-FEED\",\"title\":\"겨울방학, 나를 업그레이드해 줄 책 3\",\"url\":\"https://m.post.naver.com/viewer/postView.naver?volumeNo=37019670&memberNo=16432281&vType=VERTICAL\",\"image\":{\"url\":\"https://s.pstatic.net/dthumb.phinf/?src=%22https%3A%2F%2Fs.pstatic.net%2Fpost.phinf%2FMjAyMzEyMTFfMTI1%2FMDAxNzAyMjU1OTMzNTY5.kiBQE4dA7bS-oHNFL0XsPJMHNkUeOhwRUQPK9lPITZcg.WIbul2hVAV1BkAvXuN0aw5jRatFi6Wd-0LiKWu5qu4Eg.PNG%2FIC6b-wOSvWBCrdirbgAyccw6qvN8.jpg%22&type=nf308_200&service=navermain\"},\"desc\":\"학고재\",\"source\":{\"name\":\"학고재\",\"image\":{\"url\":\"https://s.pstatic.net/dthumb.phinf/?src=%22https%3A%2F%2Fs.pstatic.net%2Fpost.phinf%2FMjAxOTA1MjdfMTgx%2FMDAxNTU4OTE0NTQyNTY1.krdT4BOrfpiBRdAH3FJTnGhw-AjKe5-KrXMeKOjDz54g.0YcWWxueN9-80D_LGQF5Rkk5o3tvAdM7EE-S3HrcNDYg.JPEG%2Fpost_7669734989187578591.jpg%3Ftype%3Df200_200%22&type=nf96_96&service=navermain\"}},\"_id\":\"6441ca92c499cc07f334c463\"},{\"@type\":\"MATERIAL-PC-FEED\",\"title\":\"서울 전시추천 광화문 일민미술관 엘르데코 전시 리뷰 《데코 데코 De'cor De'cor: 리빙룸 아케이드》\",\"url\":\"https://blog.naver.com/ohseongae/223289870178\",\"image\":{\"url\":\"https://s.pstatic.net/dthumb.phinf/?src=%22http%3A%2F%2Fblogfiles.naver.net%2FMjAyMzEyMTFfMjM3%2FMDAxNzAyMzA2NTU2NjIz.SZRHLxFmbmfEvMBNPHlarq81T-vuPzCJ0wT71o7fC0cg.Riv0C9nm_kFSnP2REzyPySjaOch6BCSJW6w27bfaqdUg.JPEG.ohseongae%2F1702306555012.jpg%22&type=nf308_200&service=navermain\"},\"desc\":\"분홍공주\",\"source\":{\"name\":\"분홍공주\",\"image\":{\"url\":\"https://s.pstatic.net/dthumb.phinf/?src=%22http%3A%2F%2Fblogpfthumb.phinf.naver.net%2FMjAxNjExMTJfMTMx%2FMDAxNDc4OTU0ODkxNDY5.vtz7lMni_AqA7cT_i8oWWdpxbNcpEzbKovcTmJU8138g.aBekWTNwjtMA76n-1WPgiSf_rVCCb0TAXyoCTz25MN0g.JPEG.ohseongae%2FprofileImage.jpg%22&type=nf96_96&service=navermain\"}},\"_id\":\"6441ca92c499cc07f334c464\"},{\"@type\":\"MATERIAL-PC-FEED\",\"title\":\"[사이언스] 우주 나이가 138억 년이 아니라 270억 년이라고?\",\"url\":\"https://m.post.naver.com/viewer/postView.naver?volumeNo=37021910&memberNo=30808112&vType=VERTICAL\",\"image\":{\"url\":\"https://s.pstatic.net/dthumb.phinf/?src=%22https%3A%2F%2Fs.pstatic.net%2Fpost.phinf%2FMjAyMzEyMTFfMzgg%2FMDAxNzAyMjg2MTgzNzQ5.CNOG7e2Tg6eBeOQg1OHvSguqrbQbgzvkI-HaQsUZuPUg.zM4AleVncfWozd7A5pJgufb1nn2JxyWMdB0DWnZbDtMg.JPEG%2FIS48eZYq3f0bWi6tJ9-Gai1VuyRg.jpg%22&type=nf308_200&service=navermain\"},\"desc\":\"비즈한국\",\"source\":{\"name\":\"비즈한국\",\"image\":{\"url\":\"https://s.pstatic.net/dthumb.phinf/?src=%22https%3A%2F%2Fs.pstatic.net%2Fpost.phinf%2F20160429_195%2Fbizhk_1461920798185S6iun_PNG%2Fbizhk_6547741443465662276.png%3Ftype%3Df200_200%22&type=nf96_96&service=navermain\"}},\"_id\":\"6441ca92c499cc07f334c465\"},{\"@type\":\"MATERIAL-PC-FEED\",\"title\":\"‘펑’ 러시아 전차는 왜 뚜껑이 날아갈까\",\"url\":\"https://now.naver.com/h/44013296\",\"image\":{\"url\":\"https://s.pstatic.net/dthumb.phinf/?src=%22https%3A%2F%2Fs.pstatic.net%2Ftvcast.phinf%2F20231208_179%2Fskh5e_1701995732888AdjO7_PNG%2F1701995653601.png%22&type=nf308_200&service=navermain\"},\"desc\":\"테크플러스TV\",\"source\":{\"name\":\"테크플러스TV\",\"image\":{\"url\":\"https://s.pstatic.net/dthumb.phinf/?src=%22https%3A%2F%2Fs.pstatic.net%2Ftvcast.phinf%2F20200309_90%2F9CWUm_1583715942449EolRf_JPEG%2F1583715942421.jpg%22&type=nf96_96&service=navermain\"}},\"video\":{\"playTime\":\"00:58\"},\"_id\":\"6441ca92c499cc07f334c466\"},{\"@type\":\"MATERIAL-PC-FEED\",\"title\":\"케첩이 중국어? 토마토케첩의 원조는 생선 액젓이었다\",\"url\":\"https://blog.naver.com/kookbang_media_lab/223291179557\",\"image\":{\"url\":\"https://s.pstatic.net/dthumb.phinf/?src=%22http%3A%2F%2Fblogfiles.naver.net%2FMjAyMzEyMTBfMjY1%2FMDAxNzAyMTk3MTc1ODA0.GHglimT4DfTvTwJqHQSGXtRL5QVx3qJRS5Cf4D3z2rYg.uaeE4BvTJ3QOnEYcH6iol3Aw-XreSP3dJzMfgOjrxdog.JPEG.kookbang_media_lab%2FCK_yaytg805622.jpg%22&type=nf308_200&service=navermain\"},\"desc\":\"국방일보\",\"source\":{\"name\":\"국방일보\",\"image\":{\"url\":\"https://s.pstatic.net/dthumb.phinf/?src=%22http%3A%2F%2Fblogpfthumb.phinf.naver.net%2FMjAyMTA4MDlfMTE4%2FMDAxNjI4NDcyOTYxNTc0.CHu35cC0qkiy-TnEealT2guWeoRpS_1wPoUQSg018Jwg.8FupjobJ2rvgyVsM6euJeP6BNP5NprENstwzUDNzQiwg.JPEG.kookbang_media_lab%2F%25EA%25B5%25AD%25EB%25B0%25A9%25EC%259D%25BC%25EB%25B3%25B4%25EB%2594%2594%25EC%25A7%2580%25ED%2584%25B8%25ED%2594%258C%25EB%259F%25AC%25EC%258A%25A4_%25EB%25A1%259C%25EA%25B3%25A0_%25EC%259D%25B8%25EC%258A%25A4%25ED%2583%2580%25ED%2585%258C%25EC%258A%25A4%25ED%258A%25B8-03.jpg%22&type=nf96_96&service=navermain\"}},\"_id\":\"6441ca92c499cc07f334c467\"},{\"@type\":\"MATERIAL-PC-FEED\",\"title\":\"하나된 다이소 온라인, 주목할 변화 4가지\",\"url\":\"https://contents.premium.naver.com/byline/commercebn/contents/231216170725435io\",\"image\":{\"url\":\"https://s.pstatic.net/dthumb.phinf/?src=%22https%3A%2F%2Fs.pstatic.net%2Fscs.phinf%2FMjAyMzEyMTVfMjIx%2FMDAxNzAyNjQzOTc5OTUw.9hUDYu8ygkQEMscZI0qsNhM_60Ln6JG0YgPJt_7D3gEg.CMKTumYj6hOG_H-4Cmks4bH3oUV7KNvHeM5NxN6DCeIg.JPEG%2F%EB%8B%A4%EC%9D%B4%EC%86%8C%EB%AA%B0_%EA%B3%B5%EC%A7%80_1%EB%B2%88.jpeg%22&type=nf308_200&service=navermain\"},\"desc\":\"커머스BN\",\"source\":{\"name\":\"커머스BN\",\"image\":{\"url\":\"https://s.pstatic.net/dthumb.phinf/?src=%22https%3A%2F%2Fs.pstatic.net%2Fscs.phinf%2FMjAyMTA1MTJfMTI5%2FMDAxNjIwODEyMDg4NTUw.eNUZOSW2l3aNCbEpnSHumTyvXyNki7QSGcgvCKWFjBgg._wpmFFD-YJnZoAqkr5C2W-lMRnJTEijuXI9spzp89rIg.JPEG%2Fimage%257Cpremium%257Cchannel%257Cbyline%257Ccommercebn%257C2021%257C05%257C12%257C1620812088519.jpg%22&type=nf96_96&service=navermain\"}},\"labels\":[{\"type\":\"paid\",\"text\":null}],\"_id\":\"6441ca92c499cc07f334c468\"},{\"@type\":\"MATERIAL-PC-FEED\",\"title\":\"비행기보다 빠른 어뢰가 있다고? <초공동어뢰>\",\"url\":\"https://blog.naver.com/dapapr/223289223845\",\"image\":{\"url\":\"https://s.pstatic.net/dthumb.phinf/?src=%22http%3A%2F%2Fblogfiles.naver.net%2FMjAyMzEyMTFfMjI4%2FMDAxNzAyMjcxNjUxMzk2.plVrKXRsIeaHtwVYuOFFB4fgf8grISZ4-dpinClM3JYg.j1CglFNFYJYVoSZmCOxRNT-uwRaFuFE8EL7Cq9YH0wwg.PNG.dapapr%2F%EB%B8%94%EB%A1%9C%EA%B7%B8_%EC%8D%B8%EB%84%A4%EC%9D%BC.png%22&type=nf308_200&service=navermain\"},\"desc\":\"방위사업청\",\"source\":{\"name\":\"방위사업청\",\"image\":{\"url\":\"https://s.pstatic.net/dthumb.phinf/?src=%22http%3A%2F%2Fblogpfthumb.phinf.naver.net%2FMjAxODEyMDdfMTY1%2FMDAxNTQ0MTc0OTY5Nzgy.TvqW-rTtPaosOoubtdNdWAtohGHYXLj9oquW_BrS8PAg.JV0pCu0ok_HKPXExTz5JO9lgzskIJaGxmuOmkPfk9v4g.PNG.dapapr%2FFB_profile_1.png%22&type=nf96_96&service=navermain\"}},\"_id\":\"6441ca92c499cc07f334c469\"},{\"@type\":\"MATERIAL-PC-FEED\",\"title\":\"이제는 금보다 비싼 토마토?!\",\"url\":\"https://m.post.naver.com/viewer/postView.naver?volumeNo=36997482&memberNo=42232270&vType=VERTICAL\",\"image\":{\"url\":\"https://s.pstatic.net/dthumb.phinf/?src=%22https%3A%2F%2Fs.pstatic.net%2Fpost.phinf%2FMjAyMzEyMDZfNjEg%2FMDAxNzAxODQ3MDI0Mjkx.J412zEhAvnvTvSHfQcMGkT4_b2GR24yFWvmptjrrVbwg.ApAmThe4-HQqq7TTfoDNt3QpSKnXoxeyfCso-np_CCsg.JPEG%2FIYJIwV4YDAN1ZxUxkBPz9W0o2OD0.jpg%22&type=nf308_200&service=navermain\"},\"desc\":\"극지연구소공식포스트\",\"source\":{\"name\":\"극지연구소공식포스트\",\"image\":{\"url\":\"https://s.pstatic.net/dthumb.phinf/?src=%22https%3A%2F%2Fs.pstatic.net%2Fpost.phinf%2FMjAyMDA4MzFfMTI2%2FMDAxNTk4ODM3OTUxOTg2.pq5yiZjrSQH0S7myyARGwXLcmbKRtd-0XkKLq-lOO4Ag.FSV9ZbFobkKpdhWdgyymDSUMMvXIuqSpgFCnwpljXusg.JPEG%2Fpost_5367224171476411063.jpg%3Ftype%3Df200_200%22&type=nf96_96&service=navermain\"}},\"_id\":\"6441ca92c499cc07f334c46a\"}],\"excludeInPaging\":false,\"positionForPaging\":0,\"realtime\":false,\"needCologger\":false,\"ad\":false,\"@type\":\"PC-FEED-BLOCK\",\"@code\":\"PC-FEED-LECTURE-AIRS-4\",\"@template\":\"TWO-COLUMNS\"}],\"materials\":null,\"excludeInPaging\":false,\"positionForPaging\":0,\"realtime\":false,\"_id\":null,\"@type\":\"BLOCK\",\"@code\":\"PC-FEED-LECTURE\",\"@template\":\"NONE\",\"@flowId\":null,\"@flowExecutionId\":null,\"@provider\":null,\"@lastModifiedAt\":null}],\"materials\":null,\"excludeInPaging\":false,\"positionForPaging\":0,\"realtime\":false,\"_id\":\"6441ca92a10d3006855f9acd\",\"@type\":\"BLOCK\",\"@code\":\"PC-FEED-WRAPPER\",\"@template\":\"PC-FEED-WRAPPER\",\"@flowId\":\"PC-FEED-WRAPPER\",\"@flowExecutionId\":\"6b2ddf8b-9d65-11ee-af89-1704f1dcce8b\",\"@provider\":\"lambda\",\"@lastModifiedAt\":[2023,12,18,5,22,22,24000000]}\n",
            "window[\"EAGER-DATA\"][\"CAS-MINICONTENT-PC-SPECIAL-LOGO\"] = {\"@type\":\"MINI-CONTENT-BLOCK\",\"blocks\":null,\"materials\":null,\"excludeInPaging\":false,\"positionForPaging\":0,\"realtime\":false,\"items\":[],\"_id\":\"6433d8e3a10d3006850274e8\",\"@type\":\"MINI-CONTENT-BLOCK\",\"@code\":\"CAS-MINICONTENT-PC-SPECIAL-LOGO\",\"@template\":\"NONE\",\"@flowId\":\"CAS-MINICONTENT\",\"@flowExecutionId\":\"bd6fea75-9d65-11ee-925d-95daeba14e75\",\"@provider\":\"lambda\",\"@lastModifiedAt\":[2023,12,18,5,24,39,94000000]}\n",
            "window[\"EAGER-DATA\"][\"PC-MEDIA-WRAPPER\"] = {\"@type\":\"PC-MEDIA-CONTENTS-BLOCK\",\"blocks\":[{\"@type\":\"BLOCK\",\"blocks\":[{\"@type\":\"PC-NEWSSTAND-BLOCK\",\"blocks\":[{\"@type\":\"PC-NEWSSTAND-PRESS-BLOCK\",\"blocks\":null,\"materials\":null,\"excludeInPaging\":false,\"positionForPaging\":0,\"realtime\":false,\"pid\":\"907\",\"name\":\"경북매일신문\",\"logoLight\":{\"url\":\"https://s.pstatic.net/static/newsstand/2020/logo/light/0604/907.png\"},\"logoDark\":{\"url\":\"https://s.pstatic.net/static/newsstand/2020/logo/dark/0604/907.png\"},\"showThumbnailView\":true,\"showListView\":true,\"regDate\":\"20231218 14:10:13\",\"_id\":null,\"@type\":\"PC-NEWSSTAND-PRESS-BLOCK\",\"@code\":null,\"@template\":\"NONE\",\"@flowId\":null,\"@flowExecutionId\":null,\"@provider\":null,\"@lastModifiedAt\":null},{\"@type\":\"PC-NEWSSTAND-PRESS-BLOCK\",\"blocks\":null,\"materials\":null,\"excludeInPaging\":false,\"positionForPaging\":0,\"realtime\":false,\"pid\":\"908\",\"name\":\"국방일보\",\"logoLight\":{\"url\":\"https://s.pstatic.net/static/newsstand/2020/logo/light/0604/908.png\"},\"logoDark\":{\"url\":\"https://s.pstatic.net/static/newsstand/2020/logo/dark/0604/908.png\"},\"showThumbnailView\":true,\"showListView\":true,\"regDate\":\"20231217 16:30:05\",\"_id\":null,\"@type\":\"PC-NEWSSTAND-PRESS-BLOCK\",\"@code\":null,\"@template\":\"NONE\",\"@flowId\":null,\"@flowExecutionId\":null,\"@provider\":null,\"@lastModifiedAt\":null},{\"@type\":\"PC-NEWSSTAND-PRESS-BLOCK\",\"blocks\":null,\"materials\":null,\"excludeInPaging\":false,\"positionForPaging\":0,\"realtime\":false,\"pid\":\"909\",\"name\":\"기호일보\",\"logoLight\":{\"url\":\"https://s.pstatic.net/static/newsstand/2020/logo/light/0604/909.png\"},\"logoDark\":{\"url\":\"https://s.pstatic.net/static/newsstand/2020/logo/dark/0604/909.png\"},\"showThumbnailView\":true,\"showListView\":true,\"regDate\":\"20231218 10:29:31\",\"_id\":null,\"@type\":\"PC-NEWSSTAND-PRESS-BLOCK\",\"@code\":null,\"@template\":\"NONE\",\"@flowId\":null,\"@flowExecutionId\":null,\"@provider\":null,\"@lastModifiedAt\":null},{\"@type\":\"PC-NEWSSTAND-PRESS-BLOCK\",\"blocks\":null,\"materials\":null,\"excludeInPaging\":false,\"positionForPaging\":0,\"realtime\":false,\"pid\":\"353\",\"name\":\"중앙SUNDAY\",\"logoLight\":{\"url\":\"https://s.pstatic.net/static/newsstand/2020/logo/light/0604/353.png\"},\"logoDark\":{\"url\":\"https://s.pstatic.net/static/newsstand/2020/logo/dark/0604/353.png\"},\"showThumbnailView\":true,\"showListView\":true,\"regDate\":\"20231218 12:01:02\",\"_id\":null,\"@type\":\"PC-NEWSSTAND-PRESS-BLOCK\",\"@code\":null,\"@template\":\"NONE\",\"@flowId\":null,\"@flowExecutionId\":null,\"@provider\":null,\"@lastModifiedAt\":null},{\"@type\":\"PC-NEWSSTAND-PRESS-BLOCK\",\"blocks\":null,\"materials\":null,\"excludeInPaging\":false,\"positionForPaging\":0,\"realtime\":false,\"pid\":\"354\",\"name\":\"엘르\",\"logoLight\":{\"url\":\"https://s.pstatic.net/static/newsstand/2020/logo/light/0604/354.png\"},\"logoDark\":{\"url\":\"https://s.pstatic.net/static/newsstand/2020/logo/dark/0604/354.png\"},\"showThumbnailView\":true,\"showListView\":true,\"regDate\":\"20231218 14:00:00\",\"_id\":null,\"@type\":\"PC-NEWSSTAND-PRESS-BLOCK\",\"@code\":null,\"@template\":\"NONE\",\"@flowId\":null,\"@flowExecutionId\":null,\"@provider\":null,\"@lastModifiedAt\":null},{\"@type\":\"PC-NEWSSTAND-PRESS-BLOCK\",\"blocks\":null,\"materials\":null,\"excludeInPaging\":false,\"positionForPaging\":0,\"realtime\":false,\"pid\":\"355\",\"name\":\"사이언스타임즈\",\"logoLight\":{\"url\":\"https://s.pstatic.net/static/newsstand/2020/logo/light/0604/355.png\"},\"logoDark\":{\"url\":\"https://s.pstatic.net/static/newsstand/2020/logo/dark/0604/355.png\"},\"showThumbnailView\":true,\"showListView\":true,\"regDate\":\"20231218 11:12:00\",\"_id\":null,\"@type\":\"PC-NEWSSTAND-PRESS-BLOCK\",\"@code\":null,\"@template\":\"NONE\",\"@flowId\":null,\"@flowExecutionId\":null,\"@provider\":null,\"@lastModifiedAt\":null},{\"@type\":\"PC-NEWSSTAND-PRESS-BLOCK\",\"blocks\":null,\"materials\":null,\"excludeInPaging\":false,\"positionForPaging\":0,\"realtime\":false,\"pid\":\"356\",\"name\":\"게임메카\",\"logoLight\":{\"url\":\"https://s.pstatic.net/static/newsstand/2020/logo/light/0604/356.png\"},\"logoDark\":{\"url\":\"https://s.pstatic.net/static/newsstand/2020/logo/dark/0604/356.png\"},\"showThumbnailView\":true,\"showListView\":true,\"regDate\":\"20231218 14:10:46\",\"_id\":null,\"@type\":\"PC-NEWSSTAND-PRESS-BLOCK\",\"@code\":null,\"@template\":\"NONE\",\"@flowId\":null,\"@flowExecutionId\":null,\"@provider\":null,\"@lastModifiedAt\":null},{\"@type\":\"PC-NEWSSTAND-PRESS-BLOCK\",\"blocks\":null,\"materials\":null,\"excludeInPaging\":false,\"positionForPaging\":0,\"realtime\":false,\"pid\":\"477\",\"name\":\"스포티비뉴스\",\"logoLight\":{\"url\":\"https://s.pstatic.net/static/newsstand/up/2021/1130/nsd10159718.png\"},\"logoDark\":{\"url\":\"https://s.pstatic.net/static/newsstand/up/2021/1130/nsd101536636.png\"},\"showThumbnailView\":true,\"showListView\":true,\"regDate\":\"20231218 14:10:06\",\"_id\":null,\"@type\":\"PC-NEWSSTAND-PRESS-BLOCK\",\"@code\":null,\"@template\":\"NONE\",\"@flowId\":null,\"@flowExecutionId\":null,\"@provider\":null,\"@lastModifiedAt\":null},{\"@type\":\"PC-NEWSSTAND-PRESS-BLOCK\",\"blocks\":null,\"materials\":null,\"excludeInPaging\":false,\"positionForPaging\":0,\"realtime\":false,\"pid\":\"117\",\"name\":\"마이데일리\",\"logoLight\":{\"url\":\"https://s.pstatic.net/static/newsstand/2020/logo/light/0604/117.png\"},\"logoDark\":{\"url\":\"https://s.pstatic.net/static/newsstand/2020/logo/dark/0604/117.png\"},\"showThumbnailView\":true,\"showListView\":true,\"regDate\":\"20231218 13:25:14\",\"_id\":null,\"@type\":\"PC-NEWSSTAND-PRESS-BLOCK\",\"@code\":null,\"@template\":\"NONE\",\"@flowId\":null,\"@flowExecutionId\":null,\"@provider\":null,\"@lastModifiedAt\":null},{\"@type\":\"PC-NEWSSTAND-PRESS-BLOCK\",\"blocks\":null,\"materials\":null,\"excludeInPaging\":false,\"positionForPaging\":0,\"realtime\":false,\"pid\":\"910\",\"name\":\"넥스트데일리\",\"logoLight\":{\"url\":\"https://s.pstatic.net/static/newsstand/2020/logo/light/0604/910.png\"},\"logoDark\":{\"url\":\"https://s.pstatic.net/static/newsstand/2020/logo/dark/0604/910.png\"},\"showThumbnailView\":true,\"showListView\":true,\"regDate\":\"20231218 14:10:23\",\"_id\":null,\"@type\":\"PC-NEWSSTAND-PRESS-BLOCK\",\"@code\":null,\"@template\":\"NONE\",\"@flowId\":null,\"@flowExecutionId\":null,\"@provider\":null,\"@lastModifiedAt\":null},{\"@type\":\"PC-NEWSSTAND-PRESS-BLOCK\",\"blocks\":null,\"materials\":null,\"excludeInPaging\":false,\"positionForPaging\":0,\"realtime\":false,\"pid\":\"911\",\"name\":\"농민신문\",\"logoLight\":{\"url\":\"https://s.pstatic.net/static/newsstand/2020/logo/light/0604/911.png\"},\"logoDark\":{\"url\":\"https://s.pstatic.net/static/newsstand/2020/logo/dark/0604/911.png\"},\"showThumbnailView\":true,\"showListView\":true,\"regDate\":\"20231218 07:00:01\",\"_id\":null,\"@type\":\"PC-NEWSSTAND-PRESS-BLOCK\",\"@code\":null,\"@template\":\"NONE\",\"@flowId\":null,\"@flowExecutionId\":null,\"@provider\":null,\"@lastModifiedAt\":null},{\"@type\":\"PC-NEWSSTAND-PRESS-BLOCK\",\"blocks\":null,\"materials\":null,\"excludeInPaging\":false,\"positionForPaging\":0,\"realtime\":false,\"pid\":\"913\",\"name\":\"뉴스토마토\",\"logoLight\":{\"url\":\"https://s.pstatic.net/static/newsstand/2020/logo/light/0604/913.png\"},\"logoDark\":{\"url\":\"https://s.pstatic.net/static/newsstand/2020/logo/dark/0604/913.png\"},\"showThumbnailView\":true,\"showListView\":true,\"regDate\":\"20231218 14:05:24\",\"_id\":null,\"@type\":\"PC-NEWSSTAND-PRESS-BLOCK\",\"@code\":null,\"@template\":\"NONE\",\"@flowId\":null,\"@flowExecutionId\":null,\"@provider\":null,\"@lastModifiedAt\":null},{\"@type\":\"PC-NEWSSTAND-PRESS-BLOCK\",\"blocks\":null,\"materials\":null,\"excludeInPaging\":false,\"positionForPaging\":0,\"realtime\":false,\"pid\":\"914\",\"name\":\"뉴스핌\",\"logoLight\":{\"url\":\"https://s.pstatic.net/static/newsstand/2020/logo/light/0604/914.png\"},\"logoDark\":{\"url\":\"https://s.pstatic.net/static/newsstand/2020/logo/dark/0604/914.png\"},\"showThumbnailView\":true,\"showListView\":true,\"regDate\":\"20231218 14:11:34\",\"_id\":null,\"@type\":\"PC-NEWSSTAND-PRESS-BLOCK\",\"@code\":null,\"@template\":\"NONE\",\"@flowId\":null,\"@flowExecutionId\":null,\"@provider\":null,\"@lastModifiedAt\":null},{\"@type\":\"PC-NEWSSTAND-PRESS-BLOCK\",\"blocks\":null,\"materials\":null,\"excludeInPaging\":false,\"positionForPaging\":0,\"realtime\":false,\"pid\":\"915\",\"name\":\"르몽드 디플로마티크\",\"logoLight\":{\"url\":\"https://s.pstatic.net/static/newsstand/2020/logo/light/0604/915.png\"},\"logoDark\":{\"url\":\"https://s.pstatic.net/static/newsstand/2020/logo/dark/0604/915.png\"},\"showThumbnailView\":true,\"showListView\":true,\"regDate\":\"20231129 10:43:08\",\"_id\":null,\"@type\":\"PC-NEWSSTAND-PRESS-BLOCK\",\"@code\":null,\"@template\":\"NONE\",\"@flowId\":null,\"@flowExecutionId\":null,\"@provider\":null,\"@lastModifiedAt\":null},{\"@type\":\"PC-NEWSSTAND-PRESS-BLOCK\",\"blocks\":null,\"materials\":null,\"excludeInPaging\":false,\"positionForPaging\":0,\"realtime\":false,\"pid\":\"916\",\"name\":\"머니투데이방송\",\"logoLight\":{\"url\":\"https://s.pstatic.net/static/newsstand/up/2021/0420/nsd105139164.png\"},\"logoDark\":{\"url\":\"https://s.pstatic.net/static/newsstand/up/2021/0420/nsd104943516.png\"},\"showThumbnailView\":true,\"showListView\":true,\"regDate\":\"20231218 10:41:40\",\"_id\":null,\"@type\":\"PC-NEWSSTAND-PRESS-BLOCK\",\"@code\":null,\"@template\":\"NONE\",\"@flowId\":null,\"@flowExecutionId\":null,\"@provider\":null,\"@lastModifiedAt\":null},{\"@type\":\"PC-NEWSSTAND-PRESS-BLOCK\",\"blocks\":null,\"materials\":null,\"excludeInPaging\":false,\"positionForPaging\":0,\"realtime\":false,\"pid\":\"917\",\"name\":\"IT조선\",\"logoLight\":{\"url\":\"https://s.pstatic.net/static/newsstand/2020/logo/light/0604/917.png\"},\"logoDark\":{\"url\":\"https://s.pstatic.net/static/newsstand/2020/logo/dark/0604/917.png\"},\"showThumbnailView\":true,\"showListView\":true,\"regDate\":\"20231218 14:10:35\",\"_id\":null,\"@type\":\"PC-NEWSSTAND-PRESS-BLOCK\",\"@code\":null,\"@template\":\"NONE\",\"@flowId\":null,\"@flowExecutionId\":null,\"@provider\":null,\"@lastModifiedAt\":null},{\"@type\":\"PC-NEWSSTAND-PRESS-BLOCK\",\"blocks\":null,\"materials\":null,\"excludeInPaging\":false,\"positionForPaging\":0,\"realtime\":false,\"pid\":\"361\",\"name\":\"채널예스\",\"logoLight\":{\"url\":\"https://s.pstatic.net/static/newsstand/up/2023/0418/nsd124959421.png\"},\"logoDark\":{\"url\":\"https://s.pstatic.net/static/newsstand/up/2023/0418/nsd124945796.png\"},\"showThumbnailView\":true,\"showListView\":true,\"regDate\":\"20231218 14:10:51\",\"_id\":null,\"@type\":\"PC-NEWSSTAND-PRESS-BLOCK\",\"@code\":null,\"@template\":\"NONE\",\"@flowId\":null,\"@flowExecutionId\":null,\"@provider\":null,\"@lastModifiedAt\":null},{\"@type\":\"PC-NEWSSTAND-PRESS-BLOCK\",\"blocks\":null,\"materials\":null,\"excludeInPaging\":false,\"positionForPaging\":0,\"realtime\":false,\"pid\":\"120\",\"name\":\"EBN\",\"logoLight\":{\"url\":\"https://s.pstatic.net/static/newsstand/2020/logo/light/0604/120.png\"},\"logoDark\":{\"url\":\"https://s.pstatic.net/static/newsstand/2020/logo/dark/0604/120.png\"},\"showThumbnailView\":true,\"showListView\":true,\"regDate\":\"20231218 13:12:19\",\"_id\":null,\"@type\":\"PC-NEWSSTAND-PRESS-BLOCK\",\"@code\":null,\"@template\":\"NONE\",\"@flowId\":null,\"@flowExecutionId\":null,\"@provider\":null,\"@lastModifiedAt\":null},{\"@type\":\"PC-NEWSSTAND-PRESS-BLOCK\",\"blocks\":null,\"materials\":null,\"excludeInPaging\":false,\"positionForPaging\":0,\"realtime\":false,\"pid\":\"241\",\"name\":\"일간스포츠\",\"logoLight\":{\"url\":\"https://s.pstatic.net/static/newsstand/up/2023/0112/nsd92558162.png\"},\"logoDark\":{\"url\":\"https://s.pstatic.net/static/newsstand/2020/logo/dark/0604/241.png\"},\"showThumbnailView\":true,\"showListView\":true,\"regDate\":\"20231218 13:55:24\",\"_id\":null,\"@type\":\"PC-NEWSSTAND-PRESS-BLOCK\",\"@code\":null,\"@template\":\"NONE\",\"@flowId\":null,\"@flowExecutionId\":null,\"@provider\":null,\"@lastModifiedAt\":null},{\"@type\":\"PC-NEWSSTAND-PRESS-BLOCK\",\"blocks\":null,\"materials\":null,\"excludeInPaging\":false,\"positionForPaging\":0,\"realtime\":false,\"pid\":\"363\",\"name\":\"동아사이언스\",\"logoLight\":{\"url\":\"https://s.pstatic.net/static/newsstand/2020/logo/light/0604/363.png\"},\"logoDark\":{\"url\":\"https://s.pstatic.net/static/newsstand/2020/logo/dark/0604/363.png\"},\"showThumbnailView\":true,\"showListView\":true,\"regDate\":\"20231215 17:56:09\",\"_id\":null,\"@type\":\"PC-NEWSSTAND-PRESS-BLOCK\",\"@code\":null,\"@template\":\"NONE\",\"@flowId\":null,\"@flowExecutionId\":null,\"@provider\":null,\"@lastModifiedAt\":null},{\"@type\":\"PC-NEWSSTAND-PRESS-BLOCK\",\"blocks\":null,\"materials\":null,\"excludeInPaging\":false,\"positionForPaging\":0,\"realtime\":false,\"pid\":\"122\",\"name\":\"법률신문\",\"logoLight\":{\"url\":\"https://s.pstatic.net/static/newsstand/up/2022/1103/nsd124326426.png\"},\"logoDark\":{\"url\":\"https://s.pstatic.net/static/newsstand/up/2022/1103/nsd124320554.png\"},\"showThumbnailView\":true,\"showListView\":true,\"regDate\":\"20231218 09:14:07\",\"_id\":null,\"@type\":\"PC-NEWSSTAND-PRESS-BLOCK\",\"@code\":null,\"@template\":\"NONE\",\"@flowId\":null,\"@flowExecutionId\":null,\"@provider\":null,\"@lastModifiedAt\":null},{\"@type\":\"PC-NEWSSTAND-PRESS-BLOCK\",\"blocks\":null,\"materials\":null,\"excludeInPaging\":false,\"positionForPaging\":0,\"realtime\":false,\"pid\":\"243\",\"name\":\"이코노미스트\",\"logoLight\":{\"url\":\"https://s.pstatic.net/static/newsstand/2020/logo/light/0604/243.png\"},\"logoDark\":{\"url\":\"https://s.pstatic.net/static/newsstand/2020/logo/dark/0604/243.png\"},\"showThumbnailView\":true,\"showListView\":true,\"regDate\":\"20231218 08:21:14\",\"_id\":null,\"@type\":\"PC-NEWSSTAND-PRESS-BLOCK\",\"@code\":null,\"@template\":\"NONE\",\"@flowId\":null,\"@flowExecutionId\":null,\"@provider\":null,\"@lastModifiedAt\":null},{\"@type\":\"PC-NEWSSTAND-PRESS-BLOCK\",\"blocks\":null,\"materials\":null,\"excludeInPaging\":false,\"positionForPaging\":0,\"realtime\":false,\"pid\":\"364\",\"name\":\"PC사랑\",\"logoLight\":{\"url\":\"https://s.pstatic.net/static/newsstand/2020/logo/light/0604/364.png\"},\"logoDark\":{\"url\":\"https://s.pstatic.net/static/newsstand/2020/logo/dark/0604/364.png\"},\"showThumbnailView\":true,\"showListView\":true,\"regDate\":\"20231214 09:45:19\",\"_id\":null,\"@type\":\"PC-NEWSSTAND-PRESS-BLOCK\",\"@code\":null,\"@template\":\"NONE\",\"@flowId\":null,\"@flowExecutionId\":null,\"@provider\":null,\"@lastModifiedAt\":null},{\"@type\":\"PC-NEWSSTAND-PRESS-BLOCK\",\"blocks\":null,\"materials\":null,\"excludeInPaging\":false,\"positionForPaging\":0,\"realtime\":false,\"pid\":\"002\",\"name\":\"프레시안\",\"logoLight\":{\"url\":\"https://s.pstatic.net/static/newsstand/2020/logo/light/0604/002.png\"},\"logoDark\":{\"url\":\"https://s.pstatic.net/static/newsstand/2020/logo/dark/0604/002.png\"},\"showThumbnailView\":true,\"showListView\":true,\"regDate\":\"20231218 13:58:56\",\"_id\":null,\"@type\":\"PC-NEWSSTAND-PRESS-BLOCK\",\"@code\":null,\"@template\":\"NONE\",\"@flowId\":null,\"@flowExecutionId\":null,\"@provider\":null,\"@lastModifiedAt\":null},{\"@type\":\"PC-NEWSSTAND-PRESS-BLOCK\",\"blocks\":null,\"materials\":null,\"excludeInPaging\":false,\"positionForPaging\":0,\"realtime\":false,\"pid\":\"123\",\"name\":\"조세일보\",\"logoLight\":{\"url\":\"https://s.pstatic.net/static/newsstand/2020/logo/light/0604/123.png\"},\"logoDark\":{\"url\":\"https://s.pstatic.net/static/newsstand/2020/logo/dark/0604/123.png\"},\"showThumbnailView\":true,\"showListView\":true,\"regDate\":\"20231218 14:04:22\",\"_id\":null,\"@type\":\"PC-NEWSSTAND-PRESS-BLOCK\",\"@code\":null,\"@template\":\"NONE\",\"@flowId\":null,\"@flowExecutionId\":null,\"@provider\":null,\"@lastModifiedAt\":null},{\"@type\":\"PC-NEWSSTAND-PRESS-BLOCK\",\"blocks\":null,\"materials\":null,\"excludeInPaging\":false,\"positionForPaging\":0,\"realtime\":false,\"pid\":\"003\",\"name\":\"뉴시스\",\"logoLight\":{\"url\":\"https://s.pstatic.net/static/newsstand/2020/logo/light/0604/003.png\"},\"logoDark\":{\"url\":\"https://s.pstatic.net/static/newsstand/2020/logo/dark/0604/003.png\"},\"showThumbnailView\":true,\"showListView\":true,\"regDate\":\"20231218 14:11:59\",\"_id\":null,\"@type\":\"PC-NEWSSTAND-PRESS-BLOCK\",\"@code\":null,\"@template\":\"NONE\",\"@flowId\":null,\"@flowExecutionId\":null,\"@provider\":null,\"@lastModifiedAt\":null},{\"@type\":\"PC-NEWSSTAND-PRESS-BLOCK\",\"blocks\":null,\"materials\":null,\"excludeInPaging\":false,\"positionForPaging\":0,\"realtime\":false,\"pid\":\"366\",\"name\":\"조선비즈\",\"logoLight\":{\"url\":\"https://s.pstatic.net/static/newsstand/2020/logo/light/0604/366.png\"},\"logoDark\":{\"url\":\"https://s.pstatic.net/static/newsstand/2020/logo/dark/0604/366.png\"},\"showThumbnailView\":true,\"showListView\":true,\"regDate\":\"20231218 13:56:26\",\"_id\":null,\"@type\":\"PC-NEWSSTAND-PRESS-BLOCK\",\"@code\":null,\"@template\":\"NONE\",\"@flowId\":null,\"@flowExecutionId\":null,\"@provider\":null,\"@lastModifiedAt\":null},{\"@type\":\"PC-NEWSSTAND-PRESS-BLOCK\",\"blocks\":null,\"materials\":null,\"excludeInPaging\":false,\"positionForPaging\":0,\"realtime\":false,\"pid\":\"005\",\"name\":\"국민일보\",\"logoLight\":{\"url\":\"https://s.pstatic.net/static/newsstand/2020/logo/light/0604/005.png\"},\"logoDark\":{\"url\":\"https://s.pstatic.net/static/newsstand/2020/logo/dark/0604/005.png\"},\"showThumbnailView\":true,\"showListView\":true,\"regDate\":\"20231218 14:05:27\",\"_id\":null,\"@type\":\"PC-NEWSSTAND-PRESS-BLOCK\",\"@code\":null,\"@template\":\"NONE\",\"@flowId\":null,\"@flowExecutionId\":null,\"@provider\":null,\"@lastModifiedAt\":null},{\"@type\":\"PC-NEWSSTAND-PRESS-BLOCK\",\"blocks\":null,\"materials\":null,\"excludeInPaging\":false,\"positionForPaging\":0,\"realtime\":false,\"pid\":\"368\",\"name\":\"데일리안\",\"logoLight\":{\"url\":\"https://s.pstatic.net/static/newsstand/2020/logo/light/0604/368.png\"},\"logoDark\":{\"url\":\"https://s.pstatic.net/static/newsstand/2020/logo/dark/0604/368.png\"},\"showThumbnailView\":true,\"showListView\":true,\"regDate\":\"20231218 13:57:20\",\"_id\":null,\"@type\":\"PC-NEWSSTAND-PRESS-BLOCK\",\"@code\":null,\"@template\":\"NONE\",\"@flowId\":null,\"@flowExecutionId\":null,\"@provider\":null,\"@lastModifiedAt\":null},{\"@type\":\"PC-NEWSSTAND-PRESS-BLOCK\",\"blocks\":null,\"materials\":null,\"excludeInPaging\":false,\"positionForPaging\":0,\"realtime\":false,\"pid\":\"006\",\"name\":\"미디어오늘\",\"logoLight\":{\"url\":\"https://s.pstatic.net/static/newsstand/2020/logo/light/0604/006.png\"},\"logoDark\":{\"url\":\"https://s.pstatic.net/static/newsstand/2020/logo/dark/0604/006.png\"},\"showThumbnailView\":true,\"showListView\":true,\"regDate\":\"20231218 14:15:02\",\"_id\":null,\"@type\":\"PC-NEWSSTAND-PRESS-BLOCK\",\"@code\":null,\"@template\":\"NONE\",\"@flowId\":null,\"@flowExecutionId\":null,\"@provider\":null,\"@lastModifiedAt\":null},{\"@type\":\"PC-NEWSSTAND-PRESS-BLOCK\",\"blocks\":null,\"materials\":null,\"excludeInPaging\":false,\"positionForPaging\":0,\"realtime\":false,\"pid\":\"920\",\"name\":\"아시아투데이\",\"logoLight\":{\"url\":\"https://s.pstatic.net/static/newsstand/2020/logo/light/0604/920.png\"},\"logoDark\":{\"url\":\"https://s.pstatic.net/static/newsstand/2020/logo/dark/0604/920.png\"},\"showThumbnailView\":true,\"showListView\":true,\"regDate\":\"20231218 14:00:39\",\"_id\":null,\"@type\":\"PC-NEWSSTAND-PRESS-BLOCK\",\"@code\":null,\"@template\":\"NONE\",\"@flowId\":null,\"@flowExecutionId\":null,\"@provider\":null,\"@lastModifiedAt\":null},{\"@type\":\"PC-NEWSSTAND-PRESS-BLOCK\",\"blocks\":null,\"materials\":null,\"excludeInPaging\":false,\"positionForPaging\":0,\"realtime\":false,\"pid\":\"008\",\"name\":\"머니투데이\",\"logoLight\":{\"url\":\"https://s.pstatic.net/static/newsstand/2020/logo/light/0604/008.png\"},\"logoDark\":{\"url\":\"https://s.pstatic.net/static/newsstand/2020/logo/dark/0604/008.png\"},\"showThumbnailView\":true,\"showListView\":true,\"regDate\":\"20231218 14:10:07\",\"_id\":null,\"@type\":\"PC-NEWSSTAND-PRESS-BLOCK\",\"@code\":null,\"@template\":\"NONE\",\"@flowId\":null,\"@flowExecutionId\":null,\"@provider\":null,\"@lastModifiedAt\":null},{\"@type\":\"PC-NEWSSTAND-PRESS-BLOCK\",\"blocks\":null,\"materials\":null,\"excludeInPaging\":false,\"positionForPaging\":0,\"realtime\":false,\"pid\":\"921\",\"name\":\"아주경제\",\"logoLight\":{\"url\":\"https://s.pstatic.net/static/newsstand/up/2023/0731/nsd13387289.png\"},\"logoDark\":{\"url\":\"https://s.pstatic.net/static/newsstand/up/2023/0731/nsd133759965.png\"},\"showThumbnailView\":true,\"showListView\":true,\"regDate\":\"20231218 14:12:01\",\"_id\":null,\"@type\":\"PC-NEWSSTAND-PRESS-BLOCK\",\"@code\":null,\"@template\":\"NONE\",\"@flowId\":null,\"@flowExecutionId\":null,\"@provider\":null,\"@lastModifiedAt\":null},{\"@type\":\"PC-NEWSSTAND-PRESS-BLOCK\",\"blocks\":null,\"materials\":null,\"excludeInPaging\":false,\"positionForPaging\":0,\"realtime\":false,\"pid\":\"009\",\"name\":\"매일경제\",\"logoLight\":{\"url\":\"https://s.pstatic.net/static/newsstand/2020/logo/light/0604/009.png\"},\"logoDark\":{\"url\":\"https://s.pstatic.net/static/newsstand/2020/logo/dark/0604/009.png\"},\"showThumbnailView\":true,\"showListView\":true,\"regDate\":\"20231218 14:15:07\",\"_id\":null,\"@type\":\"PC-NEWSSTAND-PRESS-BLOCK\",\"@code\":null,\"@template\":\"NONE\",\"@flowId\":null,\"@flowExecutionId\":null,\"@provider\":null,\"@lastModifiedAt\":null},{\"@type\":\"PC-NEWSSTAND-PRESS-BLOCK\",\"blocks\":null,\"materials\":null,\"excludeInPaging\":false,\"positionForPaging\":0,\"realtime\":false,\"pid\":\"801\",\"name\":\"위키리크스한국\",\"logoLight\":{\"url\":\"https://s.pstatic.net/static/newsstand/2020/logo/light/0604/801.png\"},\"logoDark\":{\"url\":\"https://s.pstatic.net/static/newsstand/2020/logo/dark/0604/801.png\"},\"showThumbnailView\":true,\"showListView\":true,\"regDate\":\"20231218 14:10:09\",\"_id\":null,\"@type\":\"PC-NEWSSTAND-PRESS-BLOCK\",\"@code\":null,\"@template\":\"NONE\",\"@flowId\":null,\"@flowExecutionId\":null,\"@provider\":null,\"@lastModifiedAt\":null},{\"@type\":\"PC-NEWSSTAND-PRESS-BLOCK\",\"blocks\":null,\"materials\":null,\"excludeInPaging\":false,\"positionForPaging\":0,\"realtime\":false,\"pid\":\"922\",\"name\":\"이투데이\",\"logoLight\":{\"url\":\"https://s.pstatic.net/static/newsstand/2020/logo/light/0604/922.png\"},\"logoDark\":{\"url\":\"https://s.pstatic.net/static/newsstand/2020/logo/dark/0604/922.png\"},\"showThumbnailView\":true,\"showListView\":true,\"regDate\":\"20231218 13:38:41\",\"_id\":null,\"@type\":\"PC-NEWSSTAND-PRESS-BLOCK\",\"@code\":null,\"@template\":\"NONE\",\"@flowId\":null,\"@flowExecutionId\":null,\"@provider\":null,\"@lastModifiedAt\":null},{\"@type\":\"PC-NEWSSTAND-PRESS-BLOCK\",\"blocks\":null,\"materials\":null,\"excludeInPaging\":false,\"positionForPaging\":0,\"realtime\":false,\"pid\":\"802\",\"name\":\"스포츠Q\",\"logoLight\":{\"url\":\"https://s.pstatic.net/static/newsstand/2020/logo/light/0604/802.png\"},\"logoDark\":{\"url\":\"https://s.pstatic.net/static/newsstand/2020/logo/dark/0604/802.png\"},\"showThumbnailView\":true,\"showListView\":true,\"regDate\":\"20231218 14:10:09\",\"_id\":null,\"@type\":\"PC-NEWSSTAND-PRESS-BLOCK\",\"@code\":null,\"@template\":\"NONE\",\"@flowId\":null,\"@flowExecutionId\":null,\"@provider\":null,\"@lastModifiedAt\":null},{\"@type\":\"PC-NEWSSTAND-PRESS-BLOCK\",\"blocks\":null,\"materials\":null,\"excludeInPaging\":false,\"positionForPaging\":0,\"realtime\":false,\"pid\":\"923\",\"name\":\"인민망\",\"logoLight\":{\"url\":\"https://s.pstatic.net/static/newsstand/2020/logo/light/0604/923.png\"},\"logoDark\":{\"url\":\"https://s.pstatic.net/static/newsstand/2020/logo/dark/0604/923.png\"},\"showThumbnailView\":true,\"showListView\":true,\"regDate\":\"20231218 12:30:02\",\"_id\":null,\"@type\":\"PC-NEWSSTAND-PRESS-BLOCK\",\"@code\":null,\"@template\":\"NONE\",\"@flowId\":null,\"@flowExecutionId\":null,\"@provider\":null,\"@lastModifiedAt\":null},{\"@type\":\"PC-NEWSSTAND-PRESS-BLOCK\",\"blocks\":null,\"materials\":null,\"excludeInPaging\":false,\"positionForPaging\":0,\"realtime\":false,\"pid\":\"803\",\"name\":\"인더스트리뉴스\",\"logoLight\":{\"url\":\"https://s.pstatic.net/static/newsstand/up/2021/0907/nsd9423633.png\"},\"logoDark\":{\"url\":\"https://s.pstatic.net/static/newsstand/up/2021/0907/nsd94216114.png\"},\"showThumbnailView\":true,\"showListView\":true,\"regDate\":\"20231218 14:10:11\",\"_id\":null,\"@type\":\"PC-NEWSSTAND-PRESS-BLOCK\",\"@code\":null,\"@template\":\"NONE\",\"@flowId\":null,\"@flowExecutionId\":null,\"@provider\":null,\"@lastModifiedAt\":null},{\"@type\":\"PC-NEWSSTAND-PRESS-BLOCK\",\"blocks\":null,\"materials\":null,\"excludeInPaging\":false,\"positionForPaging\":0,\"realtime\":false,\"pid\":\"924\",\"name\":\"인벤\",\"logoLight\":{\"url\":\"https://s.pstatic.net/static/newsstand/2020/logo/light/0604/924.png\"},\"logoDark\":{\"url\":\"https://s.pstatic.net/static/newsstand/2020/logo/dark/0604/924.png\"},\"showThumbnailView\":true,\"showListView\":true,\"regDate\":\"20231218 08:00:01\",\"_id\":null,\"@type\":\"PC-NEWSSTAND-PRESS-BLOCK\",\"@code\":null,\"@template\":\"NONE\",\"@flowId\":null,\"@flowExecutionId\":null,\"@provider\":null,\"@lastModifiedAt\":null},{\"@type\":\"PC-NEWSSTAND-PRESS-BLOCK\",\"blocks\":null,\"materials\":null,\"excludeInPaging\":false,\"positionForPaging\":0,\"realtime\":false,\"pid\":\"804\",\"name\":\"데이터뉴스\",\"logoLight\":{\"url\":\"https://s.pstatic.net/static/newsstand/2020/logo/light/0604/804.png\"},\"logoDark\":{\"url\":\"https://s.pstatic.net/static/newsstand/2020/logo/dark/0604/804.png\"},\"showThumbnailView\":true,\"showListView\":true,\"regDate\":\"20231218 10:30:04\",\"_id\":null,\"@type\":\"PC-NEWSSTAND-PRESS-BLOCK\",\"@code\":null,\"@template\":\"NONE\",\"@flowId\":null,\"@flowExecutionId\":null,\"@provider\":null,\"@lastModifiedAt\":null},{\"@type\":\"PC-NEWSSTAND-PRESS-BLOCK\",\"blocks\":null,\"materials\":null,\"excludeInPaging\":false,\"positionForPaging\":0,\"realtime\":false,\"pid\":\"925\",\"name\":\"일요신문\",\"logoLight\":{\"url\":\"https://s.pstatic.net/static/newsstand/2020/logo/light/0604/925.png\"},\"logoDark\":{\"url\":\"https://s.pstatic.net/static/newsstand/2020/logo/dark/0604/925.png\"},\"showThumbnailView\":true,\"showListView\":true,\"regDate\":\"20231218 10:11:49\",\"_id\":null,\"@type\":\"PC-NEWSSTAND-PRESS-BLOCK\",\"@code\":null,\"@template\":\"NONE\",\"@flowId\":null,\"@flowExecutionId\":null,\"@provider\":null,\"@lastModifiedAt\":null},{\"@type\":\"PC-NEWSSTAND-PRESS-BLOCK\",\"blocks\":null,\"materials\":null,\"excludeInPaging\":false,\"positionForPaging\":0,\"realtime\":false,\"pid\":\"805\",\"name\":\"한경잡앤조이\",\"logoLight\":{\"url\":\"https://s.pstatic.net/static/newsstand/up/2020/0615/nsd10319824.png\"},\"logoDark\":{\"url\":\"https://s.pstatic.net/static/newsstand/up/2020/0615/nsd10311145.png\"},\"showThumbnailView\":true,\"showListView\":true,\"regDate\":\"20231215 12:15:13\",\"_id\":null,\"@type\":\"PC-NEWSSTAND-PRESS-BLOCK\",\"@code\":null,\"@template\":\"NONE\",\"@flowId\":null,\"@flowExecutionId\":null,\"@provider\":null,\"@lastModifiedAt\":null},{\"@type\":\"PC-NEWSSTAND-PRESS-BLOCK\",\"blocks\":null,\"materials\":null,\"excludeInPaging\":false,\"positionForPaging\":0,\"realtime\":false,\"pid\":\"926\",\"name\":\"중부일보\",\"logoLight\":{\"url\":\"https://s.pstatic.net/static/newsstand/up/2022/0704/nsd231551300.png\"},\"logoDark\":{\"url\":\"https://s.pstatic.net/static/newsstand/up/2022/0704/nsd231545458.png\"},\"showThumbnailView\":true,\"showListView\":true,\"regDate\":\"20231218 08:32:59\",\"_id\":null,\"@type\":\"PC-NEWSSTAND-PRESS-BLOCK\",\"@code\":null,\"@template\":\"NONE\",\"@flowId\":null,\"@flowExecutionId\":null,\"@provider\":null,\"@lastModifiedAt\":null},{\"@type\":\"PC-NEWSSTAND-PRESS-BLOCK\",\"blocks\":null,\"materials\":null,\"excludeInPaging\":false,\"positionForPaging\":0,\"realtime\":false,\"pid\":\"806\",\"name\":\"머니\",\"logoLight\":{\"url\":\"https://s.pstatic.net/static/newsstand/2020/logo/light/0604/806.png\"},\"logoDark\":{\"url\":\"https://s.pstatic.net/static/newsstand/2020/logo/dark/0604/806.png\"},\"showThumbnailView\":true,\"showListView\":true,\"regDate\":\"20231215 12:15:39\",\"_id\":null,\"@type\":\"PC-NEWSSTAND-PRESS-BLOCK\",\"@code\":null,\"@template\":\"NONE\",\"@flowId\":null,\"@flowExecutionId\":null,\"@provider\":null,\"@lastModifiedAt\":null},{\"@type\":\"PC-NEWSSTAND-PRESS-BLOCK\",\"blocks\":null,\"materials\":null,\"excludeInPaging\":false,\"positionForPaging\":0,\"realtime\":false,\"pid\":\"927\",\"name\":\"충북일보\",\"logoLight\":{\"url\":\"https://s.pstatic.net/static/newsstand/2020/logo/light/0604/927.png\"},\"logoDark\":{\"url\":\"https://s.pstatic.net/static/newsstand/2020/logo/dark/0604/927.png\"},\"showThumbnailView\":true,\"showListView\":true,\"regDate\":\"20231217 21:43:15\",\"_id\":null,\"@type\":\"PC-NEWSSTAND-PRESS-BLOCK\",\"@code\":null,\"@template\":\"NONE\",\"@flowId\":null,\"@flowExecutionId\":null,\"@provider\":null,\"@lastModifiedAt\":null},{\"@type\":\"PC-NEWSSTAND-PRESS-BLOCK\",\"blocks\":null,\"materials\":null,\"excludeInPaging\":false,\"positionForPaging\":0,\"realtime\":false,\"pid\":\"807\",\"name\":\"인사이트코리아\",\"logoLight\":{\"url\":\"https://s.pstatic.net/static/newsstand/2020/logo/light/0604/807.png\"},\"logoDark\":{\"url\":\"https://s.pstatic.net/static/newsstand/2020/logo/dark/0604/807.png\"},\"showThumbnailView\":true,\"showListView\":true,\"regDate\":\"20231218 14:10:12\",\"_id\":null,\"@type\":\"PC-NEWSSTAND-PRESS-BLOCK\",\"@code\":null,\"@template\":\"NONE\",\"@flowId\":null,\"@flowExecutionId\":null,\"@provider\":null,\"@lastModifiedAt\":null},{\"@type\":\"PC-NEWSSTAND-PRESS-BLOCK\",\"blocks\":null,\"materials\":null,\"excludeInPaging\":false,\"positionForPaging\":0,\"realtime\":false,\"pid\":\"928\",\"name\":\"컴퓨터월드\",\"logoLight\":{\"url\":\"https://s.pstatic.net/static/newsstand/2020/logo/light/0604/928.png\"},\"logoDark\":{\"url\":\"https://s.pstatic.net/static/newsstand/2020/logo/dark/0604/928.png\"},\"showThumbnailView\":true,\"showListView\":true,\"regDate\":\"20231201 00:03:54\",\"_id\":null,\"@type\":\"PC-NEWSSTAND-PRESS-BLOCK\",\"@code\":null,\"@template\":\"NONE\",\"@flowId\":null,\"@flowExecutionId\":null,\"@provider\":null,\"@lastModifiedAt\":null},{\"@type\":\"PC-NEWSSTAND-PRESS-BLOCK\",\"blocks\":null,\"materials\":null,\"excludeInPaging\":false,\"positionForPaging\":0,\"realtime\":false,\"pid\":\"808\",\"name\":\"산업일보\",\"logoLight\":{\"url\":\"https://s.pstatic.net/static/newsstand/2020/logo/light/0604/808.png\"},\"logoDark\":{\"url\":\"https://s.pstatic.net/static/newsstand/2020/logo/dark/0604/808.png\"},\"showThumbnailView\":true,\"showListView\":true,\"regDate\":\"20231218 14:15:04\",\"_id\":null,\"@type\":\"PC-NEWSSTAND-PRESS-BLOCK\",\"@code\":null,\"@template\":\"NONE\",\"@flowId\":null,\"@flowExecutionId\":null,\"@provider\":null,\"@lastModifiedAt\":null},{\"@type\":\"PC-NEWSSTAND-PRESS-BLOCK\",\"blocks\":null,\"materials\":null,\"excludeInPaging\":false,\"positionForPaging\":0,\"realtime\":false,\"pid\":\"809\",\"name\":\"미디어펜\",\"logoLight\":{\"url\":\"https://s.pstatic.net/static/newsstand/2020/logo/light/0604/809.png\"},\"logoDark\":{\"url\":\"https://s.pstatic.net/static/newsstand/2020/logo/dark/0604/809.png\"},\"showThumbnailView\":true,\"showListView\":true,\"regDate\":\"20231212 17:31:33\",\"_id\":null,\"@type\":\"PC-NEWSSTAND-PRESS-BLOCK\",\"@code\":null,\"@template\":\"NONE\",\"@flowId\":null,\"@flowExecutionId\":null,\"@provider\":null,\"@lastModifiedAt\":null},{\"@type\":\"PC-NEWSSTAND-PRESS-BLOCK\",\"blocks\":null,\"materials\":null,\"excludeInPaging\":false,\"positionForPaging\":0,\"realtime\":false,\"pid\":\"011\",\"name\":\"서울경제\",\"logoLight\":{\"url\":\"https://s.pstatic.net/static/newsstand/2019/logo/011.png\"},\"logoDark\":{\"url\":\"https://s.pstatic.net/static/newsstand/2020/logo/dark/0604/011.png\"},\"showThumbnailView\":true,\"showListView\":true,\"regDate\":\"20231218 13:46:01\",\"_id\":null,\"@type\":\"PC-NEWSSTAND-PRESS-BLOCK\",\"@code\":null,\"@template\":\"NONE\",\"@flowId\":null,\"@flowExecutionId\":null,\"@provider\":null,\"@lastModifiedAt\":null},{\"@type\":\"PC-NEWSSTAND-PRESS-BLOCK\",\"blocks\":null,\"materials\":null,\"excludeInPaging\":false,\"positionForPaging\":0,\"realtime\":false,\"pid\":\"374\",\"name\":\"SBS Biz\",\"logoLight\":{\"url\":\"https://s.pstatic.net/static/newsstand/up/2020/1229/nsd165811867.png\"},\"logoDark\":{\"url\":\"https://s.pstatic.net/static/newsstand/up/2020/1229/nsd165811867.png\"},\"showThumbnailView\":true,\"showListView\":true,\"regDate\":\"20231218 13:30:32\",\"_id\":null,\"@type\":\"PC-NEWSSTAND-PRESS-BLOCK\",\"@code\":null,\"@template\":\"NONE\",\"@flowId\":null,\"@flowExecutionId\":null,\"@provider\":null,\"@lastModifiedAt\":null},{\"@type\":\"PC-NEWSSTAND-PRESS-BLOCK\",\"blocks\":null,\"materials\":null,\"excludeInPaging\":false,\"positionForPaging\":0,\"realtime\":false,\"pid\":\"013\",\"name\":\"연합인포맥스\",\"logoLight\":{\"url\":\"https://s.pstatic.net/static/newsstand/2020/logo/light/0604/013.png\"},\"logoDark\":{\"url\":\"https://s.pstatic.net/static/newsstand/2020/logo/dark/0604/013.png\"},\"showThumbnailView\":true,\"showListView\":true,\"regDate\":\"20231218 14:10:29\",\"_id\":null,\"@type\":\"PC-NEWSSTAND-PRESS-BLOCK\",\"@code\":null,\"@template\":\"NONE\",\"@flowId\":null,\"@flowExecutionId\":null,\"@provider\":null,\"@lastModifiedAt\":null},{\"@type\":\"PC-NEWSSTAND-PRESS-BLOCK\",\"blocks\":null,\"materials\":null,\"excludeInPaging\":false,\"positionForPaging\":0,\"realtime\":false,\"pid\":\"376\",\"name\":\"지지통신\",\"logoLight\":{\"url\":\"https://s.pstatic.net/static/newsstand/2020/logo/light/0604/376.png\"},\"logoDark\":{\"url\":\"https://s.pstatic.net/static/newsstand/2020/logo/dark/0604/376.png\"},\"showThumbnailView\":true,\"showListView\":true,\"regDate\":\"20231218 14:10:04\",\"_id\":null,\"@type\":\"PC-NEWSSTAND-PRESS-BLOCK\",\"@code\":null,\"@template\":\"NONE\",\"@flowId\":null,\"@flowExecutionId\":null,\"@provider\":null,\"@lastModifiedAt\":null},{\"@type\":\"PC-NEWSSTAND-PRESS-BLOCK\",\"blocks\":null,\"materials\":null,\"excludeInPaging\":false,\"positionForPaging\":0,\"realtime\":false,\"pid\":\"014\",\"name\":\"파이낸셜뉴스\",\"logoLight\":{\"url\":\"https://s.pstatic.net/static/newsstand/2020/logo/light/0604/014.png\"},\"logoDark\":{\"url\":\"https://s.pstatic.net/static/newsstand/2020/logo/dark/0604/014.png\"},\"showThumbnailView\":true,\"showListView\":true,\"regDate\":\"20231218 13:58:23\",\"_id\":null,\"@type\":\"PC-NEWSSTAND-PRESS-BLOCK\",\"@code\":null,\"@template\":\"NONE\",\"@flowId\":null,\"@flowExecutionId\":null,\"@provider\":null,\"@lastModifiedAt\":null},{\"@type\":\"PC-NEWSSTAND-PRESS-BLOCK\",\"blocks\":null,\"materials\":null,\"excludeInPaging\":false,\"positionForPaging\":0,\"realtime\":false,\"pid\":\"135\",\"name\":\"시사저널\",\"logoLight\":{\"url\":\"https://s.pstatic.net/static/newsstand/2020/logo/light/0604/135.png\"},\"logoDark\":{\"url\":\"https://s.pstatic.net/static/newsstand/2020/logo/dark/0604/135.png\"},\"showThumbnailView\":true,\"showListView\":true,\"regDate\":\"20231218 14:10:07\",\"_id\":null,\"@type\":\"PC-NEWSSTAND-PRESS-BLOCK\",\"@code\":null,\"@template\":\"NONE\",\"@flowId\":null,\"@flowExecutionId\":null,\"@provider\":null,\"@lastModifiedAt\":null},{\"@type\":\"PC-NEWSSTAND-PRESS-BLOCK\",\"blocks\":null,\"materials\":null,\"excludeInPaging\":false,\"positionForPaging\":0,\"realtime\":false,\"pid\":\"015\",\"name\":\"한국경제\",\"logoLight\":{\"url\":\"https://s.pstatic.net/static/newsstand/2020/logo/light/0604/015.png\"},\"logoDark\":{\"url\":\"https://s.pstatic.net/static/newsstand/2020/logo/dark/0604/015.png\"},\"showThumbnailView\":true,\"showListView\":true,\"regDate\":\"20231218 14:06:14\",\"_id\":null,\"@type\":\"PC-NEWSSTAND-PRESS-BLOCK\",\"@code\":null,\"@template\":\"NONE\",\"@flowId\":null,\"@flowExecutionId\":null,\"@provider\":null,\"@lastModifiedAt\":null},{\"@type\":\"PC-NEWSSTAND-PRESS-BLOCK\",\"blocks\":null,\"materials\":null,\"excludeInPaging\":false,\"positionForPaging\":0,\"realtime\":false,\"pid\":\"016\",\"name\":\"헤럴드경제\",\"logoLight\":{\"url\":\"https://s.pstatic.net/static/newsstand/2020/logo/light/0604/016.png\"},\"logoDark\":{\"url\":\"https://s.pstatic.net/static/newsstand/2020/logo/dark/0604/016.png\"},\"showThumbnailView\":true,\"showListView\":true,\"regDate\":\"20231218 11:31:18\",\"_id\":null,\"@type\":\"PC-NEWSSTAND-PRESS-BLOCK\",\"@code\":null,\"@template\":\"NONE\",\"@flowId\":null,\"@flowExecutionId\":null,\"@provider\":null,\"@lastModifiedAt\":null},{\"@type\":\"PC-NEWSSTAND-PRESS-BLOCK\",\"blocks\":null,\"materials\":null,\"excludeInPaging\":false,\"positionForPaging\":0,\"realtime\":false,\"pid\":\"138\",\"name\":\"디지털데일리\",\"logoLight\":{\"url\":\"https://s.pstatic.net/static/newsstand/2020/logo/light/0604/138.png\"},\"logoDark\":{\"url\":\"https://s.pstatic.net/static/newsstand/2020/logo/dark/0604/138.png\"},\"showThumbnailView\":true,\"showListView\":true,\"regDate\":\"20231217 14:33:13\",\"_id\":null,\"@type\":\"PC-NEWSSTAND-PRESS-BLOCK\",\"@code\":null,\"@template\":\"NONE\",\"@flowId\":null,\"@flowExecutionId\":null,\"@provider\":null,\"@lastModifiedAt\":null},{\"@type\":\"PC-NEWSSTAND-PRESS-BLOCK\",\"blocks\":null,\"materials\":null,\"excludeInPaging\":false,\"positionForPaging\":0,\"realtime\":false,\"pid\":\"930\",\"name\":\"뉴스타파\",\"logoLight\":{\"url\":\"https://s.pstatic.net/static/newsstand/2020/logo/light/0604/930.png\"},\"logoDark\":{\"url\":\"https://s.pstatic.net/static/newsstand/2020/logo/dark/0604/930.png\"},\"showThumbnailView\":true,\"showListView\":true,\"regDate\":\"20231214 16:01:45\",\"_id\":null,\"@type\":\"PC-NEWSSTAND-PRESS-BLOCK\",\"@code\":null,\"@template\":\"NONE\",\"@flowId\":null,\"@flowExecutionId\":null,\"@provider\":null,\"@lastModifiedAt\":null},{\"@type\":\"PC-NEWSSTAND-PRESS-BLOCK\",\"blocks\":null,\"materials\":null,\"excludeInPaging\":false,\"positionForPaging\":0,\"realtime\":false,\"pid\":\"018\",\"name\":\"이데일리\",\"logoLight\":{\"url\":\"https://s.pstatic.net/static/newsstand/2020/logo/light/0604/018.png\"},\"logoDark\":{\"url\":\"https://s.pstatic.net/static/newsstand/2020/logo/dark/0604/018.png\"},\"showThumbnailView\":true,\"showListView\":true,\"regDate\":\"20231218 13:59:25\",\"_id\":null,\"@type\":\"PC-NEWSSTAND-PRESS-BLOCK\",\"@code\":null,\"@template\":\"NONE\",\"@flowId\":null,\"@flowExecutionId\":null,\"@provider\":null,\"@lastModifiedAt\":null},{\"@type\":\"PC-NEWSSTAND-PRESS-BLOCK\",\"blocks\":null,\"materials\":null,\"excludeInPaging\":false,\"positionForPaging\":0,\"realtime\":false,\"pid\":\"139\",\"name\":\"스포탈코리아\",\"logoLight\":{\"url\":\"https://s.pstatic.net/static/newsstand/2020/logo/light/0604/139.png\"},\"logoDark\":{\"url\":\"https://s.pstatic.net/static/newsstand/2020/logo/dark/0604/139.png\"},\"showThumbnailView\":true,\"showListView\":true,\"regDate\":\"20231217 10:50:38\",\"_id\":null,\"@type\":\"PC-NEWSSTAND-PRESS-BLOCK\",\"@code\":null,\"@template\":\"NONE\",\"@flowId\":null,\"@flowExecutionId\":null,\"@provider\":null,\"@lastModifiedAt\":null},{\"@type\":\"PC-NEWSSTAND-PRESS-BLOCK\",\"blocks\":null,\"materials\":null,\"excludeInPaging\":false,\"positionForPaging\":0,\"realtime\":false,\"pid\":\"810\",\"name\":\"신아일보\",\"logoLight\":{\"url\":\"https://s.pstatic.net/static/newsstand/up/2021/0316/nsd103953129.png\"},\"logoDark\":{\"url\":\"https://s.pstatic.net/static/newsstand/up/2021/0316/nsd104012979.png\"},\"showThumbnailView\":true,\"showListView\":true,\"regDate\":\"20231218 14:10:12\",\"_id\":null,\"@type\":\"PC-NEWSSTAND-PRESS-BLOCK\",\"@code\":null,\"@template\":\"NONE\",\"@flowId\":null,\"@flowExecutionId\":null,\"@provider\":null,\"@lastModifiedAt\":null},{\"@type\":\"PC-NEWSSTAND-PRESS-BLOCK\",\"blocks\":null,\"materials\":null,\"excludeInPaging\":false,\"positionForPaging\":0,\"realtime\":false,\"pid\":\"811\",\"name\":\"한국농어촌방송\",\"logoLight\":{\"url\":\"https://s.pstatic.net/static/newsstand/up/2022/0315/nsd181452869.png\"},\"logoDark\":{\"url\":\"https://s.pstatic.net/static/newsstand/up/2022/0315/nsd18156958.png\"},\"showThumbnailView\":true,\"showListView\":true,\"regDate\":\"20231218 14:10:13\",\"_id\":null,\"@type\":\"PC-NEWSSTAND-PRESS-BLOCK\",\"@code\":null,\"@template\":\"NONE\",\"@flowId\":null,\"@flowExecutionId\":null,\"@provider\":null,\"@lastModifiedAt\":null},{\"@type\":\"PC-NEWSSTAND-PRESS-BLOCK\",\"blocks\":null,\"materials\":null,\"excludeInPaging\":false,\"positionForPaging\":0,\"realtime\":false,\"pid\":\"932\",\"name\":\"CEO스코어데일리\",\"logoLight\":{\"url\":\"https://s.pstatic.net/static/newsstand/2020/logo/light/0604/932.png\"},\"logoDark\":{\"url\":\"https://s.pstatic.net/static/newsstand/2020/logo/dark/0604/932.png\"},\"showThumbnailView\":true,\"showListView\":true,\"regDate\":\"20231218 09:29:47\",\"_id\":null,\"@type\":\"PC-NEWSSTAND-PRESS-BLOCK\",\"@code\":null,\"@template\":\"NONE\",\"@flowId\":null,\"@flowExecutionId\":null,\"@provider\":null,\"@lastModifiedAt\":null},{\"@type\":\"PC-NEWSSTAND-PRESS-BLOCK\",\"blocks\":null,\"materials\":null,\"excludeInPaging\":false,\"positionForPaging\":0,\"realtime\":false,\"pid\":\"812\",\"name\":\"데일리임팩트\",\"logoLight\":{\"url\":\"https://s.pstatic.net/static/newsstand/up/2021/0819/nsd151219656.png\"},\"logoDark\":{\"url\":\"https://s.pstatic.net/static/newsstand/up/2021/0819/nsd151254429.png\"},\"showThumbnailView\":true,\"showListView\":true,\"regDate\":\"20231218 14:10:14\",\"_id\":null,\"@type\":\"PC-NEWSSTAND-PRESS-BLOCK\",\"@code\":null,\"@template\":\"NONE\",\"@flowId\":null,\"@flowExecutionId\":null,\"@provider\":null,\"@lastModifiedAt\":null},{\"@type\":\"PC-NEWSSTAND-PRESS-BLOCK\",\"blocks\":null,\"materials\":null,\"excludeInPaging\":false,\"positionForPaging\":0,\"realtime\":false,\"pid\":\"813\",\"name\":\"이코노믹리뷰\",\"logoLight\":{\"url\":\"https://s.pstatic.net/static/newsstand/up/2022/0418/nsd164755323.png\"},\"logoDark\":{\"url\":\"https://s.pstatic.net/static/newsstand/up/2022/0418/nsd164818946.png\"},\"showThumbnailView\":true,\"showListView\":true,\"regDate\":\"20231218 14:10:15\",\"_id\":null,\"@type\":\"PC-NEWSSTAND-PRESS-BLOCK\",\"@code\":null,\"@template\":\"NONE\",\"@flowId\":null,\"@flowExecutionId\":null,\"@provider\":null,\"@lastModifiedAt\":null},{\"@type\":\"PC-NEWSSTAND-PRESS-BLOCK\",\"blocks\":null,\"materials\":null,\"excludeInPaging\":false,\"positionForPaging\":0,\"realtime\":false,\"pid\":\"934\",\"name\":\"Arirang TV\",\"logoLight\":{\"url\":\"https://s.pstatic.net/static/newsstand/2020/logo/light/0604/934.png\"},\"logoDark\":{\"url\":\"https://s.pstatic.net/static/newsstand/2020/logo/dark/0604/934.png\"},\"showThumbnailView\":true,\"showListView\":true,\"regDate\":\"20231218 12:25:20\",\"_id\":null,\"@type\":\"PC-NEWSSTAND-PRESS-BLOCK\",\"@code\":null,\"@template\":\"NONE\",\"@flowId\":null,\"@flowExecutionId\":null,\"@provider\":null,\"@lastModifiedAt\":null},{\"@type\":\"PC-NEWSSTAND-PRESS-BLOCK\",\"blocks\":null,\"materials\":null,\"excludeInPaging\":false,\"positionForPaging\":0,\"realtime\":false,\"pid\":\"814\",\"name\":\"미주한국일보\",\"logoLight\":{\"url\":\"https://s.pstatic.net/static/newsstand/2020/logo/light/0604/814.png\"},\"logoDark\":{\"url\":\"https://s.pstatic.net/static/newsstand/2020/logo/dark/0604/814.png\"},\"showThumbnailView\":true,\"showListView\":true,\"regDate\":\"20231218 12:27:11\",\"_id\":null,\"@type\":\"PC-NEWSSTAND-PRESS-BLOCK\",\"@code\":null,\"@template\":\"NONE\",\"@flowId\":null,\"@flowExecutionId\":null,\"@provider\":null,\"@lastModifiedAt\":null},{\"@type\":\"PC-NEWSSTAND-PRESS-BLOCK\",\"blocks\":null,\"materials\":null,\"excludeInPaging\":false,\"positionForPaging\":0,\"realtime\":false,\"pid\":\"935\",\"name\":\"경상일보\",\"logoLight\":{\"url\":\"https://s.pstatic.net/static/newsstand/2020/logo/light/0604/935.png\"},\"logoDark\":{\"url\":\"https://s.pstatic.net/static/newsstand/2020/logo/dark/0604/935.png\"},\"showThumbnailView\":true,\"showListView\":true,\"regDate\":\"20231218 01:43:34\",\"_id\":null,\"@type\":\"PC-NEWSSTAND-PRESS-BLOCK\",\"@code\":null,\"@template\":\"NONE\",\"@flowId\":null,\"@flowExecutionId\":null,\"@provider\":null,\"@lastModifiedAt\":null},{\"@type\":\"PC-NEWSSTAND-PRESS-BLOCK\",\"blocks\":null,\"materials\":null,\"excludeInPaging\":false,\"positionForPaging\":0,\"realtime\":false,\"pid\":\"815\",\"name\":\"법률방송뉴스\",\"logoLight\":{\"url\":\"https://s.pstatic.net/static/newsstand/2020/logo/light/0604/815.png\"},\"logoDark\":{\"url\":\"https://s.pstatic.net/static/newsstand/2020/logo/dark/0604/815.png\"},\"showThumbnailView\":true,\"showListView\":true,\"regDate\":\"20231218 14:10:15\",\"_id\":null,\"@type\":\"PC-NEWSSTAND-PRESS-BLOCK\",\"@code\":null,\"@template\":\"NONE\",\"@flowId\":null,\"@flowExecutionId\":null,\"@provider\":null,\"@lastModifiedAt\":null},{\"@type\":\"PC-NEWSSTAND-PRESS-BLOCK\",\"blocks\":null,\"materials\":null,\"excludeInPaging\":false,\"positionForPaging\":0,\"realtime\":false,\"pid\":\"936\",\"name\":\"대구일보\",\"logoLight\":{\"url\":\"https://s.pstatic.net/static/newsstand/2020/logo/light/0604/936.png\"},\"logoDark\":{\"url\":\"https://s.pstatic.net/static/newsstand/2020/logo/dark/0604/936.png\"},\"showThumbnailView\":true,\"showListView\":true,\"regDate\":\"20231218 09:11:31\",\"_id\":null,\"@type\":\"PC-NEWSSTAND-PRESS-BLOCK\",\"@code\":null,\"@template\":\"NONE\",\"@flowId\":null,\"@flowExecutionId\":null,\"@provider\":null,\"@lastModifiedAt\":null},{\"@type\":\"PC-NEWSSTAND-PRESS-BLOCK\",\"blocks\":null,\"materials\":null,\"excludeInPaging\":false,\"positionForPaging\":0,\"realtime\":false,\"pid\":\"816\",\"name\":\"시사오늘\",\"logoLight\":{\"url\":\"https://s.pstatic.net/static/newsstand/2020/logo/light/0604/816.png\"},\"logoDark\":{\"url\":\"https://s.pstatic.net/static/newsstand/2020/logo/dark/0604/816.png\"},\"showThumbnailView\":true,\"showListView\":true,\"regDate\":\"20231218 14:10:16\",\"_id\":null,\"@type\":\"PC-NEWSSTAND-PRESS-BLOCK\",\"@code\":null,\"@template\":\"NONE\",\"@flowId\":null,\"@flowExecutionId\":null,\"@provider\":null,\"@lastModifiedAt\":null},{\"@type\":\"PC-NEWSSTAND-PRESS-BLOCK\",\"blocks\":null,\"materials\":null,\"excludeInPaging\":false,\"positionForPaging\":0,\"realtime\":false,\"pid\":\"937\",\"name\":\"전북도민일보\",\"logoLight\":{\"url\":\"https://s.pstatic.net/static/newsstand/2020/logo/light/0604/937.png\"},\"logoDark\":{\"url\":\"https://s.pstatic.net/static/newsstand/2020/logo/dark/0604/937.png\"},\"showThumbnailView\":true,\"showListView\":true,\"regDate\":\"20231217 20:20:37\",\"_id\":null,\"@type\":\"PC-NEWSSTAND-PRESS-BLOCK\",\"@code\":null,\"@template\":\"NONE\",\"@flowId\":null,\"@flowExecutionId\":null,\"@provider\":null,\"@lastModifiedAt\":null},{\"@type\":\"PC-NEWSSTAND-PRESS-BLOCK\",\"blocks\":null,\"materials\":null,\"excludeInPaging\":false,\"positionForPaging\":0,\"realtime\":false,\"pid\":\"817\",\"name\":\"미디어제주\",\"logoLight\":{\"url\":\"https://s.pstatic.net/static/newsstand/2020/logo/light/0604/817.png\"},\"logoDark\":{\"url\":\"https://s.pstatic.net/static/newsstand/2020/logo/dark/0604/817.png\"},\"showThumbnailView\":true,\"showListView\":true,\"regDate\":\"20231218 14:10:17\",\"_id\":null,\"@type\":\"PC-NEWSSTAND-PRESS-BLOCK\",\"@code\":null,\"@template\":\"NONE\",\"@flowId\":null,\"@flowExecutionId\":null,\"@provider\":null,\"@lastModifiedAt\":null},{\"@type\":\"PC-NEWSSTAND-PRESS-BLOCK\",\"blocks\":null,\"materials\":null,\"excludeInPaging\":false,\"positionForPaging\":0,\"realtime\":false,\"pid\":\"938\",\"name\":\"그린포스트코리아\",\"logoLight\":{\"url\":\"https://s.pstatic.net/static/newsstand/2020/logo/light/0604/938.png\"},\"logoDark\":{\"url\":\"https://s.pstatic.net/static/newsstand/2020/logo/dark/0604/938.png\"},\"showThumbnailView\":true,\"showListView\":true,\"regDate\":\"20231218 14:10:32\",\"_id\":null,\"@type\":\"PC-NEWSSTAND-PRESS-BLOCK\",\"@code\":null,\"@template\":\"NONE\",\"@flowId\":null,\"@flowExecutionId\":null,\"@provider\":null,\"@lastModifiedAt\":null},{\"@type\":\"PC-NEWSSTAND-PRESS-BLOCK\",\"blocks\":null,\"materials\":null,\"excludeInPaging\":false,\"positionForPaging\":0,\"realtime\":false,\"pid\":\"818\",\"name\":\"IT동아\",\"logoLight\":{\"url\":\"https://s.pstatic.net/static/newsstand/2020/logo/light/0604/818.png\"},\"logoDark\":{\"url\":\"https://s.pstatic.net/static/newsstand/2020/logo/dark/0604/818.png\"},\"showThumbnailView\":true,\"showListView\":true,\"regDate\":\"20231218 14:14:46\",\"_id\":null,\"@type\":\"PC-NEWSSTAND-PRESS-BLOCK\",\"@code\":null,\"@template\":\"NONE\",\"@flowId\":null,\"@flowExecutionId\":null,\"@provider\":null,\"@lastModifiedAt\":null},{\"@type\":\"PC-NEWSSTAND-PRESS-BLOCK\",\"blocks\":null,\"materials\":null,\"excludeInPaging\":false,\"positionForPaging\":0,\"realtime\":false,\"pid\":\"819\",\"name\":\"바이라인네트워크\",\"logoLight\":{\"url\":\"https://s.pstatic.net/static/newsstand/2020/logo/light/0604/819.png\"},\"logoDark\":{\"url\":\"https://s.pstatic.net/static/newsstand/2020/logo/dark/0604/819.png\"},\"showThumbnailView\":true,\"showListView\":true,\"regDate\":\"20231218 14:07:45\",\"_id\":null,\"@type\":\"PC-NEWSSTAND-PRESS-BLOCK\",\"@code\":null,\"@template\":\"NONE\",\"@flowId\":null,\"@flowExecutionId\":null,\"@provider\":null,\"@lastModifiedAt\":null},{\"@type\":\"PC-NEWSSTAND-PRESS-BLOCK\",\"blocks\":null,\"materials\":null,\"excludeInPaging\":false,\"positionForPaging\":0,\"realtime\":false,\"pid\":\"140\",\"name\":\"씨네21\",\"logoLight\":{\"url\":\"https://s.pstatic.net/static/newsstand/2020/logo/light/0604/140.png\"},\"logoDark\":{\"url\":\"https://s.pstatic.net/static/newsstand/2020/logo/dark/0604/140.png\"},\"showThumbnailView\":true,\"showListView\":true,\"regDate\":\"20231218 14:00:00\",\"_id\":null,\"@type\":\"PC-NEWSSTAND-PRESS-BLOCK\",\"@code\":null,\"@template\":\"NONE\",\"@flowId\":null,\"@flowExecutionId\":null,\"@provider\":null,\"@lastModifiedAt\":null},{\"@type\":\"PC-NEWSSTAND-PRESS-BLOCK\",\"blocks\":null,\"materials\":null,\"excludeInPaging\":false,\"positionForPaging\":0,\"realtime\":false,\"pid\":\"020\",\"name\":\"동아일보\",\"logoLight\":{\"url\":\"https://s.pstatic.net/static/newsstand/2020/logo/light/0604/020.png\"},\"logoDark\":{\"url\":\"https://s.pstatic.net/static/newsstand/2020/logo/dark/0604/020.png\"},\"showThumbnailView\":true,\"showListView\":true,\"regDate\":\"20231218 13:35:11\",\"_id\":null,\"@type\":\"PC-NEWSSTAND-PRESS-BLOCK\",\"@code\":null,\"@template\":\"NONE\",\"@flowId\":null,\"@flowExecutionId\":null,\"@provider\":null,\"@lastModifiedAt\":null},{\"@type\":\"PC-NEWSSTAND-PRESS-BLOCK\",\"blocks\":null,\"materials\":null,\"excludeInPaging\":false,\"positionForPaging\":0,\"realtime\":false,\"pid\":\"021\",\"name\":\"문화일보\",\"logoLight\":{\"url\":\"https://s.pstatic.net/static/newsstand/2020/logo/light/0604/021.png\"},\"logoDark\":{\"url\":\"https://s.pstatic.net/static/newsstand/2020/logo/dark/0604/021.png\"},\"showThumbnailView\":true,\"showListView\":true,\"regDate\":\"20231218 14:14:39\",\"_id\":null,\"@type\":\"PC-NEWSSTAND-PRESS-BLOCK\",\"@code\":null,\"@template\":\"NONE\",\"@flowId\":null,\"@flowExecutionId\":null,\"@provider\":null,\"@lastModifiedAt\":null},{\"@type\":\"PC-NEWSSTAND-PRESS-BLOCK\",\"blocks\":null,\"materials\":null,\"excludeInPaging\":false,\"positionForPaging\":0,\"realtime\":false,\"pid\":\"384\",\"name\":\"한국대학신문\",\"logoLight\":{\"url\":\"https://s.pstatic.net/static/newsstand/2020/logo/light/0604/384.png\"},\"logoDark\":{\"url\":\"https://s.pstatic.net/static/newsstand/2020/logo/dark/0604/384.png\"},\"showThumbnailView\":true,\"showListView\":true,\"regDate\":\"20231218 14:10:06\",\"_id\":null,\"@type\":\"PC-NEWSSTAND-PRESS-BLOCK\",\"@code\":null,\"@template\":\"NONE\",\"@flowId\":null,\"@flowExecutionId\":null,\"@provider\":null,\"@lastModifiedAt\":null},{\"@type\":\"PC-NEWSSTAND-PRESS-BLOCK\",\"blocks\":null,\"materials\":null,\"excludeInPaging\":false,\"positionForPaging\":0,\"realtime\":false,\"pid\":\"022\",\"name\":\"세계일보\",\"logoLight\":{\"url\":\"https://s.pstatic.net/static/newsstand/2020/logo/light/0604/022.png\"},\"logoDark\":{\"url\":\"https://s.pstatic.net/static/newsstand/2020/logo/dark/0604/022.png\"},\"showThumbnailView\":true,\"showListView\":true,\"regDate\":\"20231218 14:10:45\",\"_id\":null,\"@type\":\"PC-NEWSSTAND-PRESS-BLOCK\",\"@code\":null,\"@template\":\"NONE\",\"@flowId\":null,\"@flowExecutionId\":null,\"@provider\":null,\"@lastModifiedAt\":null},{\"@type\":\"PC-NEWSSTAND-PRESS-BLOCK\",\"blocks\":null,\"materials\":null,\"excludeInPaging\":false,\"positionForPaging\":0,\"realtime\":false,\"pid\":\"143\",\"name\":\"쿠키뉴스\",\"logoLight\":{\"url\":\"https://s.pstatic.net/static/newsstand/up/2022/0823/nsd105911492.png\"},\"logoDark\":{\"url\":\"https://s.pstatic.net/static/newsstand/up/2022/0819/nsd181056744.png\"},\"showThumbnailView\":true,\"showListView\":true,\"regDate\":\"20231218 13:53:05\",\"_id\":null,\"@type\":\"PC-NEWSSTAND-PRESS-BLOCK\",\"@code\":null,\"@template\":\"NONE\",\"@flowId\":null,\"@flowExecutionId\":null,\"@provider\":null,\"@lastModifiedAt\":null},{\"@type\":\"PC-NEWSSTAND-PRESS-BLOCK\",\"blocks\":null,\"materials\":null,\"excludeInPaging\":false,\"positionForPaging\":0,\"realtime\":false,\"pid\":\"385\",\"name\":\"영남일보\",\"logoLight\":{\"url\":\"https://s.pstatic.net/static/newsstand/2020/logo/light/0604/385.png\"},\"logoDark\":{\"url\":\"https://s.pstatic.net/static/newsstand/2020/logo/dark/0604/385.png\"},\"showThumbnailView\":true,\"showListView\":true,\"regDate\":\"20231218 14:10:08\",\"_id\":null,\"@type\":\"PC-NEWSSTAND-PRESS-BLOCK\",\"@code\":null,\"@template\":\"NONE\",\"@flowId\":null,\"@flowExecutionId\":null,\"@provider\":null,\"@lastModifiedAt\":null},{\"@type\":\"PC-NEWSSTAND-PRESS-BLOCK\",\"blocks\":null,\"materials\":null,\"excludeInPaging\":false,\"positionForPaging\":0,\"realtime\":false,\"pid\":\"023\",\"name\":\"조선일보\",\"logoLight\":{\"url\":\"https://s.pstatic.net/static/newsstand/up/2020/0903/nsd185255316.png\"},\"logoDark\":{\"url\":\"https://s.pstatic.net/static/newsstand/up/2020/0903/nsd185246724.png\"},\"showThumbnailView\":true,\"showListView\":true,\"regDate\":\"20231218 14:04:20\",\"_id\":null,\"@type\":\"PC-NEWSSTAND-PRESS-BLOCK\",\"@code\":null,\"@template\":\"NONE\",\"@flowId\":null,\"@flowExecutionId\":null,\"@provider\":null,\"@lastModifiedAt\":null},{\"@type\":\"PC-NEWSSTAND-PRESS-BLOCK\",\"blocks\":null,\"materials\":null,\"excludeInPaging\":false,\"positionForPaging\":0,\"realtime\":false,\"pid\":\"144\",\"name\":\"스포츠경향\",\"logoLight\":{\"url\":\"https://s.pstatic.net/static/newsstand/2020/logo/light/0604/144.png\"},\"logoDark\":{\"url\":\"https://s.pstatic.net/static/newsstand/2020/logo/dark/0604/144.png\"},\"showThumbnailView\":true,\"showListView\":true,\"regDate\":\"20231218 12:57:21\",\"_id\":null,\"@type\":\"PC-NEWSSTAND-PRESS-BLOCK\",\"@code\":null,\"@template\":\"NONE\",\"@flowId\":null,\"@flowExecutionId\":null,\"@provider\":null,\"@lastModifiedAt\":null},{\"@type\":\"PC-NEWSSTAND-PRESS-BLOCK\",\"blocks\":null,\"materials\":null,\"excludeInPaging\":false,\"positionForPaging\":0,\"realtime\":false,\"pid\":\"024\",\"name\":\"매경이코노미\",\"logoLight\":{\"url\":\"https://s.pstatic.net/static/newsstand/2020/logo/light/0604/024.png\"},\"logoDark\":{\"url\":\"https://s.pstatic.net/static/newsstand/2020/logo/dark/0604/024.png\"},\"showThumbnailView\":true,\"showListView\":true,\"regDate\":\"20231218 14:14:01\",\"_id\":null,\"@type\":\"PC-NEWSSTAND-PRESS-BLOCK\",\"@code\":null,\"@template\":\"NONE\",\"@flowId\":null,\"@flowExecutionId\":null,\"@provider\":null,\"@lastModifiedAt\":null},{\"@type\":\"PC-NEWSSTAND-PRESS-BLOCK\",\"blocks\":null,\"materials\":null,\"excludeInPaging\":false,\"positionForPaging\":0,\"realtime\":false,\"pid\":\"387\",\"name\":\"인천일보\",\"logoLight\":{\"url\":\"https://s.pstatic.net/static/newsstand/up/2022/0331/nsd155937506.png\"},\"logoDark\":{\"url\":\"https://s.pstatic.net/static/newsstand/up/2022/0331/nsd15594915.png\"},\"showThumbnailView\":true,\"showListView\":true,\"regDate\":\"20231218 14:10:04\",\"_id\":null,\"@type\":\"PC-NEWSSTAND-PRESS-BLOCK\",\"@code\":null,\"@template\":\"NONE\",\"@flowId\":null,\"@flowExecutionId\":null,\"@provider\":null,\"@lastModifiedAt\":null},{\"@type\":\"PC-NEWSSTAND-PRESS-BLOCK\",\"blocks\":null,\"materials\":null,\"excludeInPaging\":false,\"positionForPaging\":0,\"realtime\":false,\"pid\":\"025\",\"name\":\"중앙일보\",\"logoLight\":{\"url\":\"https://s.pstatic.net/static/newsstand/up/2021/0824/nsd115034872.png\"},\"logoDark\":{\"url\":\"https://s.pstatic.net/static/newsstand/up/2021/0823/nsd101834185.png\"},\"showThumbnailView\":true,\"showListView\":true,\"regDate\":\"20231218 14:09:46\",\"_id\":null,\"@type\":\"PC-NEWSSTAND-PRESS-BLOCK\",\"@code\":null,\"@template\":\"NONE\",\"@flowId\":null,\"@flowExecutionId\":null,\"@provider\":null,\"@lastModifiedAt\":null},{\"@type\":\"PC-NEWSSTAND-PRESS-BLOCK\",\"blocks\":null,\"materials\":null,\"excludeInPaging\":false,\"positionForPaging\":0,\"realtime\":false,\"pid\":\"388\",\"name\":\"전남일보\",\"logoLight\":{\"url\":\"https://s.pstatic.net/static/newsstand/2020/logo/light/0604/388.png\"},\"logoDark\":{\"url\":\"https://s.pstatic.net/static/newsstand/2020/logo/dark/0604/388.png\"},\"showThumbnailView\":true,\"showListView\":true,\"regDate\":\"20231218 14:15:01\",\"_id\":null,\"@type\":\"PC-NEWSSTAND-PRESS-BLOCK\",\"@code\":null,\"@template\":\"NONE\",\"@flowId\":null,\"@flowExecutionId\":null,\"@provider\":null,\"@lastModifiedAt\":null},{\"@type\":\"PC-NEWSSTAND-PRESS-BLOCK\",\"blocks\":null,\"materials\":null,\"excludeInPaging\":false,\"positionForPaging\":0,\"realtime\":false,\"pid\":\"389\",\"name\":\"제주도민일보\",\"logoLight\":{\"url\":\"https://s.pstatic.net/static/newsstand/2020/logo/light/0604/389.png\"},\"logoDark\":{\"url\":\"https://s.pstatic.net/static/newsstand/2020/logo/dark/0604/389.png\"},\"showThumbnailView\":true,\"showListView\":true,\"regDate\":\"20231218 14:10:21\",\"_id\":null,\"@type\":\"PC-NEWSSTAND-PRESS-BLOCK\",\"@code\":null,\"@template\":\"NONE\",\"@flowId\":null,\"@flowExecutionId\":null,\"@provider\":null,\"@lastModifiedAt\":null},{\"@type\":\"PC-NEWSSTAND-PRESS-BLOCK\",\"blocks\":null,\"materials\":null,\"excludeInPaging\":false,\"positionForPaging\":0,\"realtime\":false,\"pid\":\"940\",\"name\":\"스포츠투데이\",\"logoLight\":{\"url\":\"https://s.pstatic.net/static/newsstand/up/2022/0328/nsd223244325.png\"},\"logoDark\":{\"url\":\"https://s.pstatic.net/static/newsstand/up/2022/0328/nsd223257107.png\"},\"showThumbnailView\":true,\"showListView\":true,\"regDate\":\"20231218 13:50:01\",\"_id\":null,\"@type\":\"PC-NEWSSTAND-PRESS-BLOCK\",\"@code\":null,\"@template\":\"NONE\",\"@flowId\":null,\"@flowExecutionId\":null,\"@provider\":null,\"@lastModifiedAt\":null},{\"@type\":\"PC-NEWSSTAND-PRESS-BLOCK\",\"blocks\":null,\"materials\":null,\"excludeInPaging\":false,\"positionForPaging\":0,\"realtime\":false,\"pid\":\"028\",\"name\":\"한겨레\",\"logoLight\":{\"url\":\"https://s.pstatic.net/static/newsstand/2020/logo/light/0604/028.png\"},\"logoDark\":{\"url\":\"https://s.pstatic.net/static/newsstand/2020/logo/dark/0604/028.png\"},\"showThumbnailView\":true,\"showListView\":true,\"regDate\":\"20231218 14:13:38\",\"_id\":null,\"@type\":\"PC-NEWSSTAND-PRESS-BLOCK\",\"@code\":null,\"@template\":\"NONE\",\"@flowId\":null,\"@flowExecutionId\":null,\"@provider\":null,\"@lastModifiedAt\":null},{\"@type\":\"PC-NEWSSTAND-PRESS-BLOCK\",\"blocks\":null,\"materials\":null,\"excludeInPaging\":false,\"positionForPaging\":0,\"realtime\":false,\"pid\":\"820\",\"name\":\"월간노동법률\",\"logoLight\":{\"url\":\"https://s.pstatic.net/static/newsstand/up/2022/0817/nsd14480190.png\"},\"logoDark\":{\"url\":\"https://s.pstatic.net/static/newsstand/up/2022/0817/nsd144754102.png\"},\"showThumbnailView\":true,\"showListView\":true,\"regDate\":\"20231215 17:33:10\",\"_id\":null,\"@type\":\"PC-NEWSSTAND-PRESS-BLOCK\",\"@code\":null,\"@template\":\"NONE\",\"@flowId\":null,\"@flowExecutionId\":null,\"@provider\":null,\"@lastModifiedAt\":null},{\"@type\":\"PC-NEWSSTAND-PRESS-BLOCK\",\"blocks\":null,\"materials\":null,\"excludeInPaging\":false,\"positionForPaging\":0,\"realtime\":false,\"pid\":\"941\",\"name\":\"초이스경제\",\"logoLight\":{\"url\":\"https://s.pstatic.net/static/newsstand/2020/logo/light/0604/941.png\"},\"logoDark\":{\"url\":\"https://s.pstatic.net/static/newsstand/2020/logo/dark/0604/941.png\"},\"showThumbnailView\":true,\"showListView\":true,\"regDate\":\"20231218 14:11:28\",\"_id\":null,\"@type\":\"PC-NEWSSTAND-PRESS-BLOCK\",\"@code\":null,\"@template\":\"NONE\",\"@flowId\":null,\"@flowExecutionId\":null,\"@provider\":null,\"@lastModifiedAt\":null},{\"@type\":\"PC-NEWSSTAND-PRESS-BLOCK\",\"blocks\":null,\"materials\":null,\"excludeInPaging\":false,\"positionForPaging\":0,\"realtime\":false,\"pid\":\"029\",\"name\":\"디지털타임스\",\"logoLight\":{\"url\":\"https://s.pstatic.net/static/newsstand/2020/logo/light/0604/029.png\"},\"logoDark\":{\"url\":\"https://s.pstatic.net/static/newsstand/2020/logo/dark/0604/029.png\"},\"showThumbnailView\":true,\"showListView\":true,\"regDate\":\"20231218 14:13:45\",\"_id\":null,\"@type\":\"PC-NEWSSTAND-PRESS-BLOCK\",\"@code\":null,\"@template\":\"NONE\",\"@flowId\":null,\"@flowExecutionId\":null,\"@provider\":null,\"@lastModifiedAt\":null},{\"@type\":\"PC-NEWSSTAND-PRESS-BLOCK\",\"blocks\":null,\"materials\":null,\"excludeInPaging\":false,\"positionForPaging\":0,\"realtime\":false,\"pid\":\"821\",\"name\":\"경남도민일보\",\"logoLight\":{\"url\":\"https://s.pstatic.net/static/newsstand/2020/logo/light/0604/821.png\"},\"logoDark\":{\"url\":\"https://s.pstatic.net/static/newsstand/2020/logo/dark/0604/821.png\"},\"showThumbnailView\":true,\"showListView\":true,\"regDate\":\"20231218 14:10:18\",\"_id\":null,\"@type\":\"PC-NEWSSTAND-PRESS-BLOCK\",\"@code\":null,\"@template\":\"NONE\",\"@flowId\":null,\"@flowExecutionId\":null,\"@provider\":null,\"@lastModifiedAt\":null},{\"@type\":\"PC-NEWSSTAND-PRESS-BLOCK\",\"blocks\":null,\"materials\":null,\"excludeInPaging\":false,\"positionForPaging\":0,\"realtime\":false,\"pid\":\"942\",\"name\":\"비즈니스포스트\",\"logoLight\":{\"url\":\"https://s.pstatic.net/static/newsstand/2020/logo/light/0604/942.png\"},\"logoDark\":{\"url\":\"https://s.pstatic.net/static/newsstand/2020/logo/dark/0604/942.png\"},\"showThumbnailView\":true,\"showListView\":true,\"regDate\":\"20231218 10:09:07\",\"_id\":null,\"@type\":\"PC-NEWSSTAND-PRESS-BLOCK\",\"@code\":null,\"@template\":\"NONE\",\"@flowId\":null,\"@flowExecutionId\":null,\"@provider\":null,\"@lastModifiedAt\":null},{\"@type\":\"PC-NEWSSTAND-PRESS-BLOCK\",\"blocks\":null,\"materials\":null,\"excludeInPaging\":false,\"positionForPaging\":0,\"realtime\":false,\"pid\":\"822\",\"name\":\"프라임경제\",\"logoLight\":{\"url\":\"https://s.pstatic.net/static/newsstand/up/2020/0730/nsd13728808.png\"},\"logoDark\":{\"url\":\"https://s.pstatic.net/static/newsstand/up/2020/0730/nsd13719939.png\"},\"showThumbnailView\":true,\"showListView\":true,\"regDate\":\"20231218 14:00:08\",\"_id\":null,\"@type\":\"PC-NEWSSTAND-PRESS-BLOCK\",\"@code\":null,\"@template\":\"NONE\",\"@flowId\":null,\"@flowExecutionId\":null,\"@provider\":null,\"@lastModifiedAt\":null},{\"@type\":\"PC-NEWSSTAND-PRESS-BLOCK\",\"blocks\":null,\"materials\":null,\"excludeInPaging\":false,\"positionForPaging\":0,\"realtime\":false,\"pid\":\"943\",\"name\":\"비즈워치\",\"logoLight\":{\"url\":\"https://s.pstatic.net/static/newsstand/up/2023/0213/nsd17943530.png\"},\"logoDark\":{\"url\":\"https://s.pstatic.net/static/newsstand/up/2023/0213/nsd17100999.png\"},\"showThumbnailView\":true,\"showListView\":true,\"regDate\":\"20231218 14:05:58\",\"_id\":null,\"@type\":\"PC-NEWSSTAND-PRESS-BLOCK\",\"@code\":null,\"@template\":\"NONE\",\"@flowId\":null,\"@flowExecutionId\":null,\"@provider\":null,\"@lastModifiedAt\":null},{\"@type\":\"PC-NEWSSTAND-PRESS-BLOCK\",\"blocks\":null,\"materials\":null,\"excludeInPaging\":false,\"positionForPaging\":0,\"realtime\":false,\"pid\":\"823\",\"name\":\"UPI뉴스\",\"logoLight\":{\"url\":\"https://s.pstatic.net/static/newsstand/2020/logo/light/0604/823.png\"},\"logoDark\":{\"url\":\"https://s.pstatic.net/static/newsstand/2020/logo/dark/0604/823.png\"},\"showThumbnailView\":true,\"showListView\":true,\"regDate\":\"20231218 11:26:06\",\"_id\":null,\"@type\":\"PC-NEWSSTAND-PRESS-BLOCK\",\"@code\":null,\"@template\":\"NONE\",\"@flowId\":null,\"@flowExecutionId\":null,\"@provider\":null,\"@lastModifiedAt\":null},{\"@type\":\"PC-NEWSSTAND-PRESS-BLOCK\",\"blocks\":null,\"materials\":null,\"excludeInPaging\":false,\"positionForPaging\":0,\"realtime\":false,\"pid\":\"944\",\"name\":\"나우뉴스\",\"logoLight\":{\"url\":\"https://s.pstatic.net/static/newsstand/up/2022/0804/nsd1343054.png\"},\"logoDark\":{\"url\":\"https://s.pstatic.net/static/newsstand/up/2022/0804/nsd13457540.png\"},\"showThumbnailView\":true,\"showListView\":true,\"regDate\":\"20231218 13:33:59\",\"_id\":null,\"@type\":\"PC-NEWSSTAND-PRESS-BLOCK\",\"@code\":null,\"@template\":\"NONE\",\"@flowId\":null,\"@flowExecutionId\":null,\"@provider\":null,\"@lastModifiedAt\":null},{\"@type\":\"PC-NEWSSTAND-PRESS-BLOCK\",\"blocks\":null,\"materials\":null,\"excludeInPaging\":false,\"positionForPaging\":0,\"realtime\":false,\"pid\":\"824\",\"name\":\"서울파이낸스\",\"logoLight\":{\"url\":\"https://s.pstatic.net/static/newsstand/2020/logo/light/0604/824.png\"},\"logoDark\":{\"url\":\"https://s.pstatic.net/static/newsstand/2020/logo/dark/0604/824.png\"},\"showThumbnailView\":true,\"showListView\":true,\"regDate\":\"20231218 14:10:19\",\"_id\":null,\"@type\":\"PC-NEWSSTAND-PRESS-BLOCK\",\"@code\":null,\"@template\":\"NONE\",\"@flowId\":null,\"@flowExecutionId\":null,\"@provider\":null,\"@lastModifiedAt\":null},{\"@type\":\"PC-NEWSSTAND-PRESS-BLOCK\",\"blocks\":null,\"materials\":null,\"excludeInPaging\":false,\"positionForPaging\":0,\"realtime\":false,\"pid\":\"945\",\"name\":\"YTN사이언스\",\"logoLight\":{\"url\":\"https://s.pstatic.net/static/newsstand/up/2020/0922/nsd152336602.png\"},\"logoDark\":{\"url\":\"https://s.pstatic.net/static/newsstand/up/2020/0922/nsd152323211.png\"},\"showThumbnailView\":true,\"showListView\":true,\"regDate\":\"20231218 14:15:00\",\"_id\":null,\"@type\":\"PC-NEWSSTAND-PRESS-BLOCK\",\"@code\":null,\"@template\":\"NONE\",\"@flowId\":null,\"@flowExecutionId\":null,\"@provider\":null,\"@lastModifiedAt\":null},{\"@type\":\"PC-NEWSSTAND-PRESS-BLOCK\",\"blocks\":null,\"materials\":null,\"excludeInPaging\":false,\"positionForPaging\":0,\"realtime\":false,\"pid\":\"825\",\"name\":\"이로운넷\",\"logoLight\":{\"url\":\"https://s.pstatic.net/static/newsstand/2020/logo/light/0604/825.png\"},\"logoDark\":{\"url\":\"https://s.pstatic.net/static/newsstand/2020/logo/dark/0604/825.png\"},\"showThumbnailView\":true,\"showListView\":true,\"regDate\":\"20231218 14:10:20\",\"_id\":null,\"@type\":\"PC-NEWSSTAND-PRESS-BLOCK\",\"@code\":null,\"@template\":\"NONE\",\"@flowId\":null,\"@flowExecutionId\":null,\"@provider\":null,\"@lastModifiedAt\":null},{\"@type\":\"PC-NEWSSTAND-PRESS-BLOCK\",\"blocks\":null,\"materials\":null,\"excludeInPaging\":false,\"positionForPaging\":0,\"realtime\":false,\"pid\":\"946\",\"name\":\"YONHAPNEWS\",\"logoLight\":{\"url\":\"https://s.pstatic.net/static/newsstand/2020/logo/light/0604/946.png\"},\"logoDark\":{\"url\":\"https://s.pstatic.net/static/newsstand/2020/logo/dark/0604/946.png\"},\"showThumbnailView\":true,\"showListView\":true,\"regDate\":\"20231218 13:51:36\",\"_id\":null,\"@type\":\"PC-NEWSSTAND-PRESS-BLOCK\",\"@code\":null,\"@template\":\"NONE\",\"@flowId\":null,\"@flowExecutionId\":null,\"@provider\":null,\"@lastModifiedAt\":null},{\"@type\":\"PC-NEWSSTAND-PRESS-BLOCK\",\"blocks\":null,\"materials\":null,\"excludeInPaging\":false,\"positionForPaging\":0,\"realtime\":false,\"pid\":\"826\",\"name\":\"톱데일리\",\"logoLight\":{\"url\":\"https://s.pstatic.net/static/newsstand/up/2022/0817/nsd14491516.png\"},\"logoDark\":{\"url\":\"https://s.pstatic.net/static/newsstand/up/2022/0817/nsd14499446.png\"},\"showThumbnailView\":true,\"showListView\":true,\"regDate\":\"20231218 14:10:08\",\"_id\":null,\"@type\":\"PC-NEWSSTAND-PRESS-BLOCK\",\"@code\":null,\"@template\":\"NONE\",\"@flowId\":null,\"@flowExecutionId\":null,\"@provider\":null,\"@lastModifiedAt\":null},{\"@type\":\"PC-NEWSSTAND-PRESS-BLOCK\",\"blocks\":null,\"materials\":null,\"excludeInPaging\":false,\"positionForPaging\":0,\"realtime\":false,\"pid\":\"947\",\"name\":\"조이뉴스24\",\"logoLight\":{\"url\":\"https://s.pstatic.net/static/newsstand/2020/logo/light/0604/947.png\"},\"logoDark\":{\"url\":\"https://s.pstatic.net/static/newsstand/2020/logo/dark/0604/947.png\"},\"showThumbnailView\":true,\"showListView\":true,\"regDate\":\"20231218 14:12:27\",\"_id\":null,\"@type\":\"PC-NEWSSTAND-PRESS-BLOCK\",\"@code\":null,\"@template\":\"NONE\",\"@flowId\":null,\"@flowExecutionId\":null,\"@provider\":null,\"@lastModifiedAt\":null},{\"@type\":\"PC-NEWSSTAND-PRESS-BLOCK\",\"blocks\":null,\"materials\":null,\"excludeInPaging\":false,\"positionForPaging\":0,\"realtime\":false,\"pid\":\"827\",\"name\":\"베이비뉴스\",\"logoLight\":{\"url\":\"https://s.pstatic.net/static/newsstand/up/2021/0222/nsd13325188.png\"},\"logoDark\":{\"url\":\"https://s.pstatic.net/static/newsstand/up/2021/0222/nsd13338358.png\"},\"showThumbnailView\":true,\"showListView\":true,\"regDate\":\"20231218 14:10:22\",\"_id\":null,\"@type\":\"PC-NEWSSTAND-PRESS-BLOCK\",\"@code\":null,\"@template\":\"NONE\",\"@flowId\":null,\"@flowExecutionId\":null,\"@provider\":null,\"@lastModifiedAt\":null},{\"@type\":\"PC-NEWSSTAND-PRESS-BLOCK\",\"blocks\":null,\"materials\":null,\"excludeInPaging\":false,\"positionForPaging\":0,\"realtime\":false,\"pid\":\"948\",\"name\":\"한겨레21\",\"logoLight\":{\"url\":\"https://s.pstatic.net/static/newsstand/2020/logo/light/0604/948.png\"},\"logoDark\":{\"url\":\"https://s.pstatic.net/static/newsstand/2020/logo/dark/0604/948.png\"},\"showThumbnailView\":true,\"showListView\":true,\"regDate\":\"20231218 10:52:49\",\"_id\":null,\"@type\":\"PC-NEWSSTAND-PRESS-BLOCK\",\"@code\":null,\"@template\":\"NONE\",\"@flowId\":null,\"@flowExecutionId\":null,\"@provider\":null,\"@lastModifiedAt\":null},{\"@type\":\"PC-NEWSSTAND-PRESS-BLOCK\",\"blocks\":null,\"materials\":null,\"excludeInPaging\":false,\"positionForPaging\":0,\"realtime\":false,\"pid\":\"828\",\"name\":\"식품저널 foodnews\",\"logoLight\":{\"url\":\"https://s.pstatic.net/static/newsstand/up/2021/0211/nsd0427277.png\"},\"logoDark\":{\"url\":\"https://s.pstatic.net/static/newsstand/up/2021/0211/nsd0439284.png\"},\"showThumbnailView\":true,\"showListView\":true,\"regDate\":\"20231218 14:10:22\",\"_id\":null,\"@type\":\"PC-NEWSSTAND-PRESS-BLOCK\",\"@code\":null,\"@template\":\"NONE\",\"@flowId\":null,\"@flowExecutionId\":null,\"@provider\":null,\"@lastModifiedAt\":null},{\"@type\":\"PC-NEWSSTAND-PRESS-BLOCK\",\"blocks\":null,\"materials\":null,\"excludeInPaging\":false,\"positionForPaging\":0,\"realtime\":false,\"pid\":\"829\",\"name\":\"미디어스\",\"logoLight\":{\"url\":\"https://s.pstatic.net/static/newsstand/up/2021/0211/nsd01153196.png\"},\"logoDark\":{\"url\":\"https://s.pstatic.net/static/newsstand/up/2021/0211/nsd01153196.png\"},\"showThumbnailView\":true,\"showListView\":true,\"regDate\":\"20231218 14:10:27\",\"_id\":null,\"@type\":\"PC-NEWSSTAND-PRESS-BLOCK\",\"@code\":null,\"@template\":\"NONE\",\"@flowId\":null,\"@flowExecutionId\":null,\"@provider\":null,\"@lastModifiedAt\":null},{\"@type\":\"PC-NEWSSTAND-PRESS-BLOCK\",\"blocks\":null,\"materials\":null,\"excludeInPaging\":false,\"positionForPaging\":0,\"realtime\":false,\"pid\":\"391\",\"name\":\"충청일보\",\"logoLight\":{\"url\":\"https://s.pstatic.net/static/newsstand/2020/logo/light/0604/391.png\"},\"logoDark\":{\"url\":\"https://s.pstatic.net/static/newsstand/2020/logo/dark/0604/391.png\"},\"showThumbnailView\":true,\"showListView\":true,\"regDate\":\"20231217 22:12:10\",\"_id\":null,\"@type\":\"PC-NEWSSTAND-PRESS-BLOCK\",\"@code\":null,\"@template\":\"NONE\",\"@flowId\":null,\"@flowExecutionId\":null,\"@provider\":null,\"@lastModifiedAt\":null},{\"@type\":\"PC-NEWSSTAND-PRESS-BLOCK\",\"blocks\":null,\"materials\":null,\"excludeInPaging\":false,\"positionForPaging\":0,\"realtime\":false,\"pid\":\"030\",\"name\":\"전자신문\",\"logoLight\":{\"url\":\"https://s.pstatic.net/static/newsstand/2020/logo/light/0604/030.png\"},\"logoDark\":{\"url\":\"https://s.pstatic.net/static/newsstand/2020/logo/dark/0604/030.png\"},\"showThumbnailView\":true,\"showListView\":true,\"regDate\":\"20231218 14:10:17\",\"_id\":null,\"@type\":\"PC-NEWSSTAND-PRESS-BLOCK\",\"@code\":null,\"@template\":\"NONE\",\"@flowId\":null,\"@flowExecutionId\":null,\"@provider\":null,\"@lastModifiedAt\":null},{\"@type\":\"PC-NEWSSTAND-PRESS-BLOCK\",\"blocks\":null,\"materials\":null,\"excludeInPaging\":false,\"positionForPaging\":0,\"realtime\":false,\"pid\":\"031\",\"name\":\"아이뉴스24\",\"logoLight\":{\"url\":\"https://s.pstatic.net/static/newsstand/2020/logo/light/0604/031.png\"},\"logoDark\":{\"url\":\"https://s.pstatic.net/static/newsstand/2020/logo/dark/0604/031.png\"},\"showThumbnailView\":true,\"showListView\":true,\"regDate\":\"20231218 14:01:11\",\"_id\":null,\"@type\":\"PC-NEWSSTAND-PRESS-BLOCK\",\"@code\":null,\"@template\":\"NONE\",\"@flowId\":null,\"@flowExecutionId\":null,\"@provider\":null,\"@lastModifiedAt\":null},{\"@type\":\"PC-NEWSSTAND-PRESS-BLOCK\",\"blocks\":null,\"materials\":null,\"excludeInPaging\":false,\"positionForPaging\":0,\"realtime\":false,\"pid\":\"032\",\"name\":\"경향신문\",\"logoLight\":{\"url\":\"https://s.pstatic.net/static/newsstand/2020/logo/light/0604/032.png\"},\"logoDark\":{\"url\":\"https://s.pstatic.net/static/newsstand/2020/logo/dark/0604/032.png\"},\"showThumbnailView\":true,\"showListView\":true,\"regDate\":\"20231218 14:00:18\",\"_id\":null,\"@type\":\"PC-NEWSSTAND-PRESS-BLOCK\",\"@code\":null,\"@template\":\"NONE\",\"@flowId\":null,\"@flowExecutionId\":null,\"@provider\":null,\"@lastModifiedAt\":null},{\"@type\":\"PC-NEWSSTAND-PRESS-BLOCK\",\"blocks\":null,\"materials\":null,\"excludeInPaging\":false,\"positionForPaging\":0,\"realtime\":false,\"pid\":\"396\",\"name\":\"스포츠월드\",\"logoLight\":{\"url\":\"https://s.pstatic.net/static/newsstand/2020/logo/light/0604/396.png\"},\"logoDark\":{\"url\":\"https://s.pstatic.net/static/newsstand/2020/logo/dark/0604/396.png\"},\"showThumbnailView\":true,\"showListView\":true,\"regDate\":\"20231218 13:17:38\",\"_id\":null,\"@type\":\"PC-NEWSSTAND-PRESS-BLOCK\",\"@code\":null,\"@template\":\"NONE\",\"@flowId\":null,\"@flowExecutionId\":null,\"@provider\":null,\"@lastModifiedAt\":null},{\"@type\":\"PC-NEWSSTAND-PRESS-BLOCK\",\"blocks\":null,\"materials\":null,\"excludeInPaging\":false,\"positionForPaging\":0,\"realtime\":false,\"pid\":\"277\",\"name\":\"아시아경제\",\"logoLight\":{\"url\":\"https://s.pstatic.net/static/newsstand/2020/logo/light/0604/277.png\"},\"logoDark\":{\"url\":\"https://s.pstatic.net/static/newsstand/2020/logo/dark/0604/277.png\"},\"showThumbnailView\":true,\"showListView\":true,\"regDate\":\"20231218 14:02:37\",\"_id\":null,\"@type\":\"PC-NEWSSTAND-PRESS-BLOCK\",\"@code\":null,\"@template\":\"NONE\",\"@flowId\":null,\"@flowExecutionId\":null,\"@provider\":null,\"@lastModifiedAt\":null},{\"@type\":\"PC-NEWSSTAND-PRESS-BLOCK\",\"blocks\":null,\"materials\":null,\"excludeInPaging\":false,\"positionForPaging\":0,\"realtime\":false,\"pid\":\"950\",\"name\":\"월간중앙\",\"logoLight\":{\"url\":\"https://s.pstatic.net/static/newsstand/2020/logo/light/0604/950.png\"},\"logoDark\":{\"url\":\"https://s.pstatic.net/static/newsstand/2020/logo/dark/0604/950.png\"},\"showThumbnailView\":true,\"showListView\":true,\"regDate\":\"20231218 14:00:00\",\"_id\":null,\"@type\":\"PC-NEWSSTAND-PRESS-BLOCK\",\"@code\":null,\"@template\":\"NONE\",\"@flowId\":null,\"@flowExecutionId\":null,\"@provider\":null,\"@lastModifiedAt\":null},{\"@type\":\"PC-NEWSSTAND-PRESS-BLOCK\",\"blocks\":null,\"materials\":null,\"excludeInPaging\":false,\"positionForPaging\":0,\"realtime\":false,\"pid\":\"038\",\"name\":\"한국일보\",\"logoLight\":{\"url\":\"https://s.pstatic.net/static/newsstand/2020/logo/light/0604/038.png\"},\"logoDark\":{\"url\":\"https://s.pstatic.net/static/newsstand/2020/logo/dark/0604/038.png\"},\"showThumbnailView\":true,\"showListView\":true,\"regDate\":\"20231218 14:09:40\",\"_id\":null,\"@type\":\"PC-NEWSSTAND-PRESS-BLOCK\",\"@code\":null,\"@template\":\"NONE\",\"@flowId\":null,\"@flowExecutionId\":null,\"@provider\":null,\"@lastModifiedAt\":null},{\"@type\":\"PC-NEWSSTAND-PRESS-BLOCK\",\"blocks\":null,\"materials\":null,\"excludeInPaging\":false,\"positionForPaging\":0,\"realtime\":false,\"pid\":\"830\",\"name\":\"게임동아\",\"logoLight\":{\"url\":\"https://s.pstatic.net/static/newsstand/up/2021/0211/nsd02321523.png\"},\"logoDark\":{\"url\":\"https://s.pstatic.net/static/newsstand/up/2021/0211/nsd02332888.png\"},\"showThumbnailView\":true,\"showListView\":true,\"regDate\":\"20231218 13:39:00\",\"_id\":null,\"@type\":\"PC-NEWSSTAND-PRESS-BLOCK\",\"@code\":null,\"@template\":\"NONE\",\"@flowId\":null,\"@flowExecutionId\":null,\"@provider\":null,\"@lastModifiedAt\":null},{\"@type\":\"PC-NEWSSTAND-PRESS-BLOCK\",\"blocks\":null,\"materials\":null,\"excludeInPaging\":false,\"positionForPaging\":0,\"realtime\":false,\"pid\":\"951\",\"name\":\"포브스코리아\",\"logoLight\":{\"url\":\"https://s.pstatic.net/static/newsstand/2020/logo/light/0604/951.png\"},\"logoDark\":{\"url\":\"https://s.pstatic.net/static/newsstand/2020/logo/dark/0604/951.png\"},\"showThumbnailView\":true,\"showListView\":true,\"regDate\":\"20231218 14:00:00\",\"_id\":null,\"@type\":\"PC-NEWSSTAND-PRESS-BLOCK\",\"@code\":null,\"@template\":\"NONE\",\"@flowId\":null,\"@flowExecutionId\":null,\"@provider\":null,\"@lastModifiedAt\":null},{\"@type\":\"PC-NEWSSTAND-PRESS-BLOCK\",\"blocks\":null,\"materials\":null,\"excludeInPaging\":false,\"positionForPaging\":0,\"realtime\":false,\"pid\":\"952\",\"name\":\"보안뉴스\",\"logoLight\":{\"url\":\"https://s.pstatic.net/static/newsstand/2020/logo/light/0604/952.png\"},\"logoDark\":{\"url\":\"https://s.pstatic.net/static/newsstand/2020/logo/dark/0604/952.png\"},\"showThumbnailView\":true,\"showListView\":true,\"regDate\":\"20231218 11:59:00\",\"_id\":null,\"@type\":\"PC-NEWSSTAND-PRESS-BLOCK\",\"@code\":null,\"@template\":\"NONE\",\"@flowId\":null,\"@flowExecutionId\":null,\"@provider\":null,\"@lastModifiedAt\":null},{\"@type\":\"PC-NEWSSTAND-PRESS-BLOCK\",\"blocks\":null,\"materials\":null,\"excludeInPaging\":false,\"positionForPaging\":0,\"realtime\":false,\"pid\":\"953\",\"name\":\"디지털투데이\",\"logoLight\":{\"url\":\"https://s.pstatic.net/static/newsstand/2020/logo/light/0604/953.png\"},\"logoDark\":{\"url\":\"https://s.pstatic.net/static/newsstand/2020/logo/dark/0604/953.png\"},\"showThumbnailView\":true,\"showListView\":true,\"regDate\":\"20231218 14:00:02\",\"_id\":null,\"@type\":\"PC-NEWSSTAND-PRESS-BLOCK\",\"@code\":null,\"@template\":\"NONE\",\"@flowId\":null,\"@flowExecutionId\":null,\"@provider\":null,\"@lastModifiedAt\":null},{\"@type\":\"PC-NEWSSTAND-PRESS-BLOCK\",\"blocks\":null,\"materials\":null,\"excludeInPaging\":false,\"positionForPaging\":0,\"realtime\":false,\"pid\":\"954\",\"name\":\"CNB뉴스\",\"logoLight\":{\"url\":\"https://s.pstatic.net/static/newsstand/2020/logo/light/0604/954.png\"},\"logoDark\":{\"url\":\"https://s.pstatic.net/static/newsstand/2020/logo/dark/0604/954.png\"},\"showThumbnailView\":true,\"showListView\":true,\"regDate\":\"20231218 13:35:03\",\"_id\":null,\"@type\":\"PC-NEWSSTAND-PRESS-BLOCK\",\"@code\":null,\"@template\":\"NONE\",\"@flowId\":null,\"@flowExecutionId\":null,\"@provider\":null,\"@lastModifiedAt\":null},{\"@type\":\"PC-NEWSSTAND-PRESS-BLOCK\",\"blocks\":null,\"materials\":null,\"excludeInPaging\":false,\"positionForPaging\":0,\"realtime\":false,\"pid\":\"955\",\"name\":\"독서신문\",\"logoLight\":{\"url\":\"https://s.pstatic.net/static/newsstand/2020/logo/light/0604/955.png\"},\"logoDark\":{\"url\":\"https://s.pstatic.net/static/newsstand/2020/logo/dark/0604/955.png\"},\"showThumbnailView\":true,\"showListView\":true,\"regDate\":\"20231218 14:10:05\",\"_id\":null,\"@type\":\"PC-NEWSSTAND-PRESS-BLOCK\",\"@code\":null,\"@template\":\"NONE\",\"@flowId\":null,\"@flowExecutionId\":null,\"@provider\":null,\"@lastModifiedAt\":null},{\"@type\":\"PC-NEWSSTAND-PRESS-BLOCK\",\"blocks\":null,\"materials\":null,\"excludeInPaging\":false,\"positionForPaging\":0,\"realtime\":false,\"pid\":\"956\",\"name\":\"철강금속신문\",\"logoLight\":{\"url\":\"https://s.pstatic.net/static/newsstand/2020/logo/light/0604/956.png\"},\"logoDark\":{\"url\":\"https://s.pstatic.net/static/newsstand/2020/logo/dark/0604/956.png\"},\"showThumbnailView\":true,\"showListView\":true,\"regDate\":\"20231218 14:10:04\",\"_id\":null,\"@type\":\"PC-NEWSSTAND-PRESS-BLOCK\",\"@code\":null,\"@template\":\"NONE\",\"@flowId\":null,\"@flowExecutionId\":null,\"@provider\":null,\"@lastModifiedAt\":null},{\"@type\":\"PC-NEWSSTAND-PRESS-BLOCK\",\"blocks\":null,\"materials\":null,\"excludeInPaging\":false,\"positionForPaging\":0,\"realtime\":false,\"pid\":\"957\",\"name\":\"시사위크\",\"logoLight\":{\"url\":\"https://s.pstatic.net/static/newsstand/2020/logo/light/0604/957.png\"},\"logoDark\":{\"url\":\"https://s.pstatic.net/static/newsstand/2020/logo/dark/0604/957.png\"},\"showThumbnailView\":true,\"showListView\":true,\"regDate\":\"20231215 18:24:19\",\"_id\":null,\"@type\":\"PC-NEWSSTAND-PRESS-BLOCK\",\"@code\":null,\"@template\":\"NONE\",\"@flowId\":null,\"@flowExecutionId\":null,\"@provider\":null,\"@lastModifiedAt\":null},{\"@type\":\"PC-NEWSSTAND-PRESS-BLOCK\",\"blocks\":null,\"materials\":null,\"excludeInPaging\":false,\"positionForPaging\":0,\"realtime\":false,\"pid\":\"958\",\"name\":\"베리타스알파\",\"logoLight\":{\"url\":\"https://s.pstatic.net/static/newsstand/up/2023/0826/nsd0145257.png\"},\"logoDark\":{\"url\":\"https://s.pstatic.net/static/newsstand/up/2023/0826/nsd0136682.png\"},\"showThumbnailView\":true,\"showListView\":true,\"regDate\":\"20231215 18:36:22\",\"_id\":null,\"@type\":\"PC-NEWSSTAND-PRESS-BLOCK\",\"@code\":null,\"@template\":\"NONE\",\"@flowId\":null,\"@flowExecutionId\":null,\"@provider\":null,\"@lastModifiedAt\":null},{\"@type\":\"PC-NEWSSTAND-PRESS-BLOCK\",\"blocks\":null,\"materials\":null,\"excludeInPaging\":false,\"positionForPaging\":0,\"realtime\":false,\"pid\":\"959\",\"name\":\"M이코노미뉴스\",\"logoLight\":{\"url\":\"https://s.pstatic.net/static/newsstand/up/2021/1221/nsd15292271.png\"},\"logoDark\":{\"url\":\"https://s.pstatic.net/static/newsstand/up/2021/1221/nsd171157172.png\"},\"showThumbnailView\":true,\"showListView\":true,\"regDate\":\"20231218 14:10:05\",\"_id\":null,\"@type\":\"PC-NEWSSTAND-PRESS-BLOCK\",\"@code\":null,\"@template\":\"NONE\",\"@flowId\":null,\"@flowExecutionId\":null,\"@provider\":null,\"@lastModifiedAt\":null},{\"@type\":\"PC-NEWSSTAND-PRESS-BLOCK\",\"blocks\":null,\"materials\":null,\"excludeInPaging\":false,\"positionForPaging\":0,\"realtime\":false,\"pid\":\"040\",\"name\":\"코리아타임스\",\"logoLight\":{\"url\":\"https://s.pstatic.net/static/newsstand/2020/logo/light/0604/040.png\"},\"logoDark\":{\"url\":\"https://s.pstatic.net/static/newsstand/2020/logo/dark/0604/040.png\"},\"showThumbnailView\":true,\"showListView\":true,\"regDate\":\"20231218 14:05:10\",\"_id\":null,\"@type\":\"PC-NEWSSTAND-PRESS-BLOCK\",\"@code\":null,\"@template\":\"NONE\",\"@flowId\":null,\"@flowExecutionId\":null,\"@provider\":null,\"@lastModifiedAt\":null},{\"@type\":\"PC-NEWSSTAND-PRESS-BLOCK\",\"blocks\":null,\"materials\":null,\"excludeInPaging\":false,\"positionForPaging\":0,\"realtime\":false,\"pid\":\"042\",\"name\":\"데일리한국\",\"logoLight\":{\"url\":\"https://s.pstatic.net/static/newsstand/2020/logo/light/0604/042.png\"},\"logoDark\":{\"url\":\"https://s.pstatic.net/static/newsstand/2020/logo/dark/0604/042.png\"},\"showThumbnailView\":true,\"showListView\":true,\"regDate\":\"20231218 14:10:25\",\"_id\":null,\"@type\":\"PC-NEWSSTAND-PRESS-BLOCK\",\"@code\":null,\"@template\":\"NONE\",\"@flowId\":null,\"@flowExecutionId\":null,\"@provider\":null,\"@lastModifiedAt\":null},{\"@type\":\"PC-NEWSSTAND-PRESS-BLOCK\",\"blocks\":null,\"materials\":null,\"excludeInPaging\":false,\"positionForPaging\":0,\"realtime\":false,\"pid\":\"044\",\"name\":\"코리아헤럴드\",\"logoLight\":{\"url\":\"https://s.pstatic.net/static/newsstand/2020/logo/light/0604/044.png\"},\"logoDark\":{\"url\":\"https://s.pstatic.net/static/newsstand/2020/logo/dark/0604/044.png\"},\"showThumbnailView\":true,\"showListView\":true,\"regDate\":\"20231218 10:23:49\",\"_id\":null,\"@type\":\"PC-NEWSSTAND-PRESS-BLOCK\",\"@code\":null,\"@template\":\"NONE\",\"@flowId\":null,\"@flowExecutionId\":null,\"@provider\":null,\"@lastModifiedAt\":null},{\"@type\":\"PC-NEWSSTAND-PRESS-BLOCK\",\"blocks\":null,\"materials\":null,\"excludeInPaging\":false,\"positionForPaging\":0,\"realtime\":false,\"pid\":\"047\",\"name\":\"오마이뉴스\",\"logoLight\":{\"url\":\"https://s.pstatic.net/static/newsstand/2020/logo/light/0604/047.png\"},\"logoDark\":{\"url\":\"https://s.pstatic.net/static/newsstand/2020/logo/dark/0604/047.png\"},\"showThumbnailView\":true,\"showListView\":true,\"regDate\":\"20231218 13:52:39\",\"_id\":null,\"@type\":\"PC-NEWSSTAND-PRESS-BLOCK\",\"@code\":null,\"@template\":\"NONE\",\"@flowId\":null,\"@flowExecutionId\":null,\"@provider\":null,\"@lastModifiedAt\":null},{\"@type\":\"PC-NEWSSTAND-PRESS-BLOCK\",\"blocks\":null,\"materials\":null,\"excludeInPaging\":false,\"positionForPaging\":0,\"realtime\":false,\"pid\":\"960\",\"name\":\"대한경제\",\"logoLight\":{\"url\":\"https://s.pstatic.net/static/newsstand/up/2022/1115/nsd153942530.png\"},\"logoDark\":{\"url\":\"https://s.pstatic.net/static/newsstand/up/2022/1115/nsd153934427.png\"},\"showThumbnailView\":true,\"showListView\":true,\"regDate\":\"20231218 14:10:18\",\"_id\":null,\"@type\":\"PC-NEWSSTAND-PRESS-BLOCK\",\"@code\":null,\"@template\":\"NONE\",\"@flowId\":null,\"@flowExecutionId\":null,\"@provider\":null,\"@lastModifiedAt\":null},{\"@type\":\"PC-NEWSSTAND-PRESS-BLOCK\",\"blocks\":null,\"materials\":null,\"excludeInPaging\":false,\"positionForPaging\":0,\"realtime\":false,\"pid\":\"961\",\"name\":\"메트로신문\",\"logoLight\":{\"url\":\"https://s.pstatic.net/static/newsstand/2020/logo/light/0604/961.png\"},\"logoDark\":{\"url\":\"https://s.pstatic.net/static/newsstand/2020/logo/dark/0604/961.png\"},\"showThumbnailView\":true,\"showListView\":true,\"regDate\":\"20231218 13:35:12\",\"_id\":null,\"@type\":\"PC-NEWSSTAND-PRESS-BLOCK\",\"@code\":null,\"@template\":\"NONE\",\"@flowId\":null,\"@flowExecutionId\":null,\"@provider\":null,\"@lastModifiedAt\":null},{\"@type\":\"PC-NEWSSTAND-PRESS-BLOCK\",\"blocks\":null,\"materials\":null,\"excludeInPaging\":false,\"positionForPaging\":0,\"realtime\":false,\"pid\":\"962\",\"name\":\"스포츠한국\",\"logoLight\":{\"url\":\"https://s.pstatic.net/static/newsstand/2020/logo/light/0604/962.png\"},\"logoDark\":{\"url\":\"https://s.pstatic.net/static/newsstand/2020/logo/dark/0604/962.png\"},\"showThumbnailView\":true,\"showListView\":true,\"regDate\":\"20231218 14:10:27\",\"_id\":null,\"@type\":\"PC-NEWSSTAND-PRESS-BLOCK\",\"@code\":null,\"@template\":\"NONE\",\"@flowId\":null,\"@flowExecutionId\":null,\"@provider\":null,\"@lastModifiedAt\":null},{\"@type\":\"PC-NEWSSTAND-PRESS-BLOCK\",\"blocks\":null,\"materials\":null,\"excludeInPaging\":false,\"positionForPaging\":0,\"realtime\":false,\"pid\":\"963\",\"name\":\"에너지경제\",\"logoLight\":{\"url\":\"https://s.pstatic.net/static/newsstand/2020/logo/light/0604/963.png\"},\"logoDark\":{\"url\":\"https://s.pstatic.net/static/newsstand/2020/logo/dark/0604/963.png\"},\"showThumbnailView\":true,\"showListView\":true,\"regDate\":\"20231218 14:10:01\",\"_id\":null,\"@type\":\"PC-NEWSSTAND-PRESS-BLOCK\",\"@code\":null,\"@template\":\"NONE\",\"@flowId\":null,\"@flowExecutionId\":null,\"@provider\":null,\"@lastModifiedAt\":null},{\"@type\":\"PC-NEWSSTAND-PRESS-BLOCK\",\"blocks\":null,\"materials\":null,\"excludeInPaging\":false,\"positionForPaging\":0,\"realtime\":false,\"pid\":\"964\",\"name\":\"이뉴스투데이\",\"logoLight\":{\"url\":\"https://s.pstatic.net/static/newsstand/2020/logo/light/0604/964.png\"},\"logoDark\":{\"url\":\"https://s.pstatic.net/static/newsstand/2020/logo/dark/0604/964.png\"},\"showThumbnailView\":true,\"showListView\":true,\"regDate\":\"20231218 13:57:26\",\"_id\":null,\"@type\":\"PC-NEWSSTAND-PRESS-BLOCK\",\"@code\":null,\"@template\":\"NONE\",\"@flowId\":null,\"@flowExecutionId\":null,\"@provider\":null,\"@lastModifiedAt\":null},{\"@type\":\"PC-NEWSSTAND-PRESS-BLOCK\",\"blocks\":null,\"materials\":null,\"excludeInPaging\":false,\"positionForPaging\":0,\"realtime\":false,\"pid\":\"965\",\"name\":\"전기신문\",\"logoLight\":{\"url\":\"https://s.pstatic.net/static/newsstand/2020/logo/light/0604/965.png\"},\"logoDark\":{\"url\":\"https://s.pstatic.net/static/newsstand/2020/logo/dark/0604/965.png\"},\"showThumbnailView\":true,\"showListView\":true,\"regDate\":\"20231218 14:10:25\",\"_id\":null,\"@type\":\"PC-NEWSSTAND-PRESS-BLOCK\",\"@code\":null,\"@template\":\"NONE\",\"@flowId\":null,\"@flowExecutionId\":null,\"@provider\":null,\"@lastModifiedAt\":null},{\"@type\":\"PC-NEWSSTAND-PRESS-BLOCK\",\"blocks\":null,\"materials\":null,\"excludeInPaging\":false,\"positionForPaging\":0,\"realtime\":false,\"pid\":\"966\",\"name\":\"정신의학신문\",\"logoLight\":{\"url\":\"https://s.pstatic.net/static/newsstand/2020/logo/light/0604/966.png\"},\"logoDark\":{\"url\":\"https://s.pstatic.net/static/newsstand/2020/logo/dark/0604/966.png\"},\"showThumbnailView\":true,\"showListView\":true,\"regDate\":\"20231218 14:10:22\",\"_id\":null,\"@type\":\"PC-NEWSSTAND-PRESS-BLOCK\",\"@code\":null,\"@template\":\"NONE\",\"@flowId\":null,\"@flowExecutionId\":null,\"@provider\":null,\"@lastModifiedAt\":null},{\"@type\":\"PC-NEWSSTAND-PRESS-BLOCK\",\"blocks\":null,\"materials\":null,\"excludeInPaging\":false,\"positionForPaging\":0,\"realtime\":false,\"pid\":\"967\",\"name\":\"코리아쉬핑가제트\",\"logoLight\":{\"url\":\"https://s.pstatic.net/static/newsstand/2020/logo/light/0604/967.png\"},\"logoDark\":{\"url\":\"https://s.pstatic.net/static/newsstand/2020/logo/dark/0604/967.png\"},\"showThumbnailView\":true,\"showListView\":true,\"regDate\":\"20231218 14:10:03\",\"_id\":null,\"@type\":\"PC-NEWSSTAND-PRESS-BLOCK\",\"@code\":null,\"@template\":\"NONE\",\"@flowId\":null,\"@flowExecutionId\":null,\"@provider\":null,\"@lastModifiedAt\":null},{\"@type\":\"PC-NEWSSTAND-PRESS-BLOCK\",\"blocks\":null,\"materials\":null,\"excludeInPaging\":false,\"positionForPaging\":0,\"realtime\":false,\"pid\":\"968\",\"name\":\"한국금융신문\",\"logoLight\":{\"url\":\"https://s.pstatic.net/static/newsstand/2020/logo/light/0604/968.png\"},\"logoDark\":{\"url\":\"https://s.pstatic.net/static/newsstand/2020/logo/dark/0604/968.png\"},\"showThumbnailView\":true,\"showListView\":true,\"regDate\":\"20231218 14:10:34\",\"_id\":null,\"@type\":\"PC-NEWSSTAND-PRESS-BLOCK\",\"@code\":null,\"@template\":\"NONE\",\"@flowId\":null,\"@flowExecutionId\":null,\"@provider\":null,\"@lastModifiedAt\":null},{\"@type\":\"PC-NEWSSTAND-PRESS-BLOCK\",\"blocks\":null,\"materials\":null,\"excludeInPaging\":false,\"positionForPaging\":0,\"realtime\":false,\"pid\":\"969\",\"name\":\"매일노동뉴스\",\"logoLight\":{\"url\":\"https://s.pstatic.net/static/newsstand/2020/logo/light/0604/969.png\"},\"logoDark\":{\"url\":\"https://s.pstatic.net/static/newsstand/2020/logo/dark/0604/969.png\"},\"showThumbnailView\":true,\"showListView\":true,\"regDate\":\"20231218 07:40:04\",\"_id\":null,\"@type\":\"PC-NEWSSTAND-PRESS-BLOCK\",\"@code\":null,\"@template\":\"NONE\",\"@flowId\":null,\"@flowExecutionId\":null,\"@provider\":null,\"@lastModifiedAt\":null},{\"@type\":\"PC-NEWSSTAND-PRESS-BLOCK\",\"blocks\":null,\"materials\":null,\"excludeInPaging\":false,\"positionForPaging\":0,\"realtime\":false,\"pid\":\"050\",\"name\":\"한경비즈니스\",\"logoLight\":{\"url\":\"https://s.pstatic.net/static/newsstand/up/2020/0928/nsd125033437.png\"},\"logoDark\":{\"url\":\"https://s.pstatic.net/static/newsstand/up/2020/0928/nsd125026855.png\"},\"showThumbnailView\":true,\"showListView\":true,\"regDate\":\"20231218 08:06:58\",\"_id\":null,\"@type\":\"PC-NEWSSTAND-PRESS-BLOCK\",\"@code\":null,\"@template\":\"NONE\",\"@flowId\":null,\"@flowExecutionId\":null,\"@provider\":null,\"@lastModifiedAt\":null},{\"@type\":\"PC-NEWSSTAND-PRESS-BLOCK\",\"blocks\":null,\"materials\":null,\"excludeInPaging\":false,\"positionForPaging\":0,\"realtime\":false,\"pid\":\"293\",\"name\":\"블로터\",\"logoLight\":{\"url\":\"https://s.pstatic.net/static/newsstand/2020/logo/light/0604/293.png\"},\"logoDark\":{\"url\":\"https://s.pstatic.net/static/newsstand/2020/logo/dark/0604/293.png\"},\"showThumbnailView\":true,\"showListView\":true,\"regDate\":\"20231218 14:10:32\",\"_id\":null,\"@type\":\"PC-NEWSSTAND-PRESS-BLOCK\",\"@code\":null,\"@template\":\"NONE\",\"@flowId\":null,\"@flowExecutionId\":null,\"@provider\":null,\"@lastModifiedAt\":null},{\"@type\":\"PC-NEWSSTAND-PRESS-BLOCK\",\"blocks\":null,\"materials\":null,\"excludeInPaging\":false,\"positionForPaging\":0,\"realtime\":false,\"pid\":\"052\",\"name\":\"YTN\",\"logoLight\":{\"url\":\"https://s.pstatic.net/static/newsstand/2020/logo/light/0604/052.png\"},\"logoDark\":{\"url\":\"https://s.pstatic.net/static/newsstand/2020/logo/dark/0604/052.png\"},\"showThumbnailView\":true,\"showListView\":true,\"regDate\":\"20231218 14:07:53\",\"_id\":null,\"@type\":\"PC-NEWSSTAND-PRESS-BLOCK\",\"@code\":null,\"@template\":\"NONE\",\"@flowId\":null,\"@flowExecutionId\":null,\"@provider\":null,\"@lastModifiedAt\":null},{\"@type\":\"PC-NEWSSTAND-PRESS-BLOCK\",\"blocks\":null,\"materials\":null,\"excludeInPaging\":false,\"positionForPaging\":0,\"realtime\":false,\"pid\":\"296\",\"name\":\"코메디닷컴\",\"logoLight\":{\"url\":\"https://s.pstatic.net/static/newsstand/2020/logo/light/0604/296.png\"},\"logoDark\":{\"url\":\"https://s.pstatic.net/static/newsstand/2020/logo/dark/0604/296.png\"},\"showThumbnailView\":true,\"showListView\":true,\"regDate\":\"20231218 13:42:56\",\"_id\":null,\"@type\":\"PC-NEWSSTAND-PRESS-BLOCK\",\"@code\":null,\"@template\":\"NONE\",\"@flowId\":null,\"@flowExecutionId\":null,\"@provider\":null,\"@lastModifiedAt\":null},{\"@type\":\"PC-NEWSSTAND-PRESS-BLOCK\",\"blocks\":null,\"materials\":null,\"excludeInPaging\":false,\"positionForPaging\":0,\"realtime\":false,\"pid\":\"055\",\"name\":\"SBS\",\"logoLight\":{\"url\":\"https://s.pstatic.net/static/newsstand/2020/logo/light/0604/055.png\"},\"logoDark\":{\"url\":\"https://s.pstatic.net/static/newsstand/2020/logo/dark/0604/055.png\"},\"showThumbnailView\":true,\"showListView\":true,\"regDate\":\"20231218 14:15:07\",\"_id\":null,\"@type\":\"PC-NEWSSTAND-PRESS-BLOCK\",\"@code\":null,\"@template\":\"NONE\",\"@flowId\":null,\"@flowExecutionId\":null,\"@provider\":null,\"@lastModifiedAt\":null},{\"@type\":\"PC-NEWSSTAND-PRESS-BLOCK\",\"blocks\":null,\"materials\":null,\"excludeInPaging\":false,\"positionForPaging\":0,\"realtime\":false,\"pid\":\"056\",\"name\":\"KBS\",\"logoLight\":{\"url\":\"https://s.pstatic.net/static/newsstand/2020/logo/light/0604/056.png\"},\"logoDark\":{\"url\":\"https://s.pstatic.net/static/newsstand/2020/logo/dark/0604/056.png\"},\"showThumbnailView\":true,\"showListView\":true,\"regDate\":\"20231218 14:11:19\",\"_id\":null,\"@type\":\"PC-NEWSSTAND-PRESS-BLOCK\",\"@code\":null,\"@template\":\"NONE\",\"@flowId\":null,\"@flowExecutionId\":null,\"@provider\":null,\"@lastModifiedAt\":null},{\"@type\":\"PC-NEWSSTAND-PRESS-BLOCK\",\"blocks\":null,\"materials\":null,\"excludeInPaging\":false,\"positionForPaging\":0,\"realtime\":false,\"pid\":\"057\",\"name\":\"MBN\",\"logoLight\":{\"url\":\"https://s.pstatic.net/static/newsstand/2020/logo/light/0604/057.png\"},\"logoDark\":{\"url\":\"https://s.pstatic.net/static/newsstand/2020/logo/dark/0604/057.png\"},\"showThumbnailView\":true,\"showListView\":true,\"regDate\":\"20231218 14:15:01\",\"_id\":null,\"@type\":\"PC-NEWSSTAND-PRESS-BLOCK\",\"@code\":null,\"@template\":\"NONE\",\"@flowId\":null,\"@flowExecutionId\":null,\"@provider\":null,\"@lastModifiedAt\":null},{\"@type\":\"PC-NEWSSTAND-PRESS-BLOCK\",\"blocks\":null,\"materials\":null,\"excludeInPaging\":false,\"positionForPaging\":0,\"realtime\":false,\"pid\":\"970\",\"name\":\"소비자가만드는신문\",\"logoLight\":{\"url\":\"https://s.pstatic.net/static/newsstand/2020/logo/light/0604/970.png\"},\"logoDark\":{\"url\":\"https://s.pstatic.net/static/newsstand/2020/logo/dark/0604/970.png\"},\"showThumbnailView\":true,\"showListView\":true,\"regDate\":\"20231218 07:18:21\",\"_id\":null,\"@type\":\"PC-NEWSSTAND-PRESS-BLOCK\",\"@code\":null,\"@template\":\"NONE\",\"@flowId\":null,\"@flowExecutionId\":null,\"@provider\":null,\"@lastModifiedAt\":null},{\"@type\":\"PC-NEWSSTAND-PRESS-BLOCK\",\"blocks\":null,\"materials\":null,\"excludeInPaging\":false,\"positionForPaging\":0,\"realtime\":false,\"pid\":\"971\",\"name\":\"일요시사\",\"logoLight\":{\"url\":\"https://s.pstatic.net/static/newsstand/2020/logo/light/0604/971.png\"},\"logoDark\":{\"url\":\"https://s.pstatic.net/static/newsstand/2020/logo/dark/0604/971.png\"},\"showThumbnailView\":true,\"showListView\":true,\"regDate\":\"20231218 14:10:02\",\"_id\":null,\"@type\":\"PC-NEWSSTAND-PRESS-BLOCK\",\"@code\":null,\"@template\":\"NONE\",\"@flowId\":null,\"@flowExecutionId\":null,\"@provider\":null,\"@lastModifiedAt\":null},{\"@type\":\"PC-NEWSSTAND-PRESS-BLOCK\",\"blocks\":null,\"materials\":null,\"excludeInPaging\":false,\"positionForPaging\":0,\"realtime\":false,\"pid\":\"972\",\"name\":\"PD저널\",\"logoLight\":{\"url\":\"https://s.pstatic.net/static/newsstand/2020/logo/light/0604/972.png\"},\"logoDark\":{\"url\":\"https://s.pstatic.net/static/newsstand/2020/logo/dark/0604/972.png\"},\"showThumbnailView\":true,\"showListView\":true,\"regDate\":\"20231218 13:35:32\",\"_id\":null,\"@type\":\"PC-NEWSSTAND-PRESS-BLOCK\",\"@code\":null,\"@template\":\"NONE\",\"@flowId\":null,\"@flowExecutionId\":null,\"@provider\":null,\"@lastModifiedAt\":null},{\"@type\":\"PC-NEWSSTAND-PRESS-BLOCK\",\"blocks\":null,\"materials\":null,\"excludeInPaging\":false,\"positionForPaging\":0,\"realtime\":false,\"pid\":\"973\",\"name\":\"비즈한국\",\"logoLight\":{\"url\":\"https://s.pstatic.net/static/newsstand/2020/logo/light/0604/973.png\"},\"logoDark\":{\"url\":\"https://s.pstatic.net/static/newsstand/2020/logo/dark/0604/973.png\"},\"showThumbnailView\":true,\"showListView\":true,\"regDate\":\"20231218 14:12:30\",\"_id\":null,\"@type\":\"PC-NEWSSTAND-PRESS-BLOCK\",\"@code\":null,\"@template\":\"NONE\",\"@flowId\":null,\"@flowExecutionId\":null,\"@provider\":null,\"@lastModifiedAt\":null},{\"@type\":\"PC-NEWSSTAND-PRESS-BLOCK\",\"blocks\":null,\"materials\":null,\"excludeInPaging\":false,\"positionForPaging\":0,\"realtime\":false,\"pid\":\"974\",\"name\":\"BBS NEWS\",\"logoLight\":{\"url\":\"https://s.pstatic.net/static/newsstand/2020/logo/light/0604/974.png\"},\"logoDark\":{\"url\":\"https://s.pstatic.net/static/newsstand/2020/logo/dark/0604/974.png\"},\"showThumbnailView\":true,\"showListView\":true,\"regDate\":\"20231218 11:28:18\",\"_id\":null,\"@type\":\"PC-NEWSSTAND-PRESS-BLOCK\",\"@code\":null,\"@template\":\"NONE\",\"@flowId\":null,\"@flowExecutionId\":null,\"@provider\":null,\"@lastModifiedAt\":null},{\"@type\":\"PC-NEWSSTAND-PRESS-BLOCK\",\"blocks\":null,\"materials\":null,\"excludeInPaging\":false,\"positionForPaging\":0,\"realtime\":false,\"pid\":\"975\",\"name\":\"시사저널이코노미\",\"logoLight\":{\"url\":\"https://s.pstatic.net/static/newsstand/2020/logo/light/0604/975.png\"},\"logoDark\":{\"url\":\"https://s.pstatic.net/static/newsstand/2020/logo/dark/0604/975.png\"},\"showThumbnailView\":true,\"showListView\":true,\"regDate\":\"20231218 14:10:08\",\"_id\":null,\"@type\":\"PC-NEWSSTAND-PRESS-BLOCK\",\"@code\":null,\"@template\":\"NONE\",\"@flowId\":null,\"@flowExecutionId\":null,\"@provider\":null,\"@lastModifiedAt\":null},{\"@type\":\"PC-NEWSSTAND-PRESS-BLOCK\",\"blocks\":null,\"materials\":null,\"excludeInPaging\":false,\"positionForPaging\":0,\"realtime\":false,\"pid\":\"976\",\"name\":\"무등일보\",\"logoLight\":{\"url\":\"https://s.pstatic.net/static/newsstand/2020/logo/light/0604/976.png\"},\"logoDark\":{\"url\":\"https://s.pstatic.net/static/newsstand/2020/logo/dark/0604/976.png\"},\"showThumbnailView\":true,\"showListView\":true,\"regDate\":\"20231218 14:10:08\",\"_id\":null,\"@type\":\"PC-NEWSSTAND-PRESS-BLOCK\",\"@code\":null,\"@template\":\"NONE\",\"@flowId\":null,\"@flowExecutionId\":null,\"@provider\":null,\"@lastModifiedAt\":null},{\"@type\":\"PC-NEWSSTAND-PRESS-BLOCK\",\"blocks\":null,\"materials\":null,\"excludeInPaging\":false,\"positionForPaging\":0,\"realtime\":false,\"pid\":\"977\",\"name\":\"헬로디디\",\"logoLight\":{\"url\":\"https://s.pstatic.net/static/newsstand/2020/logo/light/0604/977.png\"},\"logoDark\":{\"url\":\"https://s.pstatic.net/static/newsstand/2020/logo/dark/0604/977.png\"},\"showThumbnailView\":true,\"showListView\":true,\"regDate\":\"20231218 14:10:21\",\"_id\":null,\"@type\":\"PC-NEWSSTAND-PRESS-BLOCK\",\"@code\":null,\"@template\":\"NONE\",\"@flowId\":null,\"@flowExecutionId\":null,\"@provider\":null,\"@lastModifiedAt\":null},{\"@type\":\"PC-NEWSSTAND-PRESS-BLOCK\",\"blocks\":null,\"materials\":null,\"excludeInPaging\":false,\"positionForPaging\":0,\"realtime\":false,\"pid\":\"978\",\"name\":\"경북도민일보\",\"logoLight\":{\"url\":\"https://s.pstatic.net/static/newsstand/2020/logo/light/0604/978.png\"},\"logoDark\":{\"url\":\"https://s.pstatic.net/static/newsstand/2020/logo/dark/0604/978.png\"},\"showThumbnailView\":true,\"showListView\":true,\"regDate\":\"20231217 18:55:57\",\"_id\":null,\"@type\":\"PC-NEWSSTAND-PRESS-BLOCK\",\"@code\":null,\"@template\":\"NONE\",\"@flowId\":null,\"@flowExecutionId\":null,\"@provider\":null,\"@lastModifiedAt\":null},{\"@type\":\"PC-NEWSSTAND-PRESS-BLOCK\",\"blocks\":null,\"materials\":null,\"excludeInPaging\":false,\"positionForPaging\":0,\"realtime\":false,\"pid\":\"979\",\"name\":\"약사공론\",\"logoLight\":{\"url\":\"https://s.pstatic.net/static/newsstand/2020/logo/light/0604/979.png\"},\"logoDark\":{\"url\":\"https://s.pstatic.net/static/newsstand/2020/logo/dark/0604/979.png\"},\"showThumbnailView\":true,\"showListView\":true,\"regDate\":\"20231218 12:00:56\",\"_id\":null,\"@type\":\"PC-NEWSSTAND-PRESS-BLOCK\",\"@code\":null,\"@template\":\"NONE\",\"@flowId\":null,\"@flowExecutionId\":null,\"@provider\":null,\"@lastModifiedAt\":null},{\"@type\":\"PC-NEWSSTAND-PRESS-BLOCK\",\"blocks\":null,\"materials\":null,\"excludeInPaging\":false,\"positionForPaging\":0,\"realtime\":false,\"pid\":\"980\",\"name\":\"KBC광주방송\",\"logoLight\":{\"url\":\"https://s.pstatic.net/static/newsstand/2020/logo/light/0604/980.png\"},\"logoDark\":{\"url\":\"https://s.pstatic.net/static/newsstand/2020/logo/dark/0604/980.png\"},\"showThumbnailView\":true,\"showListView\":true,\"regDate\":\"20231218 12:53:35\",\"_id\":null,\"@type\":\"PC-NEWSSTAND-PRESS-BLOCK\",\"@code\":null,\"@template\":\"NONE\",\"@flowId\":null,\"@flowExecutionId\":null,\"@provider\":null,\"@lastModifiedAt\":null},{\"@type\":\"PC-NEWSSTAND-PRESS-BLOCK\",\"blocks\":null,\"materials\":null,\"excludeInPaging\":false,\"positionForPaging\":0,\"realtime\":false,\"pid\":\"981\",\"name\":\"TBS\",\"logoLight\":{\"url\":\"https://s.pstatic.net/static/newsstand/2020/logo/light/0604/981.png\"},\"logoDark\":{\"url\":\"https://s.pstatic.net/static/newsstand/2020/logo/dark/0604/981.png\"},\"showThumbnailView\":true,\"showListView\":true,\"regDate\":\"20231218 14:12:34\",\"_id\":null,\"@type\":\"PC-NEWSSTAND-PRESS-BLOCK\",\"@code\":null,\"@template\":\"NONE\",\"@flowId\":null,\"@flowExecutionId\":null,\"@provider\":null,\"@lastModifiedAt\":null},{\"@type\":\"PC-NEWSSTAND-PRESS-BLOCK\",\"blocks\":null,\"materials\":null,\"excludeInPaging\":false,\"positionForPaging\":0,\"realtime\":false,\"pid\":\"982\",\"name\":\"이코노미조선\",\"logoLight\":{\"url\":\"https://s.pstatic.net/static/newsstand/2020/logo/light/0604/982.png\"},\"logoDark\":{\"url\":\"https://s.pstatic.net/static/newsstand/2020/logo/dark/0604/982.png\"},\"showThumbnailView\":true,\"showListView\":true,\"regDate\":\"20231218 11:04:43\",\"_id\":null,\"@type\":\"PC-NEWSSTAND-PRESS-BLOCK\",\"@code\":null,\"@template\":\"NONE\",\"@flowId\":null,\"@flowExecutionId\":null,\"@provider\":null,\"@lastModifiedAt\":null},{\"@type\":\"PC-NEWSSTAND-PRESS-BLOCK\",\"blocks\":null,\"materials\":null,\"excludeInPaging\":false,\"positionForPaging\":0,\"realtime\":false,\"pid\":\"983\",\"name\":\"중부매일\",\"logoLight\":{\"url\":\"https://s.pstatic.net/static/newsstand/2020/logo/light/0604/983.png\"},\"logoDark\":{\"url\":\"https://s.pstatic.net/static/newsstand/2020/logo/dark/0604/983.png\"},\"showThumbnailView\":true,\"showListView\":true,\"regDate\":\"20231217 19:42:36\",\"_id\":null,\"@type\":\"PC-NEWSSTAND-PRESS-BLOCK\",\"@code\":null,\"@template\":\"NONE\",\"@flowId\":null,\"@flowExecutionId\":null,\"@provider\":null,\"@lastModifiedAt\":null},{\"@type\":\"PC-NEWSSTAND-PRESS-BLOCK\",\"blocks\":null,\"materials\":null,\"excludeInPaging\":false,\"positionForPaging\":0,\"realtime\":false,\"pid\":\"984\",\"name\":\"낚시춘추\",\"logoLight\":{\"url\":\"https://s.pstatic.net/static/newsstand/2020/logo/light/0604/984.png\"},\"logoDark\":{\"url\":\"https://s.pstatic.net/static/newsstand/2020/logo/dark/0604/984.png\"},\"showThumbnailView\":true,\"showListView\":true,\"regDate\":\"20231207 13:10:00\",\"_id\":null,\"@type\":\"PC-NEWSSTAND-PRESS-BLOCK\",\"@code\":null,\"@template\":\"NONE\",\"@flowId\":null,\"@flowExecutionId\":null,\"@provider\":null,\"@lastModifiedAt\":null},{\"@type\":\"PC-NEWSSTAND-PRESS-BLOCK\",\"blocks\":null,\"materials\":null,\"excludeInPaging\":false,\"positionForPaging\":0,\"realtime\":false,\"pid\":\"986\",\"name\":\"투데이신문\",\"logoLight\":{\"url\":\"https://s.pstatic.net/static/newsstand/up/2020/1019/nsd144531857.png\"},\"logoDark\":{\"url\":\"https://s.pstatic.net/static/newsstand/up/2020/1019/nsd144525568.png\"},\"showThumbnailView\":true,\"showListView\":true,\"regDate\":\"20231218 14:10:05\",\"_id\":null,\"@type\":\"PC-NEWSSTAND-PRESS-BLOCK\",\"@code\":null,\"@template\":\"NONE\",\"@flowId\":null,\"@flowExecutionId\":null,\"@provider\":null,\"@lastModifiedAt\":null},{\"@type\":\"PC-NEWSSTAND-PRESS-BLOCK\",\"blocks\":null,\"materials\":null,\"excludeInPaging\":false,\"positionForPaging\":0,\"realtime\":false,\"pid\":\"988\",\"name\":\"이웃집과학자\",\"logoLight\":{\"url\":\"https://s.pstatic.net/static/newsstand/2020/logo/light/0604/988.png\"},\"logoDark\":{\"url\":\"https://s.pstatic.net/static/newsstand/2020/logo/dark/0604/988.png\"},\"showThumbnailView\":true,\"showListView\":true,\"regDate\":\"20231129 13:54:03\",\"_id\":null,\"@type\":\"PC-NEWSSTAND-PRESS-BLOCK\",\"@code\":null,\"@template\":\"NONE\",\"@flowId\":null,\"@flowExecutionId\":null,\"@provider\":null,\"@lastModifiedAt\":null},{\"@type\":\"PC-NEWSSTAND-PRESS-BLOCK\",\"blocks\":null,\"materials\":null,\"excludeInPaging\":false,\"positionForPaging\":0,\"realtime\":false,\"pid\":\"989\",\"name\":\"TBC\",\"logoLight\":{\"url\":\"https://s.pstatic.net/static/newsstand/2020/logo/light/0604/989.png\"},\"logoDark\":{\"url\":\"https://s.pstatic.net/static/newsstand/2020/logo/dark/0604/989.png\"},\"showThumbnailView\":true,\"showListView\":true,\"regDate\":\"20231217 20:50:26\",\"_id\":null,\"@type\":\"PC-NEWSSTAND-PRESS-BLOCK\",\"@code\":null,\"@template\":\"NONE\",\"@flowId\":null,\"@flowExecutionId\":null,\"@provider\":null,\"@lastModifiedAt\":null},{\"@type\":\"PC-NEWSSTAND-PRESS-BLOCK\",\"blocks\":null,\"materials\":null,\"excludeInPaging\":false,\"positionForPaging\":0,\"realtime\":false,\"pid\":\"073\",\"name\":\"스포츠서울\",\"logoLight\":{\"url\":\"https://s.pstatic.net/static/newsstand/up/2020/0708/nsd94830278.png\"},\"logoDark\":{\"url\":\"https://s.pstatic.net/static/newsstand/up/2020/0708/nsd94820151.png\"},\"showThumbnailView\":true,\"showListView\":true,\"regDate\":\"20231218 14:12:03\",\"_id\":null,\"@type\":\"PC-NEWSSTAND-PRESS-BLOCK\",\"@code\":null,\"@template\":\"NONE\",\"@flowId\":null,\"@flowExecutionId\":null,\"@provider\":null,\"@lastModifiedAt\":null},{\"@type\":\"PC-NEWSSTAND-PRESS-BLOCK\",\"blocks\":null,\"materials\":null,\"excludeInPaging\":false,\"positionForPaging\":0,\"realtime\":false,\"pid\":\"075\",\"name\":\"맥스무비\",\"logoLight\":{\"url\":\"https://s.pstatic.net/static/newsstand/2020/logo/light/0604/075.png\"},\"logoDark\":{\"url\":\"https://s.pstatic.net/static/newsstand/2020/logo/dark/0604/075.png\"},\"showThumbnailView\":true,\"showListView\":true,\"regDate\":\"20231218 12:56:11\",\"_id\":null,\"@type\":\"PC-NEWSSTAND-PRESS-BLOCK\",\"@code\":null,\"@template\":\"NONE\",\"@flowId\":null,\"@flowExecutionId\":null,\"@provider\":null,\"@lastModifiedAt\":null},{\"@type\":\"PC-NEWSSTAND-PRESS-BLOCK\",\"blocks\":null,\"materials\":null,\"excludeInPaging\":false,\"positionForPaging\":0,\"realtime\":false,\"pid\":\"076\",\"name\":\"스포츠조선\",\"logoLight\":{\"url\":\"https://s.pstatic.net/static/newsstand/2020/logo/light/0604/076.png\"},\"logoDark\":{\"url\":\"https://s.pstatic.net/static/newsstand/2020/logo/dark/0604/076.png\"},\"showThumbnailView\":true,\"showListView\":true,\"regDate\":\"20231218 12:55:44\",\"_id\":null,\"@type\":\"PC-NEWSSTAND-PRESS-BLOCK\",\"@code\":null,\"@template\":\"NONE\",\"@flowId\":null,\"@flowExecutionId\":null,\"@provider\":null,\"@lastModifiedAt\":null},{\"@type\":\"PC-NEWSSTAND-PRESS-BLOCK\",\"blocks\":null,\"materials\":null,\"excludeInPaging\":false,\"positionForPaging\":0,\"realtime\":false,\"pid\":\"990\",\"name\":\"주간조선\",\"logoLight\":{\"url\":\"https://s.pstatic.net/static/newsstand/2020/logo/light/0604/990.png\"},\"logoDark\":{\"url\":\"https://s.pstatic.net/static/newsstand/2020/logo/dark/0604/990.png\"},\"showThumbnailView\":true,\"showListView\":true,\"regDate\":\"20231218 14:10:28\",\"_id\":null,\"@type\":\"PC-NEWSSTAND-PRESS-BLOCK\",\"@code\":null,\"@template\":\"NONE\",\"@flowId\":null,\"@flowExecutionId\":null,\"@provider\":null,\"@lastModifiedAt\":null},{\"@type\":\"PC-NEWSSTAND-PRESS-BLOCK\",\"blocks\":null,\"materials\":null,\"excludeInPaging\":false,\"positionForPaging\":0,\"realtime\":false,\"pid\":\"991\",\"name\":\"데일리NK\",\"logoLight\":{\"url\":\"https://s.pstatic.net/static/newsstand/2020/logo/light/0604/991.png\"},\"logoDark\":{\"url\":\"https://s.pstatic.net/static/newsstand/2020/logo/dark/0604/991.png\"},\"showThumbnailView\":true,\"showListView\":true,\"regDate\":\"20231218 04:45:42\",\"_id\":null,\"@type\":\"PC-NEWSSTAND-PRESS-BLOCK\",\"@code\":null,\"@template\":\"NONE\",\"@flowId\":null,\"@flowExecutionId\":null,\"@provider\":null,\"@lastModifiedAt\":null},{\"@type\":\"PC-NEWSSTAND-PRESS-BLOCK\",\"blocks\":null,\"materials\":null,\"excludeInPaging\":false,\"positionForPaging\":0,\"realtime\":false,\"pid\":\"079\",\"name\":\"노컷뉴스\",\"logoLight\":{\"url\":\"https://s.pstatic.net/static/newsstand/2020/logo/light/0604/079.png\"},\"logoDark\":{\"url\":\"https://s.pstatic.net/static/newsstand/2020/logo/dark/0604/079.png\"},\"showThumbnailView\":true,\"showListView\":true,\"regDate\":\"20231218 14:14:38\",\"_id\":null,\"@type\":\"PC-NEWSSTAND-PRESS-BLOCK\",\"@code\":null,\"@template\":\"NONE\",\"@flowId\":null,\"@flowExecutionId\":null,\"@provider\":null,\"@lastModifiedAt\":null},{\"@type\":\"PC-NEWSSTAND-PRESS-BLOCK\",\"blocks\":null,\"materials\":null,\"excludeInPaging\":false,\"positionForPaging\":0,\"realtime\":false,\"pid\":\"993\",\"name\":\"허프포스트코리아\",\"logoLight\":{\"url\":\"https://s.pstatic.net/static/newsstand/2020/logo/light/0604/993.png\"},\"logoDark\":{\"url\":\"https://s.pstatic.net/static/newsstand/2020/logo/dark/0604/993.png\"},\"showThumbnailView\":true,\"showListView\":true,\"regDate\":\"20231218 14:10:29\",\"_id\":null,\"@type\":\"PC-NEWSSTAND-PRESS-BLOCK\",\"@code\":null,\"@template\":\"NONE\",\"@flowId\":null,\"@flowExecutionId\":null,\"@provider\":null,\"@lastModifiedAt\":null},{\"@type\":\"PC-NEWSSTAND-PRESS-BLOCK\",\"blocks\":null,\"materials\":null,\"excludeInPaging\":false,\"positionForPaging\":0,\"realtime\":false,\"pid\":\"994\",\"name\":\"AI타임스\",\"logoLight\":{\"url\":\"https://s.pstatic.net/static/newsstand/up/2021/1112/nsd102040597.png\"},\"logoDark\":{\"url\":\"https://s.pstatic.net/static/newsstand/up/2021/1112/nsd102110770.png\"},\"showThumbnailView\":true,\"showListView\":true,\"regDate\":\"20231218 14:10:24\",\"_id\":null,\"@type\":\"PC-NEWSSTAND-PRESS-BLOCK\",\"@code\":null,\"@template\":\"NONE\",\"@flowId\":null,\"@flowExecutionId\":null,\"@provider\":null,\"@lastModifiedAt\":null},{\"@type\":\"PC-NEWSSTAND-PRESS-BLOCK\",\"blocks\":null,\"materials\":null,\"excludeInPaging\":false,\"positionForPaging\":0,\"realtime\":false,\"pid\":\"995\",\"name\":\"뉴스포스트\",\"logoLight\":{\"url\":\"https://s.pstatic.net/static/newsstand/up/2021/1112/nsd10248812.png\"},\"logoDark\":{\"url\":\"https://s.pstatic.net/static/newsstand/up/2021/1112/nsd102419893.png\"},\"showThumbnailView\":true,\"showListView\":true,\"regDate\":\"20231218 14:10:24\",\"_id\":null,\"@type\":\"PC-NEWSSTAND-PRESS-BLOCK\",\"@code\":null,\"@template\":\"NONE\",\"@flowId\":null,\"@flowExecutionId\":null,\"@provider\":null,\"@lastModifiedAt\":null},{\"@type\":\"PC-NEWSSTAND-PRESS-BLOCK\",\"blocks\":null,\"materials\":null,\"excludeInPaging\":false,\"positionForPaging\":0,\"realtime\":false,\"pid\":\"996\",\"name\":\"매경헬스\",\"logoLight\":{\"url\":\"https://s.pstatic.net/static/newsstand/up/2023/0330/nsd10125746.png\"},\"logoDark\":{\"url\":\"https://s.pstatic.net/static/newsstand/up/2023/0330/nsd10148542.png\"},\"showThumbnailView\":true,\"showListView\":true,\"regDate\":\"20231218 14:10:25\",\"_id\":null,\"@type\":\"PC-NEWSSTAND-PRESS-BLOCK\",\"@code\":null,\"@template\":\"NONE\",\"@flowId\":null,\"@flowExecutionId\":null,\"@provider\":null,\"@lastModifiedAt\":null},{\"@type\":\"PC-NEWSSTAND-PRESS-BLOCK\",\"blocks\":null,\"materials\":null,\"excludeInPaging\":false,\"positionForPaging\":0,\"realtime\":false,\"pid\":\"997\",\"name\":\"뉴스펭귄\",\"logoLight\":{\"url\":\"https://s.pstatic.net/static/newsstand/up/2022/0405/nsd15024245.png\"},\"logoDark\":{\"url\":\"https://s.pstatic.net/static/newsstand/up/2022/0405/nsd15014578.png\"},\"showThumbnailView\":true,\"showListView\":true,\"regDate\":\"20231218 14:00:24\",\"_id\":null,\"@type\":\"PC-NEWSSTAND-PRESS-BLOCK\",\"@code\":null,\"@template\":\"NONE\",\"@flowId\":null,\"@flowExecutionId\":null,\"@provider\":null,\"@lastModifiedAt\":null},{\"@type\":\"PC-NEWSSTAND-PRESS-BLOCK\",\"blocks\":null,\"materials\":null,\"excludeInPaging\":false,\"positionForPaging\":0,\"realtime\":false,\"pid\":\"998\",\"name\":\"뉴스앤조이\",\"logoLight\":{\"url\":\"https://s.pstatic.net/static/newsstand/up/2022/0328/nsd22503109.png\"},\"logoDark\":{\"url\":\"https://s.pstatic.net/static/newsstand/up/2022/0328/nsd22509287.png\"},\"showThumbnailView\":true,\"showListView\":true,\"regDate\":\"20231218 14:10:26\",\"_id\":null,\"@type\":\"PC-NEWSSTAND-PRESS-BLOCK\",\"@code\":null,\"@template\":\"NONE\",\"@flowId\":null,\"@flowExecutionId\":null,\"@provider\":null,\"@lastModifiedAt\":null},{\"@type\":\"PC-NEWSSTAND-PRESS-BLOCK\",\"blocks\":null,\"materials\":null,\"excludeInPaging\":false,\"positionForPaging\":0,\"realtime\":false,\"pid\":\"081\",\"name\":\"서울신문\",\"logoLight\":{\"url\":\"https://s.pstatic.net/static/newsstand/up/2022/0208/nsd16121208.png\"},\"logoDark\":{\"url\":\"https://s.pstatic.net/static/newsstand/up/2022/0208/nsd161212576.png\"},\"showThumbnailView\":true,\"showListView\":true,\"regDate\":\"20231218 13:52:28\",\"_id\":null,\"@type\":\"PC-NEWSSTAND-PRESS-BLOCK\",\"@code\":null,\"@template\":\"NONE\",\"@flowId\":null,\"@flowExecutionId\":null,\"@provider\":null,\"@lastModifiedAt\":null},{\"@type\":\"PC-NEWSSTAND-PRESS-BLOCK\",\"blocks\":null,\"materials\":null,\"excludeInPaging\":false,\"positionForPaging\":0,\"realtime\":false,\"pid\":\"082\",\"name\":\"부산일보\",\"logoLight\":{\"url\":\"https://s.pstatic.net/static/newsstand/up/2021/0322/nsd21527882.png\"},\"logoDark\":{\"url\":\"https://s.pstatic.net/static/newsstand/up/2021/0322/nsd215225866.png\"},\"showThumbnailView\":true,\"showListView\":true,\"regDate\":\"20231218 11:18:29\",\"_id\":null,\"@type\":\"PC-NEWSSTAND-PRESS-BLOCK\",\"@code\":null,\"@template\":\"NONE\",\"@flowId\":null,\"@flowExecutionId\":null,\"@provider\":null,\"@lastModifiedAt\":null},{\"@type\":\"PC-NEWSSTAND-PRESS-BLOCK\",\"blocks\":null,\"materials\":null,\"excludeInPaging\":false,\"positionForPaging\":0,\"realtime\":false,\"pid\":\"083\",\"name\":\"광주일보\",\"logoLight\":{\"url\":\"https://s.pstatic.net/static/newsstand/up/2023/0309/nsd195548501.png\"},\"logoDark\":{\"url\":\"https://s.pstatic.net/static/newsstand/up/2023/0309/nsd1956932.png\"},\"showThumbnailView\":true,\"showListView\":true,\"regDate\":\"20231218 14:13:42\",\"_id\":null,\"@type\":\"PC-NEWSSTAND-PRESS-BLOCK\",\"@code\":null,\"@template\":\"NONE\",\"@flowId\":null,\"@flowExecutionId\":null,\"@provider\":null,\"@lastModifiedAt\":null},{\"@type\":\"PC-NEWSSTAND-PRESS-BLOCK\",\"blocks\":null,\"materials\":null,\"excludeInPaging\":false,\"positionForPaging\":0,\"realtime\":false,\"pid\":\"087\",\"name\":\"강원일보\",\"logoLight\":{\"url\":\"https://s.pstatic.net/static/newsstand/2020/logo/light/0604/087.png\"},\"logoDark\":{\"url\":\"https://s.pstatic.net/static/newsstand/2020/logo/dark/0604/087.png\"},\"showThumbnailView\":true,\"showListView\":true,\"regDate\":\"20231218 12:06:16\",\"_id\":null,\"@type\":\"PC-NEWSSTAND-PRESS-BLOCK\",\"@code\":null,\"@template\":\"NONE\",\"@flowId\":null,\"@flowExecutionId\":null,\"@provider\":null,\"@lastModifiedAt\":null},{\"@type\":\"PC-NEWSSTAND-PRESS-BLOCK\",\"blocks\":null,\"materials\":null,\"excludeInPaging\":false,\"positionForPaging\":0,\"realtime\":false,\"pid\":\"088\",\"name\":\"매일신문\",\"logoLight\":{\"url\":\"https://s.pstatic.net/static/newsstand/2020/logo/light/0604/088.png\"},\"logoDark\":{\"url\":\"https://s.pstatic.net/static/newsstand/2020/logo/dark/0604/088.png\"},\"showThumbnailView\":true,\"showListView\":true,\"regDate\":\"20231218 13:54:01\",\"_id\":null,\"@type\":\"PC-NEWSSTAND-PRESS-BLOCK\",\"@code\":null,\"@template\":\"NONE\",\"@flowId\":null,\"@flowExecutionId\":null,\"@provider\":null,\"@lastModifiedAt\":null},{\"@type\":\"PC-NEWSSTAND-PRESS-BLOCK\",\"blocks\":null,\"materials\":null,\"excludeInPaging\":false,\"positionForPaging\":0,\"realtime\":false,\"pid\":\"089\",\"name\":\"대전일보\",\"logoLight\":{\"url\":\"https://s.pstatic.net/static/newsstand/2020/logo/light/0604/089.png\"},\"logoDark\":{\"url\":\"https://s.pstatic.net/static/newsstand/2020/logo/dark/0604/089.png\"},\"showThumbnailView\":true,\"showListView\":true,\"regDate\":\"20231218 14:15:02\",\"_id\":null,\"@type\":\"PC-NEWSSTAND-PRESS-BLOCK\",\"@code\":null,\"@template\":\"NONE\",\"@flowId\":null,\"@flowExecutionId\":null,\"@provider\":null,\"@lastModifiedAt\":null},{\"@type\":\"PC-NEWSSTAND-PRESS-BLOCK\",\"blocks\":null,\"materials\":null,\"excludeInPaging\":false,\"positionForPaging\":0,\"realtime\":false,\"pid\":\"529\",\"name\":\"스포츠춘추\",\"logoLight\":{\"url\":\"https://s.pstatic.net/static/newsstand/up/2022/0116/nsd19454239.png\"},\"logoDark\":{\"url\":\"https://s.pstatic.net/static/newsstand/up/2022/0116/nsd194523259.png\"},\"showThumbnailView\":true,\"showListView\":true,\"regDate\":\"20231218 14:10:24\",\"_id\":null,\"@type\":\"PC-NEWSSTAND-PRESS-BLOCK\",\"@code\":null,\"@template\":\"NONE\",\"@flowId\":null,\"@flowExecutionId\":null,\"@provider\":null,\"@lastModifiedAt\":null},{\"@type\":\"PC-NEWSSTAND-PRESS-BLOCK\",\"blocks\":null,\"materials\":null,\"excludeInPaging\":false,\"positionForPaging\":0,\"realtime\":false,\"pid\":\"092\",\"name\":\"지디넷코리아\",\"logoLight\":{\"url\":\"https://s.pstatic.net/static/newsstand/up/2022/0905/nsd131925414.png\"},\"logoDark\":{\"url\":\"https://s.pstatic.net/static/newsstand/up/2022/0905/nsd91639628.png\"},\"showThumbnailView\":true,\"showListView\":true,\"regDate\":\"20231218 14:11:27\",\"_id\":null,\"@type\":\"PC-NEWSSTAND-PRESS-BLOCK\",\"@code\":null,\"@template\":\"NONE\",\"@flowId\":null,\"@flowExecutionId\":null,\"@provider\":null,\"@lastModifiedAt\":null},{\"@type\":\"PC-NEWSSTAND-PRESS-BLOCK\",\"blocks\":null,\"materials\":null,\"excludeInPaging\":false,\"positionForPaging\":0,\"realtime\":false,\"pid\":\"094\",\"name\":\"월간 산\",\"logoLight\":{\"url\":\"https://s.pstatic.net/static/newsstand/2020/logo/light/0604/094.png\"},\"logoDark\":{\"url\":\"https://s.pstatic.net/static/newsstand/2020/logo/dark/0604/094.png\"},\"showThumbnailView\":true,\"showListView\":true,\"regDate\":\"20231218 14:10:28\",\"_id\":null,\"@type\":\"PC-NEWSSTAND-PRESS-BLOCK\",\"@code\":null,\"@template\":\"NONE\",\"@flowId\":null,\"@flowExecutionId\":null,\"@provider\":null,\"@lastModifiedAt\":null},{\"@type\":\"PC-NEWSSTAND-PRESS-BLOCK\",\"blocks\":null,\"materials\":null,\"excludeInPaging\":false,\"positionForPaging\":0,\"realtime\":false,\"pid\":\"410\",\"name\":\"MK스포츠\",\"logoLight\":{\"url\":\"https://s.pstatic.net/static/newsstand/2020/logo/light/0604/410.png\"},\"logoDark\":{\"url\":\"https://s.pstatic.net/static/newsstand/2020/logo/dark/0604/410.png\"},\"showThumbnailView\":true,\"showListView\":true,\"regDate\":\"20231218 14:14:01\",\"_id\":null,\"@type\":\"PC-NEWSSTAND-PRESS-BLOCK\",\"@code\":null,\"@template\":\"NONE\",\"@flowId\":null,\"@flowExecutionId\":null,\"@provider\":null,\"@lastModifiedAt\":null},{\"@type\":\"PC-NEWSSTAND-PRESS-BLOCK\",\"blocks\":null,\"materials\":null,\"excludeInPaging\":false,\"positionForPaging\":0,\"realtime\":false,\"pid\":\"536\",\"name\":\"더팩트\",\"logoLight\":{\"url\":\"https://s.pstatic.net/static/newsstand/2020/logo/light/0604/536.png\"},\"logoDark\":{\"url\":\"https://s.pstatic.net/static/newsstand/2020/logo/dark/0604/536.png\"},\"showThumbnailView\":true,\"showListView\":true,\"regDate\":\"20231218 13:55:24\",\"_id\":null,\"@type\":\"PC-NEWSSTAND-PRESS-BLOCK\",\"@code\":null,\"@template\":\"NONE\",\"@flowId\":null,\"@flowExecutionId\":null,\"@provider\":null,\"@lastModifiedAt\":null},{\"@type\":\"PC-NEWSSTAND-PRESS-BLOCK\",\"blocks\":null,\"materials\":null,\"excludeInPaging\":false,\"positionForPaging\":0,\"realtime\":false,\"pid\":\"416\",\"name\":\"SBS연예뉴스\",\"logoLight\":{\"url\":\"https://s.pstatic.net/static/newsstand/up/2020/1228/nsd1681569.png\"},\"logoDark\":{\"url\":\"https://s.pstatic.net/static/newsstand/up/2020/1228/nsd1688305.png\"},\"showThumbnailView\":true,\"showListView\":true,\"regDate\":\"20231218 14:15:31\",\"_id\":null,\"@type\":\"PC-NEWSSTAND-PRESS-BLOCK\",\"@code\":null,\"@template\":\"NONE\",\"@flowId\":null,\"@flowExecutionId\":null,\"@provider\":null,\"@lastModifiedAt\":null},{\"@type\":\"PC-NEWSSTAND-PRESS-BLOCK\",\"blocks\":null,\"materials\":null,\"excludeInPaging\":false,\"positionForPaging\":0,\"realtime\":false,\"pid\":\"417\",\"name\":\"머니S\",\"logoLight\":{\"url\":\"https://s.pstatic.net/static/newsstand/2020/logo/light/0604/417.png\"},\"logoDark\":{\"url\":\"https://s.pstatic.net/static/newsstand/2020/logo/dark/0604/417.png\"},\"showThumbnailView\":true,\"showListView\":true,\"regDate\":\"20231218 14:10:06\",\"_id\":null,\"@type\":\"PC-NEWSSTAND-PRESS-BLOCK\",\"@code\":null,\"@template\":\"NONE\",\"@flowId\":null,\"@flowExecutionId\":null,\"@provider\":null,\"@lastModifiedAt\":null},{\"@type\":\"PC-NEWSSTAND-PRESS-BLOCK\",\"blocks\":null,\"materials\":null,\"excludeInPaging\":false,\"positionForPaging\":0,\"realtime\":false,\"pid\":\"539\",\"name\":\"위키트리\",\"logoLight\":{\"url\":\"https://s.pstatic.net/static/newsstand/2020/logo/light/0604/539.png\"},\"logoDark\":{\"url\":\"https://s.pstatic.net/static/newsstand/2020/logo/dark/0604/539.png\"},\"showThumbnailView\":true,\"showListView\":true,\"regDate\":\"20231218 14:12:24\",\"_id\":null,\"@type\":\"PC-NEWSSTAND-PRESS-BLOCK\",\"@code\":null,\"@template\":\"NONE\",\"@flowId\":null,\"@flowExecutionId\":null,\"@provider\":null,\"@lastModifiedAt\":null},{\"@type\":\"PC-NEWSSTAND-PRESS-BLOCK\",\"blocks\":null,\"materials\":null,\"excludeInPaging\":false,\"positionForPaging\":0,\"realtime\":false,\"pid\":\"421\",\"name\":\"뉴스1\",\"logoLight\":{\"url\":\"https://s.pstatic.net/static/newsstand/2020/logo/light/0604/421.png\"},\"logoDark\":{\"url\":\"https://s.pstatic.net/static/newsstand/2020/logo/dark/0604/421.png\"},\"showThumbnailView\":true,\"showListView\":true,\"regDate\":\"20231218 14:14:20\",\"_id\":null,\"@type\":\"PC-NEWSSTAND-PRESS-BLOCK\",\"@code\":null,\"@template\":\"NONE\",\"@flowId\":null,\"@flowExecutionId\":null,\"@provider\":null,\"@lastModifiedAt\":null},{\"@type\":\"PC-NEWSSTAND-PRESS-BLOCK\",\"blocks\":null,\"materials\":null,\"excludeInPaging\":false,\"positionForPaging\":0,\"realtime\":false,\"pid\":\"301\",\"name\":\"광주드림\",\"logoLight\":{\"url\":\"https://s.pstatic.net/static/newsstand/2020/logo/light/0604/301.png\"},\"logoDark\":{\"url\":\"https://s.pstatic.net/static/newsstand/2020/logo/dark/0604/301.png\"},\"showThumbnailView\":true,\"showListView\":true,\"regDate\":\"20231218 14:10:20\",\"_id\":null,\"@type\":\"PC-NEWSSTAND-PRESS-BLOCK\",\"@code\":null,\"@template\":\"NONE\",\"@flowId\":null,\"@flowExecutionId\":null,\"@provider\":null,\"@lastModifiedAt\":null},{\"@type\":\"PC-NEWSSTAND-PRESS-BLOCK\",\"blocks\":null,\"materials\":null,\"excludeInPaging\":false,\"positionForPaging\":0,\"realtime\":false,\"pid\":\"422\",\"name\":\"연합뉴스TV\",\"logoLight\":{\"url\":\"https://s.pstatic.net/static/newsstand/2020/logo/light/0604/422.png\"},\"logoDark\":{\"url\":\"https://s.pstatic.net/static/newsstand/2020/logo/dark/0604/422.png\"},\"showThumbnailView\":true,\"showListView\":true,\"regDate\":\"20231218 14:12:16\",\"_id\":null,\"@type\":\"PC-NEWSSTAND-PRESS-BLOCK\",\"@code\":null,\"@template\":\"NONE\",\"@flowId\":null,\"@flowExecutionId\":null,\"@provider\":null,\"@lastModifiedAt\":null},{\"@type\":\"PC-NEWSSTAND-PRESS-BLOCK\",\"blocks\":null,\"materials\":null,\"excludeInPaging\":false,\"positionForPaging\":0,\"realtime\":false,\"pid\":\"308\",\"name\":\"시사IN\",\"logoLight\":{\"url\":\"https://s.pstatic.net/static/newsstand/2020/logo/light/0604/308.png\"},\"logoDark\":{\"url\":\"https://s.pstatic.net/static/newsstand/2020/logo/dark/0604/308.png\"},\"showThumbnailView\":true,\"showListView\":true,\"regDate\":\"20231218 06:13:32\",\"_id\":null,\"@type\":\"PC-NEWSSTAND-PRESS-BLOCK\",\"@code\":null,\"@template\":\"NONE\",\"@flowId\":null,\"@flowExecutionId\":null,\"@provider\":null,\"@lastModifiedAt\":null},{\"@type\":\"PC-NEWSSTAND-PRESS-BLOCK\",\"blocks\":null,\"materials\":null,\"excludeInPaging\":false,\"positionForPaging\":0,\"realtime\":false,\"pid\":\"310\",\"name\":\"여성신문\",\"logoLight\":{\"url\":\"https://s.pstatic.net/static/newsstand/2020/logo/light/0604/310.png\"},\"logoDark\":{\"url\":\"https://s.pstatic.net/static/newsstand/2020/logo/dark/0604/310.png\"},\"showThumbnailView\":true,\"showListView\":true,\"regDate\":\"20231218 14:10:03\",\"_id\":null,\"@type\":\"PC-NEWSSTAND-PRESS-BLOCK\",\"@code\":null,\"@template\":\"NONE\",\"@flowId\":null,\"@flowExecutionId\":null,\"@provider\":null,\"@lastModifiedAt\":null},{\"@type\":\"PC-NEWSSTAND-PRESS-BLOCK\",\"blocks\":null,\"materials\":null,\"excludeInPaging\":false,\"positionForPaging\":0,\"realtime\":false,\"pid\":\"311\",\"name\":\"엑스포츠뉴스\",\"logoLight\":{\"url\":\"https://s.pstatic.net/static/newsstand/2020/logo/light/0604/311.png\"},\"logoDark\":{\"url\":\"https://s.pstatic.net/static/newsstand/2020/logo/dark/0604/311.png\"},\"showThumbnailView\":true,\"showListView\":true,\"regDate\":\"20231218 13:21:14\",\"_id\":null,\"@type\":\"PC-NEWSSTAND-PRESS-BLOCK\",\"@code\":null,\"@template\":\"NONE\",\"@flowId\":null,\"@flowExecutionId\":null,\"@provider\":null,\"@lastModifiedAt\":null},{\"@type\":\"PC-NEWSSTAND-PRESS-BLOCK\",\"blocks\":null,\"materials\":null,\"excludeInPaging\":false,\"positionForPaging\":0,\"realtime\":false,\"pid\":\"312\",\"name\":\"텐아시아\",\"logoLight\":{\"url\":\"https://s.pstatic.net/static/newsstand/2020/logo/light/0604/312.png\"},\"logoDark\":{\"url\":\"https://s.pstatic.net/static/newsstand/2020/logo/dark/0604/312.png\"},\"showThumbnailView\":true,\"showListView\":true,\"regDate\":\"20231218 08:59:29\",\"_id\":null,\"@type\":\"PC-NEWSSTAND-PRESS-BLOCK\",\"@code\":null,\"@template\":\"NONE\",\"@flowId\":null,\"@flowExecutionId\":null,\"@provider\":null,\"@lastModifiedAt\":null},{\"@type\":\"PC-NEWSSTAND-PRESS-BLOCK\",\"blocks\":null,\"materials\":null,\"excludeInPaging\":false,\"positionForPaging\":0,\"realtime\":false,\"pid\":\"314\",\"name\":\"스포츠동아\",\"logoLight\":{\"url\":\"https://s.pstatic.net/static/newsstand/2020/logo/light/0604/314.png\"},\"logoDark\":{\"url\":\"https://s.pstatic.net/static/newsstand/2020/logo/dark/0604/314.png\"},\"showThumbnailView\":true,\"showListView\":true,\"regDate\":\"20231218 11:51:05\",\"_id\":null,\"@type\":\"PC-NEWSSTAND-PRESS-BLOCK\",\"@code\":null,\"@template\":\"NONE\",\"@flowId\":null,\"@flowExecutionId\":null,\"@provider\":null,\"@lastModifiedAt\":null},{\"@type\":\"PC-NEWSSTAND-PRESS-BLOCK\",\"blocks\":null,\"materials\":null,\"excludeInPaging\":false,\"positionForPaging\":0,\"realtime\":false,\"pid\":\"681\",\"name\":\"이코노타임즈\",\"logoLight\":{\"url\":\"https://s.pstatic.net/static/newsstand/up/2022/0615/nsd7251644.png\"},\"logoDark\":{\"url\":\"https://s.pstatic.net/static/newsstand/up/2022/0615/nsd7244919.png\"},\"showThumbnailView\":true,\"showListView\":true,\"regDate\":\"20231218 11:35:22\",\"_id\":null,\"@type\":\"PC-NEWSSTAND-PRESS-BLOCK\",\"@code\":null,\"@template\":\"NONE\",\"@flowId\":null,\"@flowExecutionId\":null,\"@provider\":null,\"@lastModifiedAt\":null},{\"@type\":\"PC-NEWSSTAND-PRESS-BLOCK\",\"blocks\":null,\"materials\":null,\"excludeInPaging\":false,\"positionForPaging\":0,\"realtime\":false,\"pid\":\"440\",\"name\":\"티브이데일리\",\"logoLight\":{\"url\":\"https://s.pstatic.net/static/newsstand/2020/logo/light/0604/440.png\"},\"logoDark\":{\"url\":\"https://s.pstatic.net/static/newsstand/2020/logo/dark/0604/440.png\"},\"showThumbnailView\":true,\"showListView\":true,\"regDate\":\"20231218 14:10:01\",\"_id\":null,\"@type\":\"PC-NEWSSTAND-PRESS-BLOCK\",\"@code\":null,\"@template\":\"NONE\",\"@flowId\":null,\"@flowExecutionId\":null,\"@provider\":null,\"@lastModifiedAt\":null},{\"@type\":\"PC-NEWSSTAND-PRESS-BLOCK\",\"blocks\":null,\"materials\":null,\"excludeInPaging\":false,\"positionForPaging\":0,\"realtime\":false,\"pid\":\"682\",\"name\":\"여성경제신문\",\"logoLight\":{\"url\":\"https://s.pstatic.net/static/newsstand/up/2022/1018/nsd132851977.png\"},\"logoDark\":{\"url\":\"https://s.pstatic.net/static/newsstand/up/2022/1018/nsd132844419.png\"},\"showThumbnailView\":true,\"showListView\":true,\"regDate\":\"20231218 14:00:28\",\"_id\":null,\"@type\":\"PC-NEWSSTAND-PRESS-BLOCK\",\"@code\":null,\"@template\":\"NONE\",\"@flowId\":null,\"@flowExecutionId\":null,\"@provider\":null,\"@lastModifiedAt\":null},{\"@type\":\"PC-NEWSSTAND-PRESS-BLOCK\",\"blocks\":null,\"materials\":null,\"excludeInPaging\":false,\"positionForPaging\":0,\"realtime\":false,\"pid\":\"683\",\"name\":\"MS투데이\",\"logoLight\":{\"url\":\"https://s.pstatic.net/static/newsstand/up/2022/1017/nsd202940832.png\"},\"logoDark\":{\"url\":\"https://s.pstatic.net/static/newsstand/up/2022/1017/nsd202933363.png\"},\"showThumbnailView\":true,\"showListView\":true,\"regDate\":\"20231218 14:10:31\",\"_id\":null,\"@type\":\"PC-NEWSSTAND-PRESS-BLOCK\",\"@code\":null,\"@template\":\"NONE\",\"@flowId\":null,\"@flowExecutionId\":null,\"@provider\":null,\"@lastModifiedAt\":null},{\"@type\":\"PC-NEWSSTAND-PRESS-BLOCK\",\"blocks\":null,\"materials\":null,\"excludeInPaging\":false,\"positionForPaging\":0,\"realtime\":false,\"pid\":\"684\",\"name\":\"TJB대전방송\",\"logoLight\":{\"url\":\"https://s.pstatic.net/static/newsstand/up/2023/0103/nsd95227559.png\"},\"logoDark\":{\"url\":\"https://s.pstatic.net/static/newsstand/up/2023/0103/nsd9522095.png\"},\"showThumbnailView\":true,\"showListView\":true,\"regDate\":\"20231218 08:00:01\",\"_id\":null,\"@type\":\"PC-NEWSSTAND-PRESS-BLOCK\",\"@code\":null,\"@template\":\"NONE\",\"@flowId\":null,\"@flowExecutionId\":null,\"@provider\":null,\"@lastModifiedAt\":null},{\"@type\":\"PC-NEWSSTAND-PRESS-BLOCK\",\"blocks\":null,\"materials\":null,\"excludeInPaging\":false,\"positionForPaging\":0,\"realtime\":false,\"pid\":\"685\",\"name\":\"서울와이어\",\"logoLight\":{\"url\":\"https://s.pstatic.net/static/newsstand/up/2022/1024/nsd174430433.png\"},\"logoDark\":{\"url\":\"https://s.pstatic.net/static/newsstand/up/2022/1024/nsd174424325.png\"},\"showThumbnailView\":true,\"showListView\":true,\"regDate\":\"20231218 14:10:30\",\"_id\":null,\"@type\":\"PC-NEWSSTAND-PRESS-BLOCK\",\"@code\":null,\"@template\":\"NONE\",\"@flowId\":null,\"@flowExecutionId\":null,\"@provider\":null,\"@lastModifiedAt\":null},{\"@type\":\"PC-NEWSSTAND-PRESS-BLOCK\",\"blocks\":null,\"materials\":null,\"excludeInPaging\":false,\"positionForPaging\":0,\"realtime\":false,\"pid\":\"686\",\"name\":\"주간경향\",\"logoLight\":{\"url\":\"https://s.pstatic.net/static/newsstand/up/2022/1007/nsd161849944.png\"},\"logoDark\":{\"url\":\"https://s.pstatic.net/static/newsstand/up/2022/1007/nsd161842489.png\"},\"showThumbnailView\":true,\"showListView\":true,\"regDate\":\"20231218 07:20:27\",\"_id\":null,\"@type\":\"PC-NEWSSTAND-PRESS-BLOCK\",\"@code\":null,\"@template\":\"NONE\",\"@flowId\":null,\"@flowExecutionId\":null,\"@provider\":null,\"@lastModifiedAt\":null},{\"@type\":\"PC-NEWSSTAND-PRESS-BLOCK\",\"blocks\":null,\"materials\":null,\"excludeInPaging\":false,\"positionForPaging\":0,\"realtime\":false,\"pid\":\"687\",\"name\":\"뉴스클레임\",\"logoLight\":{\"url\":\"https://s.pstatic.net/static/newsstand/up/2022/1006/nsd205818702.png\"},\"logoDark\":{\"url\":\"https://s.pstatic.net/static/newsstand/up/2022/1006/nsd205810265.png\"},\"showThumbnailView\":true,\"showListView\":true,\"regDate\":\"20231218 14:10:29\",\"_id\":null,\"@type\":\"PC-NEWSSTAND-PRESS-BLOCK\",\"@code\":null,\"@template\":\"NONE\",\"@flowId\":null,\"@flowExecutionId\":null,\"@provider\":null,\"@lastModifiedAt\":null},{\"@type\":\"PC-NEWSSTAND-PRESS-BLOCK\",\"blocks\":null,\"materials\":null,\"excludeInPaging\":false,\"positionForPaging\":0,\"realtime\":false,\"pid\":\"688\",\"name\":\"경기신문\",\"logoLight\":{\"url\":\"https://s.pstatic.net/static/newsstand/up/2022/1017/nsd202616515.png\"},\"logoDark\":{\"url\":\"https://s.pstatic.net/static/newsstand/up/2022/1017/nsd20268714.png\"},\"showThumbnailView\":true,\"showListView\":true,\"regDate\":\"20231218 14:10:02\",\"_id\":null,\"@type\":\"PC-NEWSSTAND-PRESS-BLOCK\",\"@code\":null,\"@template\":\"NONE\",\"@flowId\":null,\"@flowExecutionId\":null,\"@provider\":null,\"@lastModifiedAt\":null},{\"@type\":\"PC-NEWSSTAND-PRESS-BLOCK\",\"blocks\":null,\"materials\":null,\"excludeInPaging\":false,\"positionForPaging\":0,\"realtime\":false,\"pid\":\"326\",\"name\":\"KBS World\",\"logoLight\":{\"url\":\"https://s.pstatic.net/static/newsstand/2020/logo/light/0604/326.png\"},\"logoDark\":{\"url\":\"https://s.pstatic.net/static/newsstand/2020/logo/dark/0604/326.png\"},\"showThumbnailView\":true,\"showListView\":true,\"regDate\":\"20231213 09:48:19\",\"_id\":null,\"@type\":\"PC-NEWSSTAND-PRESS-BLOCK\",\"@code\":null,\"@template\":\"NONE\",\"@flowId\":null,\"@flowExecutionId\":null,\"@provider\":null,\"@lastModifiedAt\":null},{\"@type\":\"PC-NEWSSTAND-PRESS-BLOCK\",\"blocks\":null,\"materials\":null,\"excludeInPaging\":false,\"positionForPaging\":0,\"realtime\":false,\"pid\":\"447\",\"name\":\"뉴스엔\",\"logoLight\":{\"url\":\"https://s.pstatic.net/static/newsstand/2020/logo/light/0604/447.png\"},\"logoDark\":{\"url\":\"https://s.pstatic.net/static/newsstand/2020/logo/dark/0604/447.png\"},\"showThumbnailView\":true,\"showListView\":true,\"regDate\":\"20231218 13:16:26\",\"_id\":null,\"@type\":\"PC-NEWSSTAND-PRESS-BLOCK\",\"@code\":null,\"@template\":\"NONE\",\"@flowId\":null,\"@flowExecutionId\":null,\"@provider\":null,\"@lastModifiedAt\":null},{\"@type\":\"PC-NEWSSTAND-PRESS-BLOCK\",\"blocks\":null,\"materials\":null,\"excludeInPaging\":false,\"positionForPaging\":0,\"realtime\":false,\"pid\":\"689\",\"name\":\"인천투데이\",\"logoLight\":{\"url\":\"https://s.pstatic.net/static/newsstand/up/2022/1107/nsd1054226.png\"},\"logoDark\":{\"url\":\"https://s.pstatic.net/static/newsstand/up/2022/1107/nsd105354391.png\"},\"showThumbnailView\":true,\"showListView\":true,\"regDate\":\"20231218 14:00:27\",\"_id\":null,\"@type\":\"PC-NEWSSTAND-PRESS-BLOCK\",\"@code\":null,\"@template\":\"NONE\",\"@flowId\":null,\"@flowExecutionId\":null,\"@provider\":null,\"@lastModifiedAt\":null},{\"@type\":\"PC-NEWSSTAND-PRESS-BLOCK\",\"blocks\":null,\"materials\":null,\"excludeInPaging\":false,\"positionForPaging\":0,\"realtime\":false,\"pid\":\"327\",\"name\":\"뉴데일리\",\"logoLight\":{\"url\":\"https://s.pstatic.net/static/newsstand/2020/logo/light/0604/327.png\"},\"logoDark\":{\"url\":\"https://s.pstatic.net/static/newsstand/2020/logo/dark/0604/327.png\"},\"showThumbnailView\":true,\"showListView\":true,\"regDate\":\"20231218 14:10:38\",\"_id\":null,\"@type\":\"PC-NEWSSTAND-PRESS-BLOCK\",\"@code\":null,\"@template\":\"NONE\",\"@flowId\":null,\"@flowExecutionId\":null,\"@provider\":null,\"@lastModifiedAt\":null},{\"@type\":\"PC-NEWSSTAND-PRESS-BLOCK\",\"blocks\":null,\"materials\":null,\"excludeInPaging\":false,\"positionForPaging\":0,\"realtime\":false,\"pid\":\"328\",\"name\":\"에이블뉴스\",\"logoLight\":{\"url\":\"https://s.pstatic.net/static/newsstand/2020/logo/light/0604/328.png\"},\"logoDark\":{\"url\":\"https://s.pstatic.net/static/newsstand/2020/logo/dark/0604/328.png\"},\"showThumbnailView\":true,\"showListView\":true,\"regDate\":\"20231218 14:10:31\",\"_id\":null,\"@type\":\"PC-NEWSSTAND-PRESS-BLOCK\",\"@code\":null,\"@template\":\"NONE\",\"@flowId\":null,\"@flowExecutionId\":null,\"@provider\":null,\"@lastModifiedAt\":null},{\"@type\":\"PC-NEWSSTAND-PRESS-BLOCK\",\"blocks\":null,\"materials\":null,\"excludeInPaging\":false,\"positionForPaging\":0,\"realtime\":false,\"pid\":\"329\",\"name\":\"소년한국일보\",\"logoLight\":{\"url\":\"https://s.pstatic.net/static/newsstand/up/2021/0728/nsd1110888.png\"},\"logoDark\":{\"url\":\"https://s.pstatic.net/static/newsstand/up/2021/0728/nsd111059924.png\"},\"showThumbnailView\":true,\"showListView\":true,\"regDate\":\"20231218 14:10:23\",\"_id\":null,\"@type\":\"PC-NEWSSTAND-PRESS-BLOCK\",\"@code\":null,\"@template\":\"NONE\",\"@flowId\":null,\"@flowExecutionId\":null,\"@provider\":null,\"@lastModifiedAt\":null},{\"@type\":\"PC-NEWSSTAND-PRESS-BLOCK\",\"blocks\":null,\"materials\":null,\"excludeInPaging\":false,\"positionForPaging\":0,\"realtime\":false,\"pid\":\"690\",\"name\":\"정책브리핑\",\"logoLight\":{\"url\":\"https://s.pstatic.net/static/newsstand/up/2022/1116/nsd113848865.png\"},\"logoDark\":{\"url\":\"https://s.pstatic.net/static/newsstand/up/2022/1116/nsd113840778.png\"},\"showThumbnailView\":true,\"showListView\":true,\"regDate\":\"20231218 13:42:00\",\"_id\":null,\"@type\":\"PC-NEWSSTAND-PRESS-BLOCK\",\"@code\":null,\"@template\":\"NONE\",\"@flowId\":null,\"@flowExecutionId\":null,\"@provider\":null,\"@lastModifiedAt\":null},{\"@type\":\"PC-NEWSSTAND-PRESS-BLOCK\",\"blocks\":null,\"materials\":null,\"excludeInPaging\":false,\"positionForPaging\":0,\"realtime\":false,\"pid\":\"691\",\"name\":\"여성동아\",\"logoLight\":{\"url\":\"https://s.pstatic.net/static/newsstand/up/2023/0418/nsd124451202.png\"},\"logoDark\":{\"url\":\"https://s.pstatic.net/static/newsstand/up/2023/0418/nsd124439166.png\"},\"showThumbnailView\":true,\"showListView\":true,\"regDate\":\"20231218 09:11:23\",\"_id\":null,\"@type\":\"PC-NEWSSTAND-PRESS-BLOCK\",\"@code\":null,\"@template\":\"NONE\",\"@flowId\":null,\"@flowExecutionId\":null,\"@provider\":null,\"@lastModifiedAt\":null},{\"@type\":\"PC-NEWSSTAND-PRESS-BLOCK\",\"blocks\":null,\"materials\":null,\"excludeInPaging\":false,\"positionForPaging\":0,\"realtime\":false,\"pid\":\"330\",\"name\":\"중앙데일리\",\"logoLight\":{\"url\":\"https://s.pstatic.net/static/newsstand/2020/logo/light/0604/330.png\"},\"logoDark\":{\"url\":\"https://s.pstatic.net/static/newsstand/2020/logo/dark/0604/330.png\"},\"showThumbnailView\":true,\"showListView\":true,\"regDate\":\"20231218 12:58:30\",\"_id\":null,\"@type\":\"PC-NEWSSTAND-PRESS-BLOCK\",\"@code\":null,\"@template\":\"NONE\",\"@flowId\":null,\"@flowExecutionId\":null,\"@provider\":null,\"@lastModifiedAt\":null},{\"@type\":\"PC-NEWSSTAND-PRESS-BLOCK\",\"blocks\":null,\"materials\":null,\"excludeInPaging\":false,\"positionForPaging\":0,\"realtime\":false,\"pid\":\"331\",\"name\":\"충청투데이\",\"logoLight\":{\"url\":\"https://s.pstatic.net/static/newsstand/2020/logo/light/0604/331.png\"},\"logoDark\":{\"url\":\"https://s.pstatic.net/static/newsstand/2020/logo/dark/0604/331.png\"},\"showThumbnailView\":true,\"showListView\":true,\"regDate\":\"20231217 18:03:50\",\"_id\":null,\"@type\":\"PC-NEWSSTAND-PRESS-BLOCK\",\"@code\":null,\"@template\":\"NONE\",\"@flowId\":null,\"@flowExecutionId\":null,\"@provider\":null,\"@lastModifiedAt\":null},{\"@type\":\"PC-NEWSSTAND-PRESS-BLOCK\",\"blocks\":null,\"materials\":null,\"excludeInPaging\":false,\"positionForPaging\":0,\"realtime\":false,\"pid\":\"332\",\"name\":\"국제신문\",\"logoLight\":{\"url\":\"https://s.pstatic.net/static/newsstand/2020/logo/light/0604/332.png\"},\"logoDark\":{\"url\":\"https://s.pstatic.net/static/newsstand/2020/logo/dark/0604/332.png\"},\"showThumbnailView\":true,\"showListView\":true,\"regDate\":\"20231218 09:18:57\",\"_id\":null,\"@type\":\"PC-NEWSSTAND-PRESS-BLOCK\",\"@code\":null,\"@template\":\"NONE\",\"@flowId\":null,\"@flowExecutionId\":null,\"@provider\":null,\"@lastModifiedAt\":null},{\"@type\":\"PC-NEWSSTAND-PRESS-BLOCK\",\"blocks\":null,\"materials\":null,\"excludeInPaging\":false,\"positionForPaging\":0,\"realtime\":false,\"pid\":\"333\",\"name\":\"경남신문\",\"logoLight\":{\"url\":\"https://s.pstatic.net/static/newsstand/2020/logo/light/0604/333.png\"},\"logoDark\":{\"url\":\"https://s.pstatic.net/static/newsstand/2020/logo/dark/0604/333.png\"},\"showThumbnailView\":true,\"showListView\":true,\"regDate\":\"20231218 14:01:03\",\"_id\":null,\"@type\":\"PC-NEWSSTAND-PRESS-BLOCK\",\"@code\":null,\"@template\":\"NONE\",\"@flowId\":null,\"@flowExecutionId\":null,\"@provider\":null,\"@lastModifiedAt\":null},{\"@type\":\"PC-NEWSSTAND-PRESS-BLOCK\",\"blocks\":null,\"materials\":null,\"excludeInPaging\":false,\"positionForPaging\":0,\"realtime\":false,\"pid\":\"213\",\"name\":\"TV리포트\",\"logoLight\":{\"url\":\"https://s.pstatic.net/static/newsstand/up/2023/0714/nsd125517690.png\"},\"logoDark\":{\"url\":\"https://s.pstatic.net/static/newsstand/up/2023/0714/nsd125510155.png\"},\"showThumbnailView\":true,\"showListView\":true,\"regDate\":\"20231218 11:58:35\",\"_id\":null,\"@type\":\"PC-NEWSSTAND-PRESS-BLOCK\",\"@code\":null,\"@template\":\"NONE\",\"@flowId\":null,\"@flowExecutionId\":null,\"@provider\":null,\"@lastModifiedAt\":null},{\"@type\":\"PC-NEWSSTAND-PRESS-BLOCK\",\"blocks\":null,\"materials\":null,\"excludeInPaging\":false,\"positionForPaging\":0,\"realtime\":false,\"pid\":\"334\",\"name\":\"제주의소리\",\"logoLight\":{\"url\":\"https://s.pstatic.net/static/newsstand/2020/logo/light/0604/334.png\"},\"logoDark\":{\"url\":\"https://s.pstatic.net/static/newsstand/2020/logo/dark/0604/334.png\"},\"showThumbnailView\":true,\"showListView\":true,\"regDate\":\"20231218 09:15:05\",\"_id\":null,\"@type\":\"PC-NEWSSTAND-PRESS-BLOCK\",\"@code\":null,\"@template\":\"NONE\",\"@flowId\":null,\"@flowExecutionId\":null,\"@provider\":null,\"@lastModifiedAt\":null},{\"@type\":\"PC-NEWSSTAND-PRESS-BLOCK\",\"blocks\":null,\"materials\":null,\"excludeInPaging\":false,\"positionForPaging\":0,\"realtime\":false,\"pid\":\"214\",\"name\":\"MBC\",\"logoLight\":{\"url\":\"https://s.pstatic.net/static/newsstand/2020/logo/light/0604/214.png\"},\"logoDark\":{\"url\":\"https://s.pstatic.net/static/newsstand/2020/logo/dark/0604/214.png\"},\"showThumbnailView\":true,\"showListView\":true,\"regDate\":\"20231218 13:52:40\",\"_id\":null,\"@type\":\"PC-NEWSSTAND-PRESS-BLOCK\",\"@code\":null,\"@template\":\"NONE\",\"@flowId\":null,\"@flowExecutionId\":null,\"@provider\":null,\"@lastModifiedAt\":null},{\"@type\":\"PC-NEWSSTAND-PRESS-BLOCK\",\"blocks\":null,\"materials\":null,\"excludeInPaging\":false,\"positionForPaging\":0,\"realtime\":false,\"pid\":\"335\",\"name\":\"강원도민일보\",\"logoLight\":{\"url\":\"https://s.pstatic.net/static/newsstand/2020/logo/light/0604/335.png\"},\"logoDark\":{\"url\":\"https://s.pstatic.net/static/newsstand/2020/logo/dark/0604/335.png\"},\"showThumbnailView\":true,\"showListView\":true,\"regDate\":\"20231218 11:14:36\",\"_id\":null,\"@type\":\"PC-NEWSSTAND-PRESS-BLOCK\",\"@code\":null,\"@template\":\"NONE\",\"@flowId\":null,\"@flowExecutionId\":null,\"@provider\":null,\"@lastModifiedAt\":null},{\"@type\":\"PC-NEWSSTAND-PRESS-BLOCK\",\"blocks\":null,\"materials\":null,\"excludeInPaging\":false,\"positionForPaging\":0,\"realtime\":false,\"pid\":\"215\",\"name\":\"한국경제TV\",\"logoLight\":{\"url\":\"https://s.pstatic.net/static/newsstand/2020/logo/light/0604/215.png\"},\"logoDark\":{\"url\":\"https://s.pstatic.net/static/newsstand/2020/logo/dark/0604/215.png\"},\"showThumbnailView\":true,\"showListView\":true,\"regDate\":\"20231218 14:11:59\",\"_id\":null,\"@type\":\"PC-NEWSSTAND-PRESS-BLOCK\",\"@code\":null,\"@template\":\"NONE\",\"@flowId\":null,\"@flowExecutionId\":null,\"@provider\":null,\"@lastModifiedAt\":null},{\"@type\":\"PC-NEWSSTAND-PRESS-BLOCK\",\"blocks\":null,\"materials\":null,\"excludeInPaging\":false,\"positionForPaging\":0,\"realtime\":false,\"pid\":\"336\",\"name\":\"전북일보\",\"logoLight\":{\"url\":\"https://s.pstatic.net/static/newsstand/2020/logo/light/0604/336.png\"},\"logoDark\":{\"url\":\"https://s.pstatic.net/static/newsstand/2020/logo/dark/0604/336.png\"},\"showThumbnailView\":true,\"showListView\":true,\"regDate\":\"20231218 12:59:09\",\"_id\":null,\"@type\":\"PC-NEWSSTAND-PRESS-BLOCK\",\"@code\":null,\"@template\":\"NONE\",\"@flowId\":null,\"@flowExecutionId\":null,\"@provider\":null,\"@lastModifiedAt\":null},{\"@type\":\"PC-NEWSSTAND-PRESS-BLOCK\",\"blocks\":null,\"materials\":null,\"excludeInPaging\":false,\"positionForPaging\":0,\"realtime\":false,\"pid\":\"337\",\"name\":\"경북일보\",\"logoLight\":{\"url\":\"https://s.pstatic.net/static/newsstand/2020/logo/light/0604/337.png\"},\"logoDark\":{\"url\":\"https://s.pstatic.net/static/newsstand/2020/logo/dark/0604/337.png\"},\"showThumbnailView\":true,\"showListView\":true,\"regDate\":\"20231217 23:12:23\",\"_id\":null,\"@type\":\"PC-NEWSSTAND-PRESS-BLOCK\",\"@code\":null,\"@template\":\"NONE\",\"@flowId\":null,\"@flowExecutionId\":null,\"@provider\":null,\"@lastModifiedAt\":null},{\"@type\":\"PC-NEWSSTAND-PRESS-BLOCK\",\"blocks\":null,\"materials\":null,\"excludeInPaging\":false,\"positionForPaging\":0,\"realtime\":false,\"pid\":\"338\",\"name\":\"경인일보\",\"logoLight\":{\"url\":\"https://s.pstatic.net/static/newsstand/2020/logo/light/0604/338.png\"},\"logoDark\":{\"url\":\"https://s.pstatic.net/static/newsstand/2020/logo/dark/0604/338.png\"},\"showThumbnailView\":true,\"showListView\":true,\"regDate\":\"20231218 13:48:31\",\"_id\":null,\"@type\":\"PC-NEWSSTAND-PRESS-BLOCK\",\"@code\":null,\"@template\":\"NONE\",\"@flowId\":null,\"@flowExecutionId\":null,\"@provider\":null,\"@lastModifiedAt\":null},{\"@type\":\"PC-NEWSSTAND-PRESS-BLOCK\",\"blocks\":null,\"materials\":null,\"excludeInPaging\":false,\"positionForPaging\":0,\"realtime\":false,\"pid\":\"339\",\"name\":\"경기일보\",\"logoLight\":{\"url\":\"https://s.pstatic.net/static/newsstand/2020/logo/light/0604/339.png\"},\"logoDark\":{\"url\":\"https://s.pstatic.net/static/newsstand/2020/logo/dark/0604/339.png\"},\"showThumbnailView\":true,\"showListView\":true,\"regDate\":\"20231218 13:46:04\",\"_id\":null,\"@type\":\"PC-NEWSSTAND-PRESS-BLOCK\",\"@code\":null,\"@template\":\"NONE\",\"@flowId\":null,\"@flowExecutionId\":null,\"@provider\":null,\"@lastModifiedAt\":null},{\"@type\":\"PC-NEWSSTAND-PRESS-BLOCK\",\"blocks\":null,\"materials\":null,\"excludeInPaging\":false,\"positionForPaging\":0,\"realtime\":false,\"pid\":\"340\",\"name\":\"OBS\",\"logoLight\":{\"url\":\"https://s.pstatic.net/static/newsstand/2020/logo/light/0604/340.png\"},\"logoDark\":{\"url\":\"https://s.pstatic.net/static/newsstand/2020/logo/dark/0604/340.png\"},\"showThumbnailView\":true,\"showListView\":true,\"regDate\":\"20231218 13:44:00\",\"_id\":null,\"@type\":\"PC-NEWSSTAND-PRESS-BLOCK\",\"@code\":null,\"@template\":\"NONE\",\"@flowId\":null,\"@flowExecutionId\":null,\"@provider\":null,\"@lastModifiedAt\":null},{\"@type\":\"PC-NEWSSTAND-PRESS-BLOCK\",\"blocks\":null,\"materials\":null,\"excludeInPaging\":false,\"positionForPaging\":0,\"realtime\":false,\"pid\":\"344\",\"name\":\"EBS\",\"logoLight\":{\"url\":\"https://s.pstatic.net/static/newsstand/up/2020/0803/nsd20247547.png\"},\"logoDark\":{\"url\":\"https://s.pstatic.net/static/newsstand/up/2020/0803/nsd202358800.png\"},\"showThumbnailView\":true,\"showListView\":true,\"regDate\":\"20231218 14:09:59\",\"_id\":null,\"@type\":\"PC-NEWSSTAND-PRESS-BLOCK\",\"@code\":null,\"@template\":\"NONE\",\"@flowId\":null,\"@flowExecutionId\":null,\"@provider\":null,\"@lastModifiedAt\":null},{\"@type\":\"PC-NEWSSTAND-PRESS-BLOCK\",\"blocks\":null,\"materials\":null,\"excludeInPaging\":false,\"positionForPaging\":0,\"realtime\":false,\"pid\":\"345\",\"name\":\"디자인정글\",\"logoLight\":{\"url\":\"https://s.pstatic.net/static/newsstand/2020/logo/light/0604/345.png\"},\"logoDark\":{\"url\":\"https://s.pstatic.net/static/newsstand/2020/logo/dark/0604/345.png\"},\"showThumbnailView\":true,\"showListView\":true,\"regDate\":\"20231216 14:46:39\",\"_id\":null,\"@type\":\"PC-NEWSSTAND-PRESS-BLOCK\",\"@code\":null,\"@template\":\"NONE\",\"@flowId\":null,\"@flowExecutionId\":null,\"@provider\":null,\"@lastModifiedAt\":null},{\"@type\":\"PC-NEWSSTAND-PRESS-BLOCK\",\"blocks\":null,\"materials\":null,\"excludeInPaging\":false,\"positionForPaging\":0,\"realtime\":false,\"pid\":\"346\",\"name\":\"헬스조선\",\"logoLight\":{\"url\":\"https://s.pstatic.net/static/newsstand/2020/logo/light/0604/346.png\"},\"logoDark\":{\"url\":\"https://s.pstatic.net/static/newsstand/2020/logo/dark/0604/346.png\"},\"showThumbnailView\":true,\"showListView\":true,\"regDate\":\"20231218 14:13:03\",\"_id\":null,\"@type\":\"PC-NEWSSTAND-PRESS-BLOCK\",\"@code\":null,\"@template\":\"NONE\",\"@flowId\":null,\"@flowExecutionId\":null,\"@provider\":null,\"@lastModifiedAt\":null},{\"@type\":\"PC-NEWSSTAND-PRESS-BLOCK\",\"blocks\":null,\"materials\":null,\"excludeInPaging\":false,\"positionForPaging\":0,\"realtime\":false,\"pid\":\"108\",\"name\":\"스타뉴스\",\"logoLight\":{\"url\":\"https://s.pstatic.net/static/newsstand/2020/logo/light/0604/108.png\"},\"logoDark\":{\"url\":\"https://s.pstatic.net/static/newsstand/2020/logo/dark/0604/108.png\"},\"showThumbnailView\":true,\"showListView\":true,\"regDate\":\"20231218 14:15:07\",\"_id\":null,\"@type\":\"PC-NEWSSTAND-PRESS-BLOCK\",\"@code\":null,\"@template\":\"NONE\",\"@flowId\":null,\"@flowExecutionId\":null,\"@provider\":null,\"@lastModifiedAt\":null},{\"@type\":\"PC-NEWSSTAND-PRESS-BLOCK\",\"blocks\":null,\"materials\":null,\"excludeInPaging\":false,\"positionForPaging\":0,\"realtime\":false,\"pid\":\"109\",\"name\":\"OSEN\",\"logoLight\":{\"url\":\"https://s.pstatic.net/static/newsstand/up/2020/0610/nsd151458769.png\"},\"logoDark\":{\"url\":\"https://s.pstatic.net/static/newsstand/up/2020/0610/nsd151458769.png\"},\"showThumbnailView\":true,\"showListView\":true,\"regDate\":\"20231218 07:44:38\",\"_id\":null,\"@type\":\"PC-NEWSSTAND-PRESS-BLOCK\",\"@code\":null,\"@template\":\"NONE\",\"@flowId\":null,\"@flowExecutionId\":null,\"@provider\":null,\"@lastModifiedAt\":null},{\"@type\":\"PC-NEWSSTAND-PRESS-BLOCK\",\"blocks\":null,\"materials\":null,\"excludeInPaging\":false,\"positionForPaging\":0,\"realtime\":false,\"pid\":\"901\",\"name\":\"제민일보\",\"logoLight\":{\"url\":\"https://s.pstatic.net/static/newsstand/up/2020/1119/nsd213345745.png\"},\"logoDark\":{\"url\":\"https://s.pstatic.net/static/newsstand/up/2020/1119/nsd213339585.png\"},\"showThumbnailView\":true,\"showListView\":true,\"regDate\":\"20231217 18:45:14\",\"_id\":null,\"@type\":\"PC-NEWSSTAND-PRESS-BLOCK\",\"@code\":null,\"@template\":\"NONE\",\"@flowId\":null,\"@flowExecutionId\":null,\"@provider\":null,\"@lastModifiedAt\":null},{\"@type\":\"PC-NEWSSTAND-PRESS-BLOCK\",\"blocks\":null,\"materials\":null,\"excludeInPaging\":false,\"positionForPaging\":0,\"realtime\":false,\"pid\":\"902\",\"name\":\"TV조선\",\"logoLight\":{\"url\":\"https://s.pstatic.net/static/newsstand/2020/logo/light/0604/902.png\"},\"logoDark\":{\"url\":\"https://s.pstatic.net/static/newsstand/2020/logo/dark/0604/902.png\"},\"showThumbnailView\":true,\"showListView\":true,\"regDate\":\"20231218 13:50:43\",\"_id\":null,\"@type\":\"PC-NEWSSTAND-PRESS-BLOCK\",\"@code\":null,\"@template\":\"NONE\",\"@flowId\":null,\"@flowExecutionId\":null,\"@provider\":null,\"@lastModifiedAt\":null},{\"@type\":\"PC-NEWSSTAND-PRESS-BLOCK\",\"blocks\":null,\"materials\":null,\"excludeInPaging\":false,\"positionForPaging\":0,\"realtime\":false,\"pid\":\"903\",\"name\":\"채널A\",\"logoLight\":{\"url\":\"https://s.pstatic.net/static/newsstand/2020/logo/light/0604/903.png\"},\"logoDark\":{\"url\":\"https://s.pstatic.net/static/newsstand/2020/logo/dark/0604/903.png\"},\"showThumbnailView\":true,\"showListView\":true,\"regDate\":\"20231218 13:38:17\",\"_id\":null,\"@type\":\"PC-NEWSSTAND-PRESS-BLOCK\",\"@code\":null,\"@template\":\"NONE\",\"@flowId\":null,\"@flowExecutionId\":null,\"@provider\":null,\"@lastModifiedAt\":null},{\"@type\":\"PC-NEWSSTAND-PRESS-BLOCK\",\"blocks\":null,\"materials\":null,\"excludeInPaging\":false,\"positionForPaging\":0,\"realtime\":false,\"pid\":\"904\",\"name\":\"JTBC\",\"logoLight\":{\"url\":\"https://s.pstatic.net/static/newsstand/2020/logo/light/0604/904.png\"},\"logoDark\":{\"url\":\"https://s.pstatic.net/static/newsstand/2020/logo/dark/0604/904.png\"},\"showThumbnailView\":true,\"showListView\":true,\"regDate\":\"20231218 14:10:00\",\"_id\":null,\"@type\":\"PC-NEWSSTAND-PRESS-BLOCK\",\"@code\":null,\"@template\":\"NONE\",\"@flowId\":null,\"@flowExecutionId\":null,\"@provider\":null,\"@lastModifiedAt\":null},{\"@type\":\"PC-NEWSSTAND-PRESS-BLOCK\",\"blocks\":null,\"materials\":null,\"excludeInPaging\":false,\"positionForPaging\":0,\"realtime\":false,\"pid\":\"905\",\"name\":\"더스쿠프\",\"logoLight\":{\"url\":\"https://s.pstatic.net/static/newsstand/2020/logo/light/0604/905.png\"},\"logoDark\":{\"url\":\"https://s.pstatic.net/static/newsstand/2020/logo/dark/0604/905.png\"},\"showThumbnailView\":true,\"showListView\":true,\"regDate\":\"20231217 20:59:52\",\"_id\":null,\"@type\":\"PC-NEWSSTAND-PRESS-BLOCK\",\"@code\":null,\"@template\":\"NONE\",\"@flowId\":null,\"@flowExecutionId\":null,\"@provider\":null,\"@lastModifiedAt\":null},{\"@type\":\"PC-NEWSSTAND-PRESS-BLOCK\",\"blocks\":null,\"materials\":null,\"excludeInPaging\":false,\"positionForPaging\":0,\"realtime\":false,\"pid\":\"906\",\"name\":\"KNN\",\"logoLight\":{\"url\":\"https://s.pstatic.net/static/newsstand/2020/logo/light/0604/906.png\"},\"logoDark\":{\"url\":\"https://s.pstatic.net/static/newsstand/2020/logo/dark/0604/906.png\"},\"showThumbnailView\":true,\"showListView\":true,\"regDate\":\"20231217 20:47:35\",\"_id\":null,\"@type\":\"PC-NEWSSTAND-PRESS-BLOCK\",\"@code\":null,\"@template\":\"NONE\",\"@flowId\":null,\"@flowExecutionId\":null,\"@provider\":null,\"@lastModifiedAt\":null}],\"materials\":null,\"excludeInPaging\":false,\"positionForPaging\":0,\"realtime\":false,\"majorPidList\":[\"032\",\"005\",\"079\",\"327\",\"930\",\"003\",\"368\",\"020\",\"029\",\"117\",\"009\",\"008\",\"021\",\"006\",\"293\",\"011\",\"081\",\"022\",\"314\",\"073\",\"076\",\"139\",\"308\",\"277\",\"031\",\"422\",\"047\",\"018\",\"241\",\"030\",\"366\",\"023\",\"330\",\"025\",\"092\",\"376\",\"044\",\"014\",\"002\",\"028\",\"015\",\"215\",\"038\",\"016\",\"904\",\"056\",\"326\",\"214\",\"057\",\"109\",\"055\",\"052\"],\"minorPidList\":[\"944\",\"687\",\"913\",\"914\",\"960\",\"536\",\"804\",\"812\",\"042\",\"969\",\"417\",\"961\",\"809\",\"814\",\"942\",\"943\",\"973\",\"685\",\"824\",\"970\",\"816\",\"957\",\"975\",\"810\",\"920\",\"921\",\"963\",\"682\",\"013\",\"801\",\"539\",\"964\",\"825\",\"243\",\"922\",\"803\",\"923\",\"971\",\"925\",\"690\",\"123\",\"353\",\"941\",\"143\",\"826\",\"822\",\"968\",\"993\",\"974\",\"932\",\"954\",\"120\",\"959\",\"972\",\"823\",\"421\",\"916\",\"903\",\"934\",\"344\",\"980\",\"906\",\"340\",\"374\",\"989\",\"981\",\"684\",\"902\",\"945\",\"910\",\"138\",\"953\",\"952\",\"977\",\"994\",\"818\",\"917\",\"681\",\"040\",\"946\",\"830\",\"447\",\"108\",\"802\",\"144\",\"396\",\"529\",\"940\",\"962\",\"477\",\"311\",\"947\",\"312\",\"440\",\"410\",\"416\",\"213\",\"356\",\"908\",\"938\",\"984\",\"911\",\"998\",\"997\",\"995\",\"905\",\"991\",\"955\",\"363\",\"345\",\"915\",\"024\",\"996\",\"075\",\"806\",\"829\",\"819\",\"815\",\"122\",\"958\",\"827\",\"355\",\"808\",\"329\",\"135\",\"828\",\"140\",\"979\",\"328\",\"354\",\"691\",\"310\",\"094\",\"820\",\"950\",\"988\",\"982\",\"813\",\"924\",\"807\",\"965\",\"966\",\"686\",\"990\",\"361\",\"956\",\"928\",\"967\",\"296\",\"986\",\"951\",\"948\",\"050\",\"805\",\"811\",\"384\",\"346\",\"364\"],\"catePidList\":{\"ct7\":[\"356\",\"908\",\"938\",\"984\",\"911\",\"998\",\"997\",\"995\",\"905\",\"991\",\"955\",\"363\",\"345\",\"915\",\"024\",\"996\",\"075\",\"806\",\"829\",\"819\",\"815\",\"122\",\"958\",\"827\",\"355\",\"808\",\"329\",\"308\",\"135\",\"828\",\"140\",\"979\",\"328\",\"354\",\"691\",\"310\",\"094\",\"820\",\"950\",\"988\",\"982\",\"813\",\"924\",\"807\",\"965\",\"966\",\"686\",\"990\",\"361\",\"956\",\"928\",\"967\",\"296\",\"986\",\"951\",\"948\",\"050\",\"805\",\"811\",\"384\",\"346\",\"364\"],\"ct8\":[\"335\",\"087\",\"688\",\"339\",\"821\",\"333\",\"978\",\"907\",\"337\",\"935\",\"338\",\"301\",\"083\",\"332\",\"909\",\"936\",\"089\",\"088\",\"976\",\"817\",\"082\",\"385\",\"387\",\"689\",\"388\",\"937\",\"336\",\"901\",\"389\",\"334\",\"983\",\"926\",\"927\",\"391\",\"331\",\"683\"],\"ct5\":[\"681\",\"330\",\"040\",\"044\",\"326\",\"946\"],\"ct6\":[\"830\",\"447\",\"117\",\"108\",\"802\",\"144\",\"314\",\"073\",\"396\",\"076\",\"529\",\"940\",\"962\",\"139\",\"477\",\"311\",\"241\",\"947\",\"312\",\"440\",\"410\",\"109\",\"416\",\"213\"],\"ct3\":[\"421\",\"003\",\"916\",\"422\",\"376\",\"903\",\"215\",\"934\",\"344\",\"904\",\"980\",\"056\",\"906\",\"214\",\"057\",\"340\",\"055\",\"374\",\"989\",\"981\",\"684\",\"902\",\"052\",\"945\"],\"ct4\":[\"910\",\"138\",\"029\",\"953\",\"952\",\"293\",\"030\",\"092\",\"977\",\"994\",\"818\",\"917\"],\"ct2\":[\"032\",\"005\",\"944\",\"079\",\"327\",\"687\",\"930\",\"913\",\"914\",\"960\",\"536\",\"804\",\"368\",\"812\",\"042\",\"020\",\"009\",\"969\",\"417\",\"008\",\"961\",\"021\",\"006\",\"809\",\"814\",\"942\",\"943\",\"973\",\"011\",\"081\",\"685\",\"824\",\"022\",\"970\",\"816\",\"957\",\"975\",\"810\",\"277\",\"920\",\"031\",\"921\",\"963\",\"682\",\"013\",\"047\",\"801\",\"539\",\"964\",\"018\",\"825\",\"243\",\"922\",\"803\",\"923\",\"971\",\"925\",\"690\",\"366\",\"023\",\"123\",\"353\",\"025\",\"941\",\"143\",\"826\",\"014\",\"822\",\"002\",\"028\",\"015\",\"968\",\"038\",\"993\",\"016\",\"974\",\"932\",\"954\",\"120\",\"959\",\"972\",\"823\"]},\"targetLocalPidList\":[\"335\",\"087\",\"688\",\"339\",\"821\",\"333\",\"978\",\"907\",\"337\",\"935\",\"338\",\"301\",\"083\",\"332\",\"909\",\"936\",\"089\",\"088\",\"976\",\"817\",\"082\",\"385\",\"387\",\"689\",\"388\",\"937\",\"336\",\"901\",\"389\",\"334\",\"983\",\"926\",\"927\",\"391\",\"331\",\"683\"],\"subsPidList\":[],\"firstPressBlock\":null,\"rcode2\":\"default\",\"rcode\":\"default\",\"_id\":null,\"@type\":\"PC-NEWSSTAND-BLOCK\",\"@code\":\"PC-NEWSSTAND\",\"@template\":\"PC-NEWSSTAND\",\"@flowId\":null,\"@flowExecutionId\":null,\"@provider\":null,\"@lastModifiedAt\":null}],\"materials\":null,\"excludeInPaging\":false,\"positionForPaging\":0,\"realtime\":false,\"_id\":null,\"@type\":\"BLOCK\",\"@code\":\"PC-MEDIA-NEWSSTAND\",\"@template\":\"NONE\",\"@flowId\":null,\"@flowExecutionId\":null,\"@provider\":null,\"@lastModifiedAt\":null}],\"materials\":null,\"excludeInPaging\":false,\"positionForPaging\":0,\"realtime\":false,\"sportsLive\":false,\"_id\":\"643e68a5a10d3006855e268d\",\"@type\":\"PC-MEDIA-CONTENTS-BLOCK\",\"@code\":\"PC-MEDIA-WRAPPER\",\"@template\":\"PC-MEDIA-WRAPPER\",\"@flowId\":\"PC-MEDIA-WRAPPER\",\"@flowExecutionId\":\"75e93758-9d65-11ee-925d-15a9bd1a2e02\",\"@provider\":\"lambda\",\"@lastModifiedAt\":[2023,12,18,5,22,44,681000000]}\n",
            "window[\"EAGER-DATA\"][\"PC-NEWSSTAND-YONHAP\"] = {\"@type\":\"BLOCK\",\"blocks\":[{\"@type\":\"BLOCK\",\"blocks\":null,\"materials\":[],\"excludeInPaging\":false,\"positionForPaging\":0,\"realtime\":false,\"_id\":null,\"@type\":\"BLOCK\",\"@code\":null,\"@template\":\"NONE\",\"@flowId\":null,\"@flowExecutionId\":null,\"@provider\":null,\"@lastModifiedAt\":null}],\"materials\":[{\"@type\":\"MATERIAL-PC-NEWS-ONELINE\",\"gdid\":null,\"title\":\"尹, 북 ICBM에 \\\"즉시 압도적 대응…한미일 공동대응 적극 추진\\\"\",\"url\":\"https://news.naver.com/main/list.naver?mode=LPOD&mid=sec&sid1=001&sid2=140&oid=001&isYeonhapFlash=Y&aid=0014396599\",\"aid\":null,\"emergency\":false,\"notCompleted\":false,\"officeName\":\"연합뉴스\",\"officeId\":\"001\",\"officeHomeUrl\":null,\"officeWeight\":0,\"officeWeightRate\":0.0,\"_id\":\"643543b2caf3d87b7e0a0da6\"},{\"@type\":\"MATERIAL-PC-NEWS-ONELINE\",\"gdid\":null,\"title\":\"열차 고장에 김포골드라인 '아비규환'…\\\"압사사고 날 뻔\\\"\",\"url\":\"https://news.naver.com/main/list.naver?mode=LPOD&mid=sec&sid1=001&sid2=140&oid=001&isYeonhapFlash=Y&aid=0014396711\",\"aid\":null,\"emergency\":false,\"notCompleted\":false,\"officeName\":\"연합뉴스\",\"officeId\":\"001\",\"officeHomeUrl\":null,\"officeWeight\":0,\"officeWeightRate\":0.0,\"_id\":\"65692532e9bedeca62543dbb\"},{\"@type\":\"MATERIAL-PC-NEWS-ONELINE\",\"gdid\":null,\"title\":\"\\\"지방 이전기업 지원 늘린다\\\"…보조금 한도 100억→200억원 상향\",\"url\":\"https://news.naver.com/main/list.naver?mode=LPOD&mid=sec&sid1=001&sid2=140&oid=001&isYeonhapFlash=Y&aid=0014396519\",\"aid\":null,\"emergency\":false,\"notCompleted\":false,\"officeName\":\"연합뉴스\",\"officeId\":\"001\",\"officeHomeUrl\":null,\"officeWeight\":0,\"officeWeightRate\":0.0,\"_id\":\"65692532e9bedeca62543dbc\"},{\"@type\":\"MATERIAL-PC-NEWS-ONELINE\",\"gdid\":null,\"title\":\"'주호민 아들 아동학대 판단' 지자체 공무원 법정서 증언\",\"url\":\"https://news.naver.com/main/list.naver?mode=LPOD&mid=sec&sid1=001&sid2=140&oid=001&isYeonhapFlash=Y&aid=0014396498\",\"aid\":null,\"emergency\":false,\"notCompleted\":false,\"officeName\":\"연합뉴스\",\"officeId\":\"001\",\"officeHomeUrl\":null,\"officeWeight\":0,\"officeWeightRate\":0.0,\"_id\":\"65692532e9bedeca62543dbd\"},{\"@type\":\"MATERIAL-PC-NEWS-ONELINE\",\"gdid\":null,\"title\":\"이번 주말까지 강추위…모레 낮부터 더 강한 '북극한파'\",\"url\":\"https://news.naver.com/main/list.naver?mode=LPOD&mid=sec&sid1=001&sid2=140&oid=001&isYeonhapFlash=Y&aid=0014396476\",\"aid\":null,\"emergency\":false,\"notCompleted\":false,\"officeName\":\"연합뉴스\",\"officeId\":\"001\",\"officeHomeUrl\":null,\"officeWeight\":0,\"officeWeightRate\":0.0,\"_id\":\"65692532e9bedeca62543dbe\"},{\"@type\":\"MATERIAL-PC-NEWS-ONELINE\",\"gdid\":null,\"title\":\"경찰 \\\"음대 입시비리 의혹 복수 대학으로 확대 가능성\\\"\",\"url\":\"https://news.naver.com/main/list.naver?mode=LPOD&mid=sec&sid1=001&sid2=140&oid=001&isYeonhapFlash=Y&aid=0014396647\",\"aid\":null,\"emergency\":false,\"notCompleted\":false,\"officeName\":\"연합뉴스\",\"officeId\":\"001\",\"officeHomeUrl\":null,\"officeWeight\":0,\"officeWeightRate\":0.0,\"_id\":\"65692532e9bedeca62543dbf\"},{\"@type\":\"MATERIAL-PC-NEWS-ONELINE\",\"gdid\":null,\"title\":\"이용 안 했는데도 환불 안 되는 오디오북 구독…불공정 약관 시정\",\"url\":\"https://news.naver.com/main/list.naver?mode=LPOD&mid=sec&sid1=001&sid2=140&oid=001&isYeonhapFlash=Y&aid=0014396426\",\"aid\":null,\"emergency\":false,\"notCompleted\":false,\"officeName\":\"연합뉴스\",\"officeId\":\"001\",\"officeHomeUrl\":null,\"officeWeight\":0,\"officeWeightRate\":0.0,\"_id\":\"65692532e9bedeca62543dc0\"},{\"@type\":\"MATERIAL-PC-NEWS-ONELINE\",\"gdid\":null,\"title\":\"인구감소 대응계획, 지방이 직접 세운다…첫 '상향식' 계획 확정\",\"url\":\"https://news.naver.com/main/list.naver?mode=LPOD&mid=sec&sid1=001&sid2=140&oid=001&isYeonhapFlash=Y&aid=0014396430\",\"aid\":null,\"emergency\":false,\"notCompleted\":false,\"officeName\":\"연합뉴스\",\"officeId\":\"001\",\"officeHomeUrl\":null,\"officeWeight\":0,\"officeWeightRate\":0.0,\"_id\":\"6573c24ecaf3d87b7e4d5269\"},{\"@type\":\"MATERIAL-PC-NEWS-ONELINE\",\"gdid\":null,\"title\":\"정형식 헌법재판관 후보 청문보고서 채택…'부적격' 野의견 병기\",\"url\":\"https://news.naver.com/main/list.naver?mode=LPOD&mid=sec&sid1=001&sid2=140&oid=001&isYeonhapFlash=Y&aid=0014396410\",\"aid\":null,\"emergency\":false,\"notCompleted\":false,\"officeName\":\"연합뉴스\",\"officeId\":\"001\",\"officeHomeUrl\":null,\"officeWeight\":0,\"officeWeightRate\":0.0,\"_id\":\"657966c240d2947ae45a7415\"},{\"@type\":\"MATERIAL-PC-NEWS-ONELINE\",\"gdid\":null,\"title\":\"대규모 시위, 등 돌리는 美…마이웨이 네타냐후 사면초가\",\"url\":\"https://news.naver.com/main/list.naver?mode=LPOD&mid=sec&sid1=001&sid2=140&oid=001&isYeonhapFlash=Y&aid=0014396187\",\"aid\":null,\"emergency\":false,\"notCompleted\":false,\"officeName\":\"연합뉴스\",\"officeId\":\"001\",\"officeHomeUrl\":null,\"officeWeight\":0,\"officeWeightRate\":0.0,\"_id\":\"657fcdbe63b70c6ebe03817b\"}],\"excludeInPaging\":false,\"positionForPaging\":0,\"realtime\":false,\"_id\":\"643543b2a10d3006850fa263\",\"@type\":\"BLOCK\",\"@code\":\"PC-NEWSSTAND-YONHAP\",\"@template\":\"PC-NEWSSTAND-YONHAP\",\"@flowId\":\"PC-YONHAP\",\"@flowExecutionId\":\"bcd83dfe-9d65-11ee-af89-931c9d86fc56\",\"@provider\":\"lambda\",\"@lastModifiedAt\":[2023,12,18,5,24,38,240000000]}\n",
            "window[\"EAGER-DATA\"][\"CAS-MINICONTENT-PC-SEARCH-RIGHT\"] = {\"@type\":\"MINI-CONTENT-BLOCK\",\"blocks\":null,\"materials\":null,\"excludeInPaging\":false,\"positionForPaging\":0,\"realtime\":false,\"items\":[{\"content\":{\"alt\":\"AI 검색, 안 써봤다면? 큐: 사전 신청 오픈!\",\"imageDark\":\"https://s.pstatic.net/static/www/mobile/edit/20231201_1095/upload_1701406401632BhYLw.png\",\"image\":\"https://s.pstatic.net/static/www/mobile/edit/20231201_1095/upload_1701406391340dR7El.png\",\"url\":\"https://mkt.naver.com/p1/atrb?channel_id=naver_pcsearchright&campaign_id=2309-cue-001&material=&target=https%3A%2F%2Fcue.search.naver.com%2F%3Ffrom%3Dda_anniv_1120\"},\"exposure\":true,\"@miniContentId\":\"652670f3bf31286bd2c379a9\",\"@miniContentCode\":\"PC-SEARCH-RIGHT\",\"@startAt\":\"2023-10-11 00:00\",\"@endAt\":\"2023-12-31 23:59\",\"@createdAt\":\"2023-10-11T18:54:59.077\",\"@updatedAt\":\"2023-12-01T13:53:34.617\"},{\"content\":{\"url\":\"https://mkt.naver.com/p1/atrb?channel_id=naver_pcsearchright&campaign_id=2309-cue-001&material=&target=https%3A%2F%2Fcue.search.naver.com%2F%3Ffrom%3Dda_anniv_1201\",\"alt\":\"이제, 검색 결과에서 AI 검색을 만나보세요\",\"imageDark\":\"https://s.pstatic.net/static/www/mobile/edit/20231201_1095/upload_1701406322946VFTGK.png\",\"image\":\"https://s.pstatic.net/static/www/mobile/edit/20231201_1095/upload_1701406315239m2bwu.png\"},\"exposure\":true,\"@miniContentId\":\"655b26bd5a182826a99a9194\",\"@miniContentCode\":\"PC-SEARCH-RIGHT\",\"@startAt\":\"2023-11-20 00:00\",\"@endAt\":\"2023-12-31 23:59\",\"@createdAt\":\"2023-11-20T18:28:29.662\",\"@updatedAt\":\"2023-12-01T13:52:21.639\"}],\"_id\":\"6433d8a5a10d300685012682\",\"@type\":\"MINI-CONTENT-BLOCK\",\"@code\":\"CAS-MINICONTENT-PC-SEARCH-RIGHT\",\"@template\":\"NONE\",\"@flowId\":\"CAS-MINICONTENT\",\"@flowExecutionId\":\"bc4dffa6-9d65-11ee-925d-93891217425b\",\"@provider\":\"lambda\",\"@lastModifiedAt\":[2023,12,18,5,24,37,195000000]}\n",
            "window[\"EAGER-DATA\"][\"CAS-MINICONTENT-PC-MEDIA-TAB-EVENT\"] = {\"@type\":\"MINI-CONTENT-BLOCK\",\"blocks\":null,\"materials\":null,\"excludeInPaging\":false,\"positionForPaging\":0,\"realtime\":false,\"items\":[],\"_id\":\"643687e1a10d300685630556\",\"@type\":\"MINI-CONTENT-BLOCK\",\"@code\":\"CAS-MINICONTENT-PC-MEDIA-TAB-EVENT\",\"@template\":\"NONE\",\"@flowId\":\"CAS-MINICONTENT\",\"@flowExecutionId\":\"9fa1e8be-9d65-11ee-925d-bdfbbebb8e49\",\"@provider\":\"lambda\",\"@lastModifiedAt\":[2023,12,18,5,23,49,89000000]}\n",
            "window[\"EAGER-DATA\"][\"CAS-MINICONTENT-PC-MID-BANNER\"] = {\"@type\":\"MINI-CONTENT-BLOCK\",\"blocks\":null,\"materials\":null,\"excludeInPaging\":false,\"positionForPaging\":0,\"realtime\":false,\"items\":[],\"_id\":\"648ae476a10d300685fbab10\",\"@type\":\"MINI-CONTENT-BLOCK\",\"@code\":\"CAS-MINICONTENT-PC-MID-BANNER\",\"@template\":\"NONE\",\"@flowId\":\"CAS-MINICONTENT\",\"@flowExecutionId\":\"b8ac6ed7-9d65-11ee-925d-d56119e7b885\",\"@provider\":\"lambda\",\"@lastModifiedAt\":[2023,12,18,5,24,31,95000000]}\n",
            "window[\"EAGER-DATA\"][\"CAS-MINICONTENT-PC-TAB-META\"] = {\"@type\":\"MINI-CONTENT-BLOCK\",\"blocks\":null,\"materials\":null,\"excludeInPaging\":false,\"positionForPaging\":0,\"realtime\":false,\"items\":[{\"content\":{\"area\":\"FEED\",\"tabList\":[{\"clickCode\":\"tct.mynr\",\"name\":\"추천・구독\",\"id\":\"PC-FEED-RECOMMEND\",\"contingencyEnabled\":true,\"enabled\":true,\"useFeedCasEditTemplate\":false,\"weight\":1},{\"clickCode\":\"tct.wtn\",\"name\":\"자동차\",\"id\":\"PC-FEED-CARGAME\",\"contingencyEnabled\":true,\"enabled\":true,\"useFeedCasEditTemplate\":true,\"weight\":1},{\"clickCode\":\"tct.wtn\",\"name\":\"웹툰\",\"id\":\"PC-FEED-WEBTOON\",\"contingencyEnabled\":true,\"enabled\":true,\"useFeedCasEditTemplate\":true,\"weight\":1},{\"clickCode\":\"tct.bty\",\"name\":\"패션뷰티\",\"id\":\"PC-FEED-BEAUTY\",\"contingencyEnabled\":true,\"enabled\":true,\"useFeedCasEditTemplate\":false,\"weight\":1},{\"clickCode\":\"tct.fod\",\"name\":\"레시피\",\"id\":\"PC-FEED-RECIPE\",\"contingencyEnabled\":true,\"enabled\":true,\"useFeedCasEditTemplate\":true,\"weight\":1},{\"clickCode\":\"tct.lif\",\"name\":\"리빙\",\"id\":\"PC-FEED-LIVINGHOME\",\"contingencyEnabled\":true,\"enabled\":true,\"useFeedCasEditTemplate\":true,\"weight\":1},{\"clickCode\":\"tct.bok\",\"name\":\"책방\",\"id\":\"PC-FEED-CULTURE\",\"contingencyEnabled\":true,\"enabled\":true,\"useFeedCasEditTemplate\":true,\"weight\":1},{\"clickCode\":\"tct.lec\",\"name\":\"지식+\",\"id\":\"PC-FEED-LECTURE\",\"contingencyEnabled\":true,\"enabled\":true,\"useFeedCasEditTemplate\":true,\"weight\":1},{\"clickCode\":\"tct.health\",\"name\":\"건강\",\"id\":\"PC-FEED-HEALTH\",\"contingencyEnabled\":true,\"enabled\":true,\"useFeedCasEditTemplate\":false,\"weight\":1},{\"clickCode\":\"tct.gameapp\",\"name\":\"게임\",\"id\":\"PC-FEED-GAMEAPP\",\"contingencyEnabled\":true,\"enabled\":true,\"useFeedCasEditTemplate\":false,\"weight\":1}],\"@type\":\"BLOCK-PC-TAB-META\"},\"exposure\":true,\"@miniContentId\":\"643e64d370a065058f369bac\",\"@miniContentCode\":\"PC-TAB-META\",\"@startAt\":\"2023-04-10 00:00\",\"@endAt\":\"2030-05-30 23:59\",\"@createdAt\":\"2023-04-18T18:37:23.412\",\"@updatedAt\":\"2023-11-08T11:34:03.902\"},{\"content\":{\"area\":\"MEDIA\",\"tabList\":[{\"clickCode\":\"nst.nsd\",\"name\":\"뉴스스탠드\",\"id\":\"PC-MEDIA-NEWSSTAND\",\"contingencyEnabled\":true,\"enabled\":true,\"useFeedCasEditTemplate\":false,\"weight\":1},{\"clickCode\":\"nst.nch\",\"name\":\"언론사편집\",\"id\":\"PC-MEDIA-NEWS\",\"contingencyEnabled\":true,\"enabled\":true,\"useFeedCasEditTemplate\":false,\"weight\":1},{\"clickCode\":\"nst.ent\",\"name\":\"엔터\",\"id\":\"PC-MEDIA-ENTER\",\"contingencyEnabled\":true,\"enabled\":true,\"useFeedCasEditTemplate\":false,\"weight\":1},{\"clickCode\":\"nst.spo\",\"name\":\"스포츠\",\"id\":\"PC-MEDIA-SPORTS\",\"contingencyEnabled\":true,\"enabled\":true,\"useFeedCasEditTemplate\":false,\"weight\":1},{\"clickCode\":\"nst.fin\",\"name\":\"경제\",\"id\":\"PC-MEDIA-ECONOMIC\",\"contingencyEnabled\":true,\"enabled\":true,\"useFeedCasEditTemplate\":false,\"weight\":1}],\"@type\":\"BLOCK-PC-TAB-META\"},\"exposure\":true,\"@miniContentId\":\"643e642c8793487c84743a38\",\"@miniContentCode\":\"PC-TAB-META\",\"@startAt\":\"2023-04-11 00:00\",\"@endAt\":\"2030-05-31 23:59\",\"@createdAt\":\"2023-04-18T18:34:36.648\",\"@updatedAt\":\"2023-04-18T18:34:36.648\"}],\"_id\":\"643e6299a10d3006853cc04c\",\"@type\":\"MINI-CONTENT-BLOCK\",\"@code\":\"CAS-MINICONTENT-PC-TAB-META\",\"@template\":\"NONE\",\"@flowId\":\"CAS-MINICONTENT\",\"@flowExecutionId\":\"a203cd99-9d65-11ee-925d-1d512f286f37\",\"@provider\":\"lambda\",\"@lastModifiedAt\":[2023,12,18,5,23,53,95000000]}\n",
            "</script> <script defer=\"defer\" src=\"https://pm.pstatic.net/resources/js/polyfill.37930f2b.js?o=www\" crossorigin=\"anonymous\"></script><script defer=\"defer\" src=\"https://pm.pstatic.net/resources/js/preload.2efda94c.js?o=www\" crossorigin=\"anonymous\"></script><script defer=\"defer\" src=\"https://pm.pstatic.net/resources/js/search.5f0079fd.js?o=www\" crossorigin=\"anonymous\"></script><script defer=\"defer\" src=\"https://pm.pstatic.net/resources/js/main.2a64c221.js?o=www\" crossorigin=\"anonymous\"></script><link href=\"https://pm.pstatic.net/resources/css/main.2075e752.css\" rel=\"stylesheet\"></head> <body> <div id=\"u_skip\"> <a href=\"#topAsideButton\"><span>상단영역 바로가기</span></a> <a href=\"#shortcutArea\"><span>서비스 메뉴 바로가기</span></a> <a href=\"#newsstand\"><span>새소식 블록 바로가기</span></a> <a href=\"#shopping\"><span>쇼핑 블록 바로가기</span></a> <a href=\"#feed\"><span>관심사 블록 바로가기</span></a> <a href=\"#account\"><span>MY 영역 바로가기</span></a> <a href=\"#widgetboard\"><span>위젯 보드 바로가기</span></a> <a href=\"#viewSetting\"><span>보기 설정 바로가기</span></a> </div>   <script type=\"text/plain\" id=\"ad-timeboard-response\" data-gfp-banner-size=\"830x130\" data-gfp-banner-type=\"full\">{\"requestId\":\"0d9425ef97ba4b49964106e66fa252b7\",\"head\":{\"version\":\"0.0.1\",\"description\":\"Naver SSP Waterfall List\"},\"eventTracking\":{\"ackImpressions\":[{\"url\":\"https://tivan.naver.com/sc2/1/\"}],\"activeViewImpressions\":[{\"url\":\"https://tivan.naver.com/sc2/2/\"}],\"clicks\":[{\"url\":\"https://tivan.naver.com/sc2/3/\"}],\"completions\":[{\"url\":\"https://tivan.naver.com/sc2/4/\"}],\"attached\":[{\"url\":\"https://tivan.naver.com/sc2/10/\"}],\"renderedImpressions\":[{\"url\":\"https://tivan.naver.com/sc2/11/\"}],\"viewableImpressions\":[{\"url\":\"https://tivan.naver.com/sc2/12/\"}],\"loadErrors\":[{\"url\":\"https://tivan.naver.com/sc2/91/\"}],\"startErrors\":[{\"url\":\"https://tivan.naver.com/sc2/92/\"}],\"mute\":[{\"url\":\"https://tivan.naver.com/sc2/5/\"}],\"close\":[{\"url\":\"https://tivan.naver.com/sc2/6/\"}]},\"adUnit\":\"p_main_timeboard_v1\",\"randomNumber\":93,\"adDivId\":\"ad_timeboard\",\"adDuplicationKeys\":[\"URL:www.celine.com\"],\"ads\":[{\"encrypted\":\"-fX2qRp78ppoaUQYroXwhQcoE9g3VnwUOaw4_d8DIhJfCt5cjhxfGFwV3XWGcU8fj9UhvppigwKzZMxcTEljZMkzfdAtl-O70sfK4F0Zqr8PvUlZvGdjLWGvIhXD9QIG5l78lnAXRQ2KOsuhKBrI_Cl8JRdfaK-K-wP6InC8zqNIoUWcJhKE-wCYLDmfSjCgb_P_EuvDpCjKtr5XIkqwa9Cy57sYFc5T298tq-fz3P6t7jvpT3aRo-xgFuycyWpMCJ5NH9Uob-fy3cbKsroEdCEjTIYcEc2zkyoUSKtSZQKiVFVFZn0LHSW7wU9Km8BpzbBPTQAzo7_huhLUh_R5AKjCVo0bVWO8jnODM0AYNJDpkLc8safTv5UgQWFsU9mml7gm43z6QlQhEjNxiutKeP8OAzFj8DgOvvelZRXrxe037L1eT8cYFhw2jUSVIQ9qwWdESNiKxnrqOp1FaOQsUH2diKfoyi_kk0AkokQAkVBRcmVKaTB6e4SsyjSKdzogiCSEngZabpdqVzFPCbdFrQfdPMdnnNt5tava5R9RnTvhyOcP6u5LQ8Y_QpukNYS8ZQ1COLLln-HKH5TzPOigLvxFEecMkIN-0oI0E3LvO141nbdUVeAOinVhDmxlrpGg18VnrMWTYPK_P4WNCn4E2w==\",\"connectionType\":\"S2S\",\"adProviderType\":\"IN_NAVER\",\"adProviderName\":\"NDP_SF\",\"layoutType\":\"FLUID\",\"creativeType\":\"BANNER\",\"renderType\":\"SF\",\"eventTracking\":{\"ackImpressions\":[{\"url\":\"https://siape.veta.naver.com/openrtb/nurl?eu=EU10043565\\u0026calp=-\\u0026oj=cQgn6aire5PKe3IBUg6UJoVfduiLfffbDPguD7k1nQzPvHrTexw3H9YCQxL%2FMdPeD72gXoxI8kZhPEn4DBffFZh4mLbYUYlD%2BLuCt7D1jDJRfLoLJ4oGbNXFz%2FBrcZjE%2FpyKRSpEi%2FyjdC6WPXXvViZUp5FM2BbVtrxxNvolPtipzXmvIvaP%2BPDP%2FOSGau8rQ5sJneYKbTnsJYWR1jNy%2BA\\u0026ac=8890127\\u0026src=6840465\\u0026evtcd=BID_WIN\\u0026x_ti=1504\\u0026rk=rzR7MI2E4vwedQNeLcKuHw\\u0026eltts=VFZMct%2B%2FzyaQXVt41%2FHSNA%3D%3D\\u0026brs=Y\\u0026\"}],\"attached\":[],\"activeViewImpressions\":[],\"renderedImpressions\":[],\"viewableImpressions\":[],\"clicks\":[],\"vimp1px\":[],\"vimp100\":[],\"vimp100p\":[],\"admute\":[],\"advmute\":[],\"like\":[],\"unlike\":[],\"close\":[],\"bounce\":[]},\"adInfo\":{\"placeId\":\"6436232db28a76002ea3f30c\",\"cid\":\"1473979\",\"crid\":\"2577328\",\"exp\":2098,\"adm\":\"%3Cscript%20src%3D%22https%3A%2F%2Fssl.pstatic.net%2Fmelona%2Flibs%2Fglad%2Fbridge%2Fgfp-bridge.js%22%3E%3C%2Fscript%3E%0D%0A%0D%0A%3Ca%20href%3D%22https%3A%2F%2Fsiape.veta.naver.com%2Ffxclick%3Feu%3DEU10043565%26calp%3D-%26oj%3DcQgn6aire5PKe3IBUg6UJoVfduiLfffbDPguD7k1nQzPvHrTexw3H9YCQxL%252FMdPeD72gXoxI8kZhPEn4DBffFZh4mLbYUYlD%252BLuCt7D1jDJRfLoLJ4oGbNXFz%252FBrcZjE%252FpyKRSpEi%252FyjdC6WPXXvViZUp5FM2BbVtrxxNvolPtipzXmvIvaP%252BPDP%252FOSGau8rQ5sJneYKbTnsJYWR1jNy%252BA%26ac%3D8890127%26src%3D6840465%26br%3D4402093%26evtcd%3DP901%26x_ti%3D1504%26tb%3D%26oid%3D%26sid1%3D%26sid2%3D%26rk%3DrzR7MI2E4vwedQNeLcKuHw%26eltts%3DVFZMct%252B%252FzyaQXVt41%252FHSNA%253D%253D%26lu%3D%26brs%3DY%26%22%20id%3D%22ac_banner_a%22%20target%3D%22_blank%22%20style%3D%22display%3Ablock%22%3E%0D%0A%20%20%20%20%3Cimg%20src%3D%22https%3A%2F%2Fssl.pstatic.net%2Fmelona%2Flibs%2F1473%2F1473979%2F5493738dca60f3db0462_20231201183953101_1.jpg%22%20width%3D%22830%22%20height%3D%22130%22%20alt%3D%22%5B%EA%B4%91%EA%B3%A0%5D%EC%85%80%EB%A6%B0%EB%8A%90%22%3E%0D%0A%3C%2Fa%3E%0D%0A%0D%0A%3Cscript%20type%3D%22text%2Fjavascript%22%20src%3D%22https%3A%2F%2Fssl.pstatic.net%2Fmelona%2Flibs%2Fassets%2Fjs%2Fpc%2Fmain%2Fmin%2Fpc.veta.core.min.js%3F20211105%22%3E%3C%2Fscript%3E%0D%0A%3Cscript%20type%3D%22text%2Fjavascript%22%3E%0D%0A%20%20%20%20%28function%28ns%2C%20bridge%29%20%7B%0D%0A%20%20%20%20%20%20%20%20var%20LOG%20%3D%20%7B%0D%0A%20%20%20%20%20%20%20%20%20%20%20%20VIEWABLED%3A%20%22https%3A%2F%2Fsiape.veta.naver.com%2Ffxview%3Feu%3DEU10043565%26calp%3D-%26oj%3DcQgn6aire5PKe3IBUg6UJoVfduiLfffbDPguD7k1nQzPvHrTexw3H9YCQxL%252FMdPeD72gXoxI8kZhPEn4DBffFZh4mLbYUYlD%252BLuCt7D1jDJRfLoLJ4oGbNXFz%252FBrcZjE%252FpyKRSpEi%252FyjdC6WPXXvViZUp5FM2BbVtrxxNvolPtipzXmvIvaP%252BPDP%252FOSGau8rQ5sJneYKbTnsJYWR1jNy%252BA%26ac%3D8890127%26src%3D6840465%26evtcd%3DV900%26x_ti%3D1504%26tb%3D%26oid%3D%26sid1%3D%26sid2%3D%26rk%3DrzR7MI2E4vwedQNeLcKuHw%26eltts%3DVFZMct%252B%252FzyaQXVt41%252FHSNA%253D%253D%26brs%3DY%26%26eid%3DV900%22%2C%0D%0A%20%20%20%20%20%20%20%20%20%20%20%20RENDERED%3A%20%22https%3A%2F%2Fsiape.veta.naver.com%2Ffxview%3Feu%3DEU10043565%26calp%3D-%26oj%3DcQgn6aire5PKe3IBUg6UJoVfduiLfffbDPguD7k1nQzPvHrTexw3H9YCQxL%252FMdPeD72gXoxI8kZhPEn4DBffFZh4mLbYUYlD%252BLuCt7D1jDJRfLoLJ4oGbNXFz%252FBrcZjE%252FpyKRSpEi%252FyjdC6WPXXvViZUp5FM2BbVtrxxNvolPtipzXmvIvaP%252BPDP%252FOSGau8rQ5sJneYKbTnsJYWR1jNy%252BA%26ac%3D8890127%26src%3D6840127%26evtcd%3DV602%26x_ti%3D1504%26tb%3D%26oid%3D%26sid1%3D%26sid2%3D%26rk%3DrzR7MI2E4vwedQNeLcKuHw%26eltts%3DVFZMct%252B%252FzyaQXVt41%252FHSNA%253D%253D%26brs%3DY%26%26eid%3DV810%22%0D%0A%20%20%20%20%20%20%20%20%7D%3B%0D%0A%0D%0A%20%20%20%20%20%20%20%20var%20util%20%3D%20ns.Util%20%3F%20new%20ns.Util%28%29%20%3A%20new%20NBP_CORP.Nimp%28%29%3B%0D%0A%20%20%20%20%20%20%20%20var%20gladSdkBridge%20%3D%20bridge.createSdkBridge%28%29%3B%0D%0A%20%20%20%20%20%20%20%20var%20eventList%20%3D%20%7B%7D%3B%0D%0A%0D%0A%20%20%20%20%20%20%20%20%2F%2F%20%EC%9D%91%EB%8B%B5%EB%85%B8%EC%B6%9C%0D%0A%20%20%20%20%20%20%20%20util.log%28LOG.RENDERED%29%3B%0D%0A%0D%0A%20%20%20%20%20%20%20%20%2F%2F%20%EC%9C%A0%ED%9A%A8%EB%85%B8%EC%B6%9C%0D%0A%20%20%20%20%20%20%20%20eventList%5Bbridge.EVENT.VIEWABLED%5D%20%3D%20function%28%29%20%7B%0D%0A%20%20%20%20%20%20%20%20%20%20%20%20util.log%28LOG.VIEWABLED%29%3B%0D%0A%20%20%20%20%20%20%20%20%7D%3B%0D%0A%0D%0A%20%20%20%20%20%20%20%20gladSdkBridge.setEventListeners%28eventList%29%3B%0D%0A%20%20%20%20%7D%29%28%0D%0A%20%20%20%20%20%20%20%20window.naver_corp_da%20%7C%7C%20%7B%7D%2C%0D%0A%20%20%20%20%20%20%20%20window.gladBridge%0D%0A%20%20%20%20%29%3B%0D%0A%3C%2Fscript%3E\",\"encoded\":1,\"responseSize\":{\"height\":130,\"width\":830,\"force\":0},\"template\":\"%3C%21doctype%20html%3E%3Chtml%3E%3Chead%3E%3Cmeta%20name%3D%22viewport%22%20content%3D%22width%3Ddevice-width%2C%20user-scalable%3Dno%22%2F%3E%3Cstyle%20data-gfp-role%3D%22adMarkLegacyStyle%22%3E%5Bdata-gfp-role%3D%22adMarkLegacy%22%5D%20%7Bdisplay%3A%20none%3B%7D%3C%2Fstyle%3E%3Cscript%3Ewindow.gladBridge%20%3D%20%7BRUNTIME%3A%20%22InApp%22%7D%3B%3C%2Fscript%3E%3C%2Fhead%3E%3Cbody%20style%3D%22margin%3A%200%3B%20padding%3A%200%22%3E%7B%7Badm%7D%7D%3Cscript%20src%3D%22https%3A%2F%2Fssl.pstatic.net%2Ftveta%2Flibs%2Fglad_admute%2Fprod%2Fglad-admute.js%22%3E%3C%2Fscript%3E%3Cscript%3Econst%20adMuteOptions%20%3D%20%7BmuteUrl%3A%20%22%25%25MUTE_URL%25%25%22%2C%20privacyUrl%3A%20%22%25%25PRIV_URL%25%25%22%2C%20creativeType%3A%20%22BANNER%22%2C%20runtimeType%3A%20%22InApp%22%7D%3B%20window.gladAdMute.checkAdMarkLegacyStyle%28adMuteOptions%29%3B%20const%20adMuteController%20%3D%20window.gladAdMute.createAdMuteController%28adMuteOptions%29%3B%20adMuteController.render%28%29%3B%3C%2Fscript%3E%3C%2Fbody%3E%3C%2Fhtml%3E\"}},{\"encrypted\":\"D7tQUxyWNn7OztYLhUyGbf56EHLR9XHW88cmb-27-0E-t8iUERS9zVhCpgfW3sDiTfTDSCKPRIkpkIb1PGgz9INpqocCx5NbzD48RWXlQOEzC_DP8CDA2WmQz78V6OdfuuMzDCAuJ-iwV5KW6ePH_PSGKGMqlqYJYVDljjtTbiOGJ_w6rskEwwYT66bGK7hDud3kJHXoUmNKbVwGj23bKTTWLXpnu-_JOf2y8chTjn7vWhEc9Wri20b2vtwBfX8kPcxEPH6UbqWkHNPzaPmsYcVm4GJMAz7CBawfZ_xy758L4WOswUCvDN1_NkzWJ82GIiVJUPnC7QTCsPhx2SzxwI1dw5NTwr2iWp_qg-tcsh-n02jgtEIjxaSoRzqSMFeF4ISXlV-ryouk0oLWiNZ7Hoi9zwWUoage-xd8vjOmPlU8gp_rug-snNDxxCasTiTV\",\"connectionType\":\"S2S\",\"adProviderName\":\"GFP\",\"layoutType\":\"FLUID\",\"creativeType\":\"BANNER\",\"renderType\":\"EMPTY\",\"eventTracking\":{\"ackImpressions\":[],\"attached\":[],\"activeViewImpressions\":[{\"url\":\"https://siape.veta.naver.com/openrtb/nbimp?oj=cQgn6aire5PKe3IBUg6UJoVfduiLfffbDPguD7k1nQzPvHrTexw3H9YCQxL%2FMdPeD72gXoxI8kZhPEn4DBffFZh4mLbYUYlD%2BLuCt7D1jDJRfLoLJ4oGbNXFz%2FBrcZjE%2FpyKRSpEi%2FyjdC6WPXXvViZUp5FM2BbVtrxxNvolPtipzXmvIvaP%2BPDP%2FOSGau8rQ5sJneYKbTnsJYWR1jNy%2BA\\u0026rk=rzR7MI2E4vwedQNeLcKuHw\\u0026eltts=VFZMct%2B%2FzyaQXVt41%2FHSNA%3D%3D\"}],\"renderedImpressions\":[],\"viewableImpressions\":[{\"url\":\"https://siape.veta.naver.com/openrtb/nbimp?oj=cQgn6aire5PKe3IBUg6UJoVfduiLfffbDPguD7k1nQzPvHrTexw3H9YCQxL%2FMdPeD72gXoxI8kZhPEn4DBffFZh4mLbYUYlD%2BLuCt7D1jDJRfLoLJ4oGbNXFz%2FBrcZjE%2FpyKRSpEi%2FyjdC6WPXXvViZUp5FM2BbVtrxxNvolPtipzXmvIvaP%2BPDP%2FOSGau8rQ5sJneYKbTnsJYWR1jNy%2BA\\u0026rk=rzR7MI2E4vwedQNeLcKuHw\\u0026eltts=VFZMct%2B%2FzyaQXVt41%2FHSNA%3D%3D\"}],\"clicks\":[],\"vimp1px\":[],\"vimp100\":[],\"vimp100p\":[],\"admute\":[],\"advmute\":[],\"like\":[],\"unlike\":[],\"close\":[],\"bounce\":[]},\"adInfo\":{\"responseSize\":{\"height\":0,\"width\":0}}}],\"config\":{\"imp\":{\"ratio\":100,\"ms\":0}}}\n",
            "</script> <div id=\"wrap\"> <div id=\"header\" role=\"banner\"> <div id=\"topSearchWrap\" class=\"header_inner\"> <div id=\"special-logo\" class=\"search_special_bg\"></div> <div id=\"timeboard-ex\" class=\"ad_area\" style=\"min-width:1340px\"> </div> <div id=\"search_area\" class=\"search_area\" style=\"border-color:#fff\"> <div id=\"special-input-logo-ex\" class=\"link_search_special\" style=\"display:none\"></div> <div class=\"search_group\"> <div id=\"search\" class=\"search_group_inner\"> <h1 id=\"special-input-logo\" class=\"search_logo\"></h1> <form id=\"sform\" name=\"search\" role=\"search\" action=\"https://search.naver.com/search.naver\" method=\"get\"> <fieldset> <legend class=\"blind\">검색</legend> <input type=\"hidden\" name=\"where\" value=\"nexearch\"/> <input type=\"hidden\" id=\"sm\" name=\"sm\" value=\"top_hty\"/> <input type=\"hidden\" id=\"fbm\" name=\"fbm\" value=\"0\"/> <input type=\"hidden\" id=\"acr\" name=\"acr\" value=\"\" disabled=\"disabled\"/> <input type=\"hidden\" id=\"acq\" name=\"acq\" value=\"\" disabled=\"disabled\"/> <input type=\"hidden\" id=\"qdt\" name=\"qdt\" value=\"\" disabled=\"disabled\"/> <input type=\"hidden\" id=\"ie\" name=\"ie\" value=\"utf8\"/> <input type=\"hidden\" id=\"acir\" name=\"acir\" value=\"\" disabled=\"disabled\"/> <input type=\"hidden\" id=\"os\" name=\"os\" value=\"\" disabled=\"disabled\"/> <input type=\"hidden\" id=\"bid\" name=\"bid\" value=\"\" disabled=\"disabled\"/> <input type=\"hidden\" id=\"pkid\" name=\"pkid\" value=\"\" disabled=\"disabled\"/> <input type=\"hidden\" id=\"eid\" name=\"eid\" value=\"\" disabled=\"disabled\"/> <input type=\"hidden\" id=\"mra\" name=\"mra\" value=\"\" disabled=\"disabled\"/> <div class=\"search_input_box\"> <input id=\"query\" name=\"query\" type=\"search\" title=\"검색어를 입력해 주세요.\" placeholder=\"검색어를 입력해 주세요.\" maxlength=\"255\" autocomplete=\"off\" class=\"search_input\" data-atcmp-element/> </div> <button type=\"submit\" class=\"btn_search\" onclick='window.nclk_v2(this,\"sch.action\")'> <span id=\"search-btn\" class=\"ico_btn_search\"></span> <span class=\"blind\">검색</span> </button> </fieldset> </form> <div class=\"search_box\"> <button id=\"ke_kbd_btn\" type=\"button\" class=\"btn_keyboard\" aria-pressed=\"false\"> <span class=\"keybord_text\"> <span class=\"blind\">입력도구</span> </span> </button> <div id=\"_nx_kbd\" style=\"display:none\"></div> <button id=\"nautocomplete\" type=\"button\" class=\"btn_arrow\" data-atcmp-element> <span class=\"blind\">자동완성/최근검색어펼치기</span> </button> </div> <div class=\"layer_atcmp\" id=\"autoFrame\" style=\"display:none\"> <div class=\"ly_atcmp\" data-atcmp-element> <div class=\"api_atcmp_wrap\"> <div class=\"atcmp_fixer _recent_layer\" style=\"display:none\"> <div class=\"atcmp_header _recent_header\"> <strong class=\"tit\">최근 검색어</strong> <div class=\"option\"> <a role=\"button\" href=\"#\" class=\"item _delAll\" aria-pressed=\"false\">전체삭제</a> </div> </div> <div class=\"atcmp_container\"> <ul class=\"kwd_lst _recent\"></ul> <div class=\"kwd_info kwd_off _offMsg\" style=\"display:none\">검색어 저장 기능이 꺼져 있습니다.<br/><span class=\"kwd_dsc\">설정이 초기화 된다면 <a href=\"https://help.naver.com/alias/search/word/word_35.naver\" class=\"kwd_help\" data-clk=\"sly.help\" target=\"_blank\">도움말</a>을 확인해주세요.</span></div> <div class=\"kwd_info kwd_none _recentNone\" style=\"display:none\">최근 검색어 내역이 없습니다.<br/><span class=\"kwd_dsc\">설정이 초기화 된다면 <a href=\"https://help.naver.com/alias/search/word/word_35.naver\" class=\"kwd_help\" data-clk=\"sly.help\" target=\"_blank\">도움말</a>을 확인해주세요.</span></div> </div> <div class=\"atcmp_footer\"> <span class=\"side_opt_area\"> <span class=\"opt_item\"> <a href=\"#\" class=\"close _keywordOnOff\">자동저장 끄기</a> </span> <span class=\"opt_item\"><a href=\"https://help.naver.com/alias/search/word/word_35.naver\" data-clk=\"sly.help\" target=\"_blank\">도움말</a></span> </span> <span class=\"rside_opt_area\"> <span class=\"opt_item\"><a href=\"#\" class=\"close _close\">닫기</a></span> </span> </div> </div> <div class=\"atcmp_fixer _atcmp_layer\" style=\"display:none\"> <div class=\"atcmp_container _words\"> <ul class=\"kwd_lst _kwd_list\"></ul> <div class=\"atcmp_cue type_line _cue_root\"> <div class=\"cue_header\"><i class=\"imgsvg ico_cue\">CUE</i>대화하듯 질문해 보세요<a href=\"#\" role=\"button\" class=\"btn_help _tg_btn\" aria-pressed=\"false\"><i class=\"imgsvg ico_alert\">이 정보가 표시된 이유</i></a> <div class=\"layer_plus\"> <p class=\"dsc\">검색어와 포함된 키워드를 기반으로 AI 기술을 활용하여 연관된 추천 질문을 제공합니다.</p> <a href=\"#\" role=\"button\" class=\"btn_close _tg_btn\"><i class=\"imgsvg ico_close\">레이어 닫기</i></a> </div> </div> <ul class=\"cue_list _ul\"></ul> </div> <div class=\"atcmp_alert _alert\"> <div class=\"dsc_election\"> <p class=\"dsc\"> <i class=\"imgsvg ico_election\"></i> <span class=\"_alert_passage\"></span> </p> <span class=\"dsc_inner\"> <span class=\"_alert_passage2\"></span> <a href=\"#\" class=\"link _alert_link\" target=\"_blank\">자세히보기</a> </span> </div> </div> <div class=\"atcmp_plus _plus\"> <div class=\"dsc_plus\"> <a href=\"https://help.naver.com/alias/search/word/word_16.naver\" class=\"link_dsc\" data-clk=\"sug.cxhelp\" target=\"_blank\">관심사를 반영한 컨텍스트 자동완성<i class=\"imgsvg ico_help\">도움말</i></a> </div> <div class=\"switch\"> <a role=\"button\" href=\"#\" class=\"bt_switch active _plus_btn\" aria-pressed=\"false\"><i class=\"imgsvg ico_option\">컨텍스트 자동완성</i></a> </div> <div class=\"layer_plus _plus_layer\"> <strong class=\"tit\">컨텍스트 자동완성</strong> <div class=\"_plus_layer_isloggedin\" style=\"display:none\"> <p class=\"dsc\">ON/OFF 설정은 해당기기(브라우저)에 저장됩니다.</p> <div class=\"btn_area\"> <a href=\"https://help.naver.com/alias/search/word/word_16.naver\" class=\"link_view\" data-clk=\"sug.cxlink\" target=\"_blank\">자세히 보기</a> </div> </div> <div class=\"_plus_layer_isnotloggedin\" style=\"display:none\"> <p class=\"dsc\">동일한 시간대・연령대・남녀별 사용자 그룹의 관심사에 맞춰 자동완성을 제공합니다. <a href=\"https://help.naver.com/support/alias/search/word/word_16.naver\" class=\"link_view\" data-clk=\"sug.cxlink\" target=\"_blank\">자세히 보기</a> </p> <div class=\"btn_area\"> <a href=\"https://nid.naver.com/nidlogin.login\" class=\"btn btn_login\" data-clk=\"sug.cxlogin\"><i class=\"imgsvg ico_naver\">네이버</i>로그인</a> </div> </div> <a href=\"#\" role=\"button\" class=\"btn_close _plus_layer_close\"><i class=\"imgsvg ico_close\">컨텍스트 자동완성 레이어 닫기</i></a> </div> </div> </div> <div class=\"atcmp_footer\"> <span class=\"side_opt_area\"> <span class=\"opt_item\"> <a href=\"#\" class=\"close _suggestOnOff\">자동완성 끄기</a> </span> <span class=\"opt_item\"><a href=\"https://help.naver.com/alias/search/word/word_17.naver\" data-clk=\"sug.help\" target=\"_blank\">도움말</a></span> <span class=\"opt_item\"><a href=\"https://help.naver.com/alias/search/word/word_18.naver\" class=\"report\" data-clk=\"sug.report\" target=\"_blank\">신고</a></span> </span> <span class=\"rside_opt_area\"> <span class=\"opt_item\"><a href=\"#\" class=\"close _close\">닫기</a></span> </span> </div> </div> </div> </div> </div> </div> </div> </div> <div id=\"search-right-banner\"></div> <div id=\"shortcutArea\" class=\"shortcut_area\" role=\"region\"></div> <div id=\"topAsideArea\" class=\"menu_area\"></div> <div id=\"topPayArea\" class=\"pay_area\"></div> <div id=\"topTalkArea\" class=\"talk_area\"></div> <div id=\"topNotiArea\" class=\"notify_area\"></div> </div> </div> <div id=\"container\" role=\"main\"> <div id=\"root\"></div> </div> <div id=\"footer\" role=\"contentinfo\"></div> </div>      <script> window['EAGER-DATA'] = window['EAGER-DATA'] || {};\n",
            "        window['EAGER-DATA']['GV'] = {\n",
            "            svt: '20231218142500',  }; </script> <script>!function(){function t(t){var e=document.getElementById(\"search_area\"),n=document.getElementById(\"search-btn\");t?(e&&e.setAttribute(\"style\",\"border-color: \"+t),n&&n.setAttribute(\"class\",\"ico_btn_search type_color\"),n&&n.setAttribute(\"style\",\"background-color: \"+t)):e&&e.removeAttribute(\"style\")}var e=window[\"EAGER-DATA\"][\"CAS-MINICONTENT-PC-SPECIAL-LOGO\"];if(e&&e.items&&e.items.length>0!=!1){var n=Math.floor(Math.random()*e.items.length),o=e.items[n];if(e.items=[o],t(o&&o.content&&o.content.input&&o.content.input.color),!o.content.input||!o.content.input.logoImage&&!o.content.input.logoImageEx){const t=document.getElementById(\"search\");t&&t.classList.add(\"type_special_logo_full\"),window.addEventListener(\"header-sticky-state-change\",(()=>{var e;(e=document.getElementById(\"header\"))&&e.classList.contains(\"ani_fixed\")?t&&t.classList.remove(\"type_special_logo_full\"):t&&t.classList.add(\"type_special_logo_full\")}))}var c=o&&o.content&&o.content.input&&o.content.input.placeholder;if(c){var l=document.getElementById(\"query\");l&&c&&l.setAttribute(\"title\",c),l&&c&&l.setAttribute(\"placeholder\",c)}}else t()}()</script> </body> </html> \n"
          ]
        }
      ]
    },
    {
      "cell_type": "code",
      "source": [
        "from PIL import Image\n",
        "from io import BytesIO\n"
      ],
      "metadata": {
        "id": "BbNm8ZXZYCwf"
      },
      "execution_count": null,
      "outputs": []
    },
    {
      "cell_type": "code",
      "source": [
        "# prompt: 저작권 없는 강아지 사진 링크 가져와서 PIL Image 라이브러리로 이미지 출력 코드\n",
        "\n",
        "import requests\n",
        "from PIL import Image\n",
        "from io import BytesIO\n",
        "\n",
        "response = requests.get('https://i.imgur.com/X58374f.jpg')\n",
        "img = Image.open(BytesIO(response.content))\n",
        "# img.show()\n",
        "print(response.status_code)\n",
        "# print(response.content)\n",
        "print(BytesIO(response.content))\n",
        "print(img)\n",
        "img\n"
      ],
      "metadata": {
        "colab": {
          "base_uri": "https://localhost:8080/",
          "height": 152
        },
        "id": "6z9OycwMZZQL",
        "outputId": "841e6d3d-cf4a-454b-c3e0-a73ed77ca06f"
      },
      "execution_count": null,
      "outputs": [
        {
          "output_type": "stream",
          "name": "stdout",
          "text": [
            "200\n",
            "<_io.BytesIO object at 0x7942509f28e0>\n",
            "<PIL.PngImagePlugin.PngImageFile image mode=P size=161x81 at 0x794251BCBFD0>\n"
          ]
        },
        {
          "output_type": "execute_result",
          "data": {
            "text/plain": [
              "<PIL.PngImagePlugin.PngImageFile image mode=P size=161x81>"
            ],
            "image/png": "[encoded data removed]"
          },
          "metadata": {},
          "execution_count": 22
        }
      ]
    },
    {
      "cell_type": "code",
      "source": [
        "# 코랩에서 shell command 사용시 ! 붙여 사용\n",
        "# !pip install openai"
      ],
      "metadata": {
        "id": "glB2_k8aZ5GP"
      },
      "execution_count": null,
      "outputs": []
    },
    {
      "cell_type": "markdown",
      "source": [
        "# python 변수 규칙\n",
        "- markdown 줄바꿈 two spaces at the end of a line.  \n",
        "- markdown link 추가 \\[링크 문자](링크)  \n",
        "문자,숫자, 밑줄 등을 포함 할 수 있다.  \n",
        "숫자는 제일 처음에 나올 수 없다.  \n",
        "대소문자를 구별한다  \n",
        "[python documentation](https://docs.python.org/3/)"
      ],
      "metadata": {
        "id": "7msVsBF1dfF2"
      }
    },
    {
      "cell_type": "code",
      "source": [
        "# 대소문자를 구별\n",
        "f = 1\n",
        "F = 10"
      ],
      "metadata": {
        "id": "eFrwk96phDbi"
      },
      "execution_count": null,
      "outputs": []
    },
    {
      "cell_type": "markdown",
      "source": [
        "숫자형"
      ],
      "metadata": {
        "id": "S2MMnkBPmCZN"
      }
    },
    {
      "cell_type": "code",
      "source": [
        "year = 2023\n",
        "month = 12\n",
        "print(type(year)) # 자료형 확인 type()\n",
        "year,month,f,F # 값 여러개 출력 가능 또는 print() 함수 이용"
      ],
      "metadata": {
        "colab": {
          "base_uri": "https://localhost:8080/"
        },
        "id": "WrHzyPwtmSY0",
        "outputId": "6141f5b4-d9d1-4fa1-88bc-6a743e5e5c67"
      },
      "execution_count": null,
      "outputs": [
        {
          "output_type": "stream",
          "name": "stdout",
          "text": [
            "<class 'int'>\n"
          ]
        },
        {
          "output_type": "execute_result",
          "data": {
            "text/plain": [
              "(2023, 12, 1, 10)"
            ]
          },
          "metadata": {},
          "execution_count": 45
        }
      ]
    },
    {
      "cell_type": "markdown",
      "source": [
        "여러가지 진법"
      ],
      "metadata": {
        "id": "fCB3m2I1mVOy"
      }
    },
    {
      "cell_type": "code",
      "source": [
        "0o10 # 8진수"
      ],
      "metadata": {
        "colab": {
          "base_uri": "https://localhost:8080/"
        },
        "id": "r_8Q4R7qm2OO",
        "outputId": "ce21c866-1611-4387-bfc0-fae4e844cac6"
      },
      "execution_count": null,
      "outputs": [
        {
          "output_type": "execute_result",
          "data": {
            "text/plain": [
              "8"
            ]
          },
          "metadata": {},
          "execution_count": 47
        }
      ]
    },
    {
      "cell_type": "code",
      "source": [
        "0x10 # 16진수"
      ],
      "metadata": {
        "colab": {
          "base_uri": "https://localhost:8080/"
        },
        "id": "6_96L80gm4yP",
        "outputId": "cd68da0b-5431-4536-fdf2-c4f936cefc79"
      },
      "execution_count": null,
      "outputs": [
        {
          "output_type": "execute_result",
          "data": {
            "text/plain": [
              "16"
            ]
          },
          "metadata": {},
          "execution_count": 48
        }
      ]
    },
    {
      "cell_type": "code",
      "source": [
        "#8진수    16진수   2진수\n",
        "oct(38),hex(38),bin(38)"
      ],
      "metadata": {
        "colab": {
          "base_uri": "https://localhost:8080/"
        },
        "id": "Aec2usyfnSD9",
        "outputId": "f8660301-5707-46b4-a317-5743873c7826"
      },
      "execution_count": null,
      "outputs": [
        {
          "output_type": "execute_result",
          "data": {
            "text/plain": [
              "('0o46', '0x26', '0b100110')"
            ]
          },
          "metadata": {},
          "execution_count": 50
        }
      ]
    },
    {
      "cell_type": "code",
      "source": [
        "type(1),type(3.14)"
      ],
      "metadata": {
        "colab": {
          "base_uri": "https://localhost:8080/"
        },
        "id": "PmhX1s20nWQ3",
        "outputId": "0f6bef69-a742-4baf-d4b5-0761a1720b6e"
      },
      "execution_count": null,
      "outputs": [
        {
          "output_type": "execute_result",
          "data": {
            "text/plain": [
              "(int, float)"
            ]
          },
          "metadata": {},
          "execution_count": 51
        }
      ]
    },
    {
      "cell_type": "code",
      "source": [
        "# prompt: r = 2 일때 원의 넓이 구하는 코드\n",
        "\n",
        "import math\n",
        "r = 2\n",
        "print(math.pi*(r**2))\n"
      ],
      "metadata": {
        "colab": {
          "base_uri": "https://localhost:8080/"
        },
        "id": "Qm_2RoGInmbe",
        "outputId": "1d0c33e4-f185-4c3b-8a34-a41fbc4cac19"
      },
      "execution_count": null,
      "outputs": [
        {
          "output_type": "stream",
          "name": "stdout",
          "text": [
            "12.566370614359172\n"
          ]
        }
      ]
    },
    {
      "cell_type": "code",
      "source": [
        "# prompt: 밑변의 길이가 3이고 높이가 4인 삼각형의 면적 구하기\n",
        "\n",
        "base = 3\n",
        "height = 4\n",
        "print(base*height/2)\n"
      ],
      "metadata": {
        "colab": {
          "base_uri": "https://localhost:8080/"
        },
        "id": "ZjT6jpHWn70j",
        "outputId": "9ea5961e-597b-4761-ee06-48f5b3bcc6ba"
      },
      "execution_count": null,
      "outputs": [
        {
          "output_type": "stream",
          "name": "stdout",
          "text": [
            "6.0\n"
          ]
        }
      ]
    },
    {
      "cell_type": "markdown",
      "source": [
        "# 문자형 실습"
      ],
      "metadata": {
        "id": "Ig8k037BoUYs"
      }
    },
    {
      "cell_type": "code",
      "source": [
        "\"Hello Python\""
      ],
      "metadata": {
        "colab": {
          "base_uri": "https://localhost:8080/",
          "height": 36
        },
        "id": "fa6bEVgEomYu",
        "outputId": "c985174c-8e65-4261-f965-fb285fd04c1b"
      },
      "execution_count": null,
      "outputs": [
        {
          "output_type": "execute_result",
          "data": {
            "text/plain": [
              "'Hello Python'"
            ],
            "application/vnd.google.colaboratory.intrinsic+json": {
              "type": "string"
            }
          },
          "metadata": {},
          "execution_count": 58
        }
      ]
    },
    {
      "cell_type": "code",
      "source": [
        "\"Welcome to 'python world'\""
      ],
      "metadata": {
        "colab": {
          "base_uri": "https://localhost:8080/",
          "height": 36
        },
        "id": "jfdHtEDSoxuh",
        "outputId": "b74406b3-4de7-475f-9454-b2bb6fa0d40c"
      },
      "execution_count": null,
      "outputs": [
        {
          "output_type": "execute_result",
          "data": {
            "text/plain": [
              "\"Welcome to 'python world'\""
            ],
            "application/vnd.google.colaboratory.intrinsic+json": {
              "type": "string"
            }
          },
          "metadata": {},
          "execution_count": 59
        }
      ]
    },
    {
      "cell_type": "code",
      "source": [
        "long_txt = '''\n",
        "long txt test...\n",
        "aaa.\n",
        "bbb.\n",
        "'''\n",
        "print(long_txt)"
      ],
      "metadata": {
        "colab": {
          "base_uri": "https://localhost:8080/"
        },
        "id": "3aOGqA-Ho8BJ",
        "outputId": "cd45f091-b5ff-4f9c-b874-475646b81799"
      },
      "execution_count": null,
      "outputs": [
        {
          "output_type": "stream",
          "name": "stdout",
          "text": [
            "\n",
            "long txt test...   \n",
            "aaa. \n",
            "bbb. \n",
            "\n"
          ]
        }
      ]
    },
    {
      "cell_type": "code",
      "source": [
        "# prompt: 이스케이프 문자 실습\n",
        "\n",
        "print(\"Hello \\t world\")\n",
        "print(\"Hello \\n world\")\n",
        "print(\"Hello \\\" world\")\n",
        "print(\"Hello \\\\ world\")\n"
      ],
      "metadata": {
        "colab": {
          "base_uri": "https://localhost:8080/"
        },
        "id": "vqHlpYL6pPuG",
        "outputId": "82b2eb64-ff61-4582-8457-ba9dfa008c3b"
      },
      "execution_count": null,
      "outputs": [
        {
          "output_type": "stream",
          "name": "stdout",
          "text": [
            "Hello \t world\n",
            "Hello \n",
            " world\n",
            "Hello \" world\n",
            "Hello \\ world\n"
          ]
        }
      ]
    },
    {
      "cell_type": "code",
      "source": [
        "'py' 'thon' #공백이면 덧셈으로 간주"
      ],
      "metadata": {
        "colab": {
          "base_uri": "https://localhost:8080/",
          "height": 36
        },
        "id": "DghrLYiqptMk",
        "outputId": "e18acdf2-a58b-4b7e-e3ef-2d39cba7f4f8"
      },
      "execution_count": null,
      "outputs": [
        {
          "output_type": "execute_result",
          "data": {
            "text/plain": [
              "'python'"
            ],
            "application/vnd.google.colaboratory.intrinsic+json": {
              "type": "string"
            }
          },
          "metadata": {},
          "execution_count": 65
        }
      ]
    },
    {
      "cell_type": "code",
      "source": [
        "'py' + 'thon'"
      ],
      "metadata": {
        "colab": {
          "base_uri": "https://localhost:8080/",
          "height": 36
        },
        "id": "LVMlOkOUp-s3",
        "outputId": "81dcaca2-7c4d-49d0-8812-ab7fd24e3e03"
      },
      "execution_count": null,
      "outputs": [
        {
          "output_type": "execute_result",
          "data": {
            "text/plain": [
              "'python'"
            ],
            "application/vnd.google.colaboratory.intrinsic+json": {
              "type": "string"
            }
          },
          "metadata": {},
          "execution_count": 66
        }
      ]
    },
    {
      "cell_type": "code",
      "source": [
        "'py'*3"
      ],
      "metadata": {
        "colab": {
          "base_uri": "https://localhost:8080/",
          "height": 36
        },
        "id": "0BPeQz5rqDbX",
        "outputId": "82a0a356-6847-4016-9319-1d407e260d74"
      },
      "execution_count": null,
      "outputs": [
        {
          "output_type": "execute_result",
          "data": {
            "text/plain": [
              "'pypypy'"
            ],
            "application/vnd.google.colaboratory.intrinsic+json": {
              "type": "string"
            }
          },
          "metadata": {},
          "execution_count": 68
        }
      ]
    },
    {
      "cell_type": "code",
      "source": [
        "# prompt: 절제선 생성\n",
        "\n",
        "print('-'*50)\n"
      ],
      "metadata": {
        "colab": {
          "base_uri": "https://localhost:8080/"
        },
        "id": "SGfnFOROqILn",
        "outputId": "9ced4252-6ee7-46fe-b136-6cc94505ca7d"
      },
      "execution_count": null,
      "outputs": [
        {
          "output_type": "stream",
          "name": "stdout",
          "text": [
            "--------------------------------------------------\n"
          ]
        }
      ]
    },
    {
      "cell_type": "code",
      "source": [
        "#문자열 배열\n",
        "a = \"abcdef\"\n",
        "# a[0] = k # 문자열은 불가능\n",
        "print(a.replace('a','K'))"
      ],
      "metadata": {
        "colab": {
          "base_uri": "https://localhost:8080/"
        },
        "id": "eteHXvEGqTta",
        "outputId": "3038c9fb-9b6c-41cf-b850-23c0fe4c9937"
      },
      "execution_count": null,
      "outputs": [
        {
          "output_type": "stream",
          "name": "stdout",
          "text": [
            "Kbcdef\n"
          ]
        }
      ]
    },
    {
      "cell_type": "code",
      "source": [
        "#문자열 슬라이싱\n",
        "b = \"Welcome to python world\"\n",
        "print(b[6:])\n",
        "print(b[0::2])\n",
        "\n",
        "b[0:7]"
      ],
      "metadata": {
        "colab": {
          "base_uri": "https://localhost:8080/",
          "height": 72
        },
        "id": "0FeOGZ8NrHZ9",
        "outputId": "4afe8de6-621d-4fd4-fc32-3fae7eb59e81"
      },
      "execution_count": null,
      "outputs": [
        {
          "output_type": "stream",
          "name": "stdout",
          "text": [
            "e to python world\n",
            "Wloet yhnwrd\n"
          ]
        },
        {
          "output_type": "execute_result",
          "data": {
            "text/plain": [
              "'Welcome'"
            ],
            "application/vnd.google.colaboratory.intrinsic+json": {
              "type": "string"
            }
          },
          "metadata": {},
          "execution_count": 81
        }
      ]
    },
    {
      "cell_type": "markdown",
      "source": [
        "## 리스트"
      ],
      "metadata": {
        "id": "Vnrngmc6rSPK"
      }
    },
    {
      "cell_type": "code",
      "source": [
        "# prompt: create list\n",
        "\n",
        "a = [1,2,3,4]\n",
        "b = ['a','b','c','d']\n",
        "c = [True, False, 0.5, 'hello']\n",
        "d = [a,b,c]\n",
        "\n",
        "a,b,c,d"
      ],
      "metadata": {
        "colab": {
          "base_uri": "https://localhost:8080/"
        },
        "id": "7mMCQTkOy-3M",
        "outputId": "94d8c1c9-c64f-406b-f885-d61e1bdb7a83"
      },
      "execution_count": null,
      "outputs": [
        {
          "output_type": "execute_result",
          "data": {
            "text/plain": [
              "([1, 2, 3, 4],\n",
              " ['a', 'b', 'c', 'd'],\n",
              " [True, False, 0.5, 'hello'],\n",
              " [[1, 2, 3, 4], ['a', 'b', 'c', 'd'], [True, False, 0.5, 'hello']])"
            ]
          },
          "metadata": {},
          "execution_count": 82
        }
      ]
    },
    {
      "cell_type": "code",
      "source": [
        "type(a)"
      ],
      "metadata": {
        "colab": {
          "base_uri": "https://localhost:8080/"
        },
        "id": "4YlEuwhhzboH",
        "outputId": "3569cb33-c970-4ddd-8b85-74c9046b3e92"
      },
      "execution_count": null,
      "outputs": [
        {
          "output_type": "execute_result",
          "data": {
            "text/plain": [
              "list"
            ]
          },
          "metadata": {},
          "execution_count": 83
        }
      ]
    },
    {
      "cell_type": "code",
      "source": [
        "# prompt: append something in a,b,c,d\n",
        "\n",
        "a.append(5)\n",
        "b.append('e')\n",
        "c.append(None)\n",
        "d.append('python')\n",
        "print(a)\n",
        "print(b)\n",
        "print(c)\n",
        "print(d)\n"
      ],
      "metadata": {
        "colab": {
          "base_uri": "https://localhost:8080/"
        },
        "id": "JUuGkz7lzeym",
        "outputId": "40b7d2ef-6b98-4502-9014-5adf67a0745d"
      },
      "execution_count": null,
      "outputs": [
        {
          "output_type": "stream",
          "name": "stdout",
          "text": [
            "[1, 2, 3, 4, 5]\n",
            "['a', 'b', 'c', 'd', 'e']\n",
            "[True, False, 0.5, 'hello', None]\n",
            "[[1, 2, 3, 4, 5], ['a', 'b', 'c', 'd', 'e'], [True, False, 0.5, 'hello', None], 'python']\n"
          ]
        }
      ]
    },
    {
      "cell_type": "code",
      "source": [
        "# prompt: insert something in a,b,c,d and print(a,b,c,d)\n",
        "\n",
        "# insert(index, value)\n",
        "a.insert(0,0)\n",
        "b.insert(1,'z')\n",
        "c.insert(2,100)\n",
        "d.insert(3,['a','b','c'])\n",
        "print(a,b,c,d)\n"
      ],
      "metadata": {
        "colab": {
          "base_uri": "https://localhost:8080/"
        },
        "id": "RCmP_BWJzt9o",
        "outputId": "089e2f8b-ae33-4388-a3ed-fa33069ece1b"
      },
      "execution_count": null,
      "outputs": [
        {
          "output_type": "stream",
          "name": "stdout",
          "text": [
            "[0, 1, 2, 3, 4, 5] ['a', 'z', 'b', 'c', 'd', 'e'] [True, False, 100, 0.5, 'hello', None] [[0, 1, 2, 3, 4, 5], ['a', 'z', 'b', 'c', 'd', 'e'], [True, False, 100, 0.5, 'hello', None], ['a', 'b', 'c'], 'python']\n"
          ]
        }
      ]
    },
    {
      "cell_type": "code",
      "source": [
        "# prompt: create list.extend() example\n",
        "\n",
        "#list.extend() : can append list into list\n",
        "a = [1,2,3,4]\n",
        "b = [5,6,7,8]\n",
        "a.extend(b)\n",
        "print(a)\n"
      ],
      "metadata": {
        "colab": {
          "base_uri": "https://localhost:8080/"
        },
        "id": "xWuPhXApz797",
        "outputId": "27042c0d-ec01-4180-c158-89643d8f836d"
      },
      "execution_count": null,
      "outputs": [
        {
          "output_type": "stream",
          "name": "stdout",
          "text": [
            "[1, 2, 3, 4, 5, 6, 7, 8]\n"
          ]
        }
      ]
    },
    {
      "cell_type": "code",
      "source": [
        "# prompt: create list + list example\n",
        "\n",
        "# also we can use '+' instead extend()\n",
        "\n",
        "a = [1,2,3,4]\n",
        "b = [5,6,7,8]\n",
        "c = a + b\n",
        "print(c)\n",
        "\n",
        "# caution!! different from list + list\n",
        "a += 'red'\n",
        "print(a)\n"
      ],
      "metadata": {
        "colab": {
          "base_uri": "https://localhost:8080/"
        },
        "id": "iKbnKPX_0F8q",
        "outputId": "df00544e-e7f5-4719-e465-290134bc9147"
      },
      "execution_count": null,
      "outputs": [
        {
          "output_type": "stream",
          "name": "stdout",
          "text": [
            "[1, 2, 3, 4, 5, 6, 7, 8]\n",
            "[1, 2, 3, 4, 'r', 'e', 'd']\n"
          ]
        }
      ]
    },
    {
      "cell_type": "code",
      "source": [
        "# prompt: list.index example\n",
        "\n",
        "# we can find a value by list.index(value)  --> return index of value in list\n",
        "\n",
        "a = [1,2,3,4,5,6,7,8,9]\n",
        "print(a.index(5))\n"
      ],
      "metadata": {
        "colab": {
          "base_uri": "https://localhost:8080/"
        },
        "id": "Wm7nIdZL0Ur4",
        "outputId": "54df59b2-fe03-4f15-9894-8369d91a9741"
      },
      "execution_count": null,
      "outputs": [
        {
          "output_type": "stream",
          "name": "stdout",
          "text": [
            "4\n"
          ]
        }
      ]
    },
    {
      "cell_type": "code",
      "source": [
        "# Stack by python list\n",
        "\n",
        "# stack is LIFO structure (last in first out (마지막 값이 먼저 나온다))\n",
        "\n",
        "# we can use python list as a stack structure\n",
        "\n",
        "# push : use append()\n",
        "\n",
        "# pop : use pop() --> return last value of list\n",
        "\n",
        "stack = []\n",
        "# push\n",
        "stack.append(1)\n",
        "stack.append(2)\n",
        "stack.append(3)\n",
        "print(stack)\n",
        "\n",
        "# pop\n",
        "stack.pop()\n",
        "print(stack)\n",
        "\n",
        "# peek\n",
        "print(stack[-1])\n",
        "print(stack)\n",
        "\n",
        "\n",
        "# tip : we can use stack as a condition in while loop.. by simple sentence\n",
        "\n",
        "stack = []\n",
        "# push\n",
        "stack.append(1)\n",
        "stack.append(2)\n",
        "stack.append(3)\n",
        "while stack:\n",
        "  print('stack has value')\n",
        "  stack.pop()\n"
      ],
      "metadata": {
        "colab": {
          "base_uri": "https://localhost:8080/"
        },
        "id": "s4YQPKup09GD",
        "outputId": "01a31f3d-f9bc-494f-a6d9-ff8f61667f0d"
      },
      "execution_count": null,
      "outputs": [
        {
          "output_type": "stream",
          "name": "stdout",
          "text": [
            "[1, 2, 3]\n",
            "[1, 2]\n",
            "2\n",
            "[1, 2]\n",
            "stack has value\n",
            "stack has value\n",
            "stack has value\n"
          ]
        }
      ]
    },
    {
      "cell_type": "code",
      "source": [
        "# prompt: example list.remove()\n",
        "\n",
        "a = [1, 2, 3, 4, 5]\n",
        "a.remove(3)\n",
        "print(a)\n"
      ],
      "metadata": {
        "colab": {
          "base_uri": "https://localhost:8080/"
        },
        "id": "xK-l3Z7K19iv",
        "outputId": "b82be5b6-fe97-4c88-8e7e-40123898044a"
      },
      "execution_count": null,
      "outputs": [
        {
          "output_type": "stream",
          "name": "stdout",
          "text": [
            "[1, 2, 4, 5]\n"
          ]
        }
      ]
    },
    {
      "cell_type": "code",
      "source": [
        "# prompt: example list.sort(int) and list.sort(alphabet)\n",
        "\n",
        "a = [1, 2, 3, 4, 5]\n",
        "a.sort(key=int)\n",
        "print(a)\n",
        "\n",
        "b = ['b', 'c', 'a', 'd', 'e']\n",
        "b.sort()\n",
        "print(b)\n"
      ],
      "metadata": {
        "colab": {
          "base_uri": "https://localhost:8080/"
        },
        "id": "exHRCia93EVZ",
        "outputId": "02a3ef1e-f993-4145-d757-ebb6927aa544"
      },
      "execution_count": null,
      "outputs": [
        {
          "output_type": "stream",
          "name": "stdout",
          "text": [
            "[1, 2, 3, 4, 5]\n",
            "['a', 'b', 'c', 'd', 'e']\n"
          ]
        }
      ]
    },
    {
      "cell_type": "code",
      "source": [
        "# prompt: example list sort(reverse = True\n",
        "\n",
        "a = [1, 2, 3, 4, 5]\n",
        "a.sort(reverse=True)\n",
        "print(a)\n"
      ],
      "metadata": {
        "colab": {
          "base_uri": "https://localhost:8080/"
        },
        "id": "6Z7EJMmF3OHa",
        "outputId": "f83081c9-58b7-47fc-cbc2-47b2319f00ec"
      },
      "execution_count": null,
      "outputs": [
        {
          "output_type": "stream",
          "name": "stdout",
          "text": [
            "[5, 4, 3, 2, 1]\n"
          ]
        }
      ]
    },
    {
      "cell_type": "code",
      "source": [
        "# sorting a list with key = []\n",
        "\n",
        "a = [[33, 0], [90, 21], [45, 99], [66, 49], [12, 89], [97, 97], [32, 7], [87, 5], [54, 30], [78, 94]]\n",
        "print(a)\n",
        "a.sort(key = lambda x:x[1])\n",
        "print(a)\n"
      ],
      "metadata": {
        "colab": {
          "base_uri": "https://localhost:8080/"
        },
        "id": "XCP4FHtS3jNQ",
        "outputId": "fa5a3387-07a6-4b87-d1b6-4def7b593912"
      },
      "execution_count": null,
      "outputs": [
        {
          "output_type": "stream",
          "name": "stdout",
          "text": [
            "[[33, 0], [90, 21], [45, 99], [66, 49], [12, 89], [97, 97], [32, 7], [87, 5], [54, 30], [78, 94]]\n",
            "[[33, 0], [87, 5], [32, 7], [90, 21], [54, 30], [66, 49], [12, 89], [78, 94], [97, 97], [45, 99]]\n"
          ]
        }
      ]
    },
    {
      "cell_type": "markdown",
      "source": [
        "## 집합"
      ],
      "metadata": {
        "id": "ounLHKvr3zoF"
      }
    },
    {
      "cell_type": "code",
      "source": [
        "# prompt: create two set and union, intersection them, complement using function and symbol\n",
        "\n",
        "a = {1, 2, 3, 4, 5}\n",
        "b = {3, 4, 5, 6, 7}\n",
        "\n",
        "# union\n",
        "c = a | b\n",
        "print(c)\n",
        "\n",
        "# intersection\n",
        "d = a & b\n",
        "print(d)\n",
        "\n",
        "# complement\n",
        "e = a - b\n",
        "print(e)\n",
        "\n",
        "# using set operations\n",
        "f = a.union(b)\n",
        "print(f)\n",
        "\n",
        "g = a.intersection(b)\n",
        "print(g)\n",
        "\n",
        "h = a.difference(b)\n",
        "print(h)\n"
      ],
      "metadata": {
        "colab": {
          "base_uri": "https://localhost:8080/"
        },
        "id": "dtEcK6iE4UDN",
        "outputId": "727089f8-91ee-4e41-a026-4f92aaab38a6"
      },
      "execution_count": null,
      "outputs": [
        {
          "output_type": "stream",
          "name": "stdout",
          "text": [
            "{1, 2, 3, 4, 5, 6, 7}\n",
            "{3, 4, 5}\n",
            "{1, 2}\n",
            "{1, 2, 3, 4, 5, 6, 7}\n",
            "{3, 4, 5}\n",
            "{1, 2}\n"
          ]
        }
      ]
    },
    {
      "cell_type": "code",
      "source": [
        "# prompt: other example set operation\n",
        "\n",
        "a = {1, 2, 3, 4, 5}\n",
        "b = {3, 4, 5, 6, 7}\n",
        "print(a.symmetric_difference(b))\n"
      ],
      "metadata": {
        "colab": {
          "base_uri": "https://localhost:8080/"
        },
        "id": "GrpT8mgR4hqf",
        "outputId": "8888c0f5-e43f-4746-aa0e-8c7b7109bfbb"
      },
      "execution_count": null,
      "outputs": [
        {
          "output_type": "stream",
          "name": "stdout",
          "text": [
            "{1, 2, 6, 7}\n"
          ]
        }
      ]
    },
    {
      "cell_type": "markdown",
      "source": [
        "## 튜플\n",
        "- python 내부에서 아무런 지정이 없다면 tuple 타입\n"
      ],
      "metadata": {
        "id": "5f57Wfda46YV"
      }
    },
    {
      "cell_type": "code",
      "source": [
        "#  swaping example\n",
        "a = 10\n",
        "b = 20\n",
        "c = a\n",
        "a = b\n",
        "b = c\n",
        "a,b"
      ],
      "metadata": {
        "colab": {
          "base_uri": "https://localhost:8080/"
        },
        "id": "8kOhMeSu5XaS",
        "outputId": "d40d3c34-6c2f-45cf-ca5c-ae98ca9ae3bf"
      },
      "execution_count": null,
      "outputs": [
        {
          "output_type": "execute_result",
          "data": {
            "text/plain": [
              "(20, 10)"
            ]
          },
          "metadata": {},
          "execution_count": 112
        }
      ]
    },
    {
      "cell_type": "code",
      "source": [
        "# using tuple\n",
        "(a,b) = (b,a)\n",
        "print(a,b)"
      ],
      "metadata": {
        "colab": {
          "base_uri": "https://localhost:8080/"
        },
        "id": "9JdyH7PU5rXo",
        "outputId": "418aaca3-4cf7-4f97-9d8c-2b11ee6fd1e5"
      },
      "execution_count": null,
      "outputs": [
        {
          "output_type": "stream",
          "name": "stdout",
          "text": [
            "10 20\n"
          ]
        }
      ]
    },
    {
      "cell_type": "markdown",
      "source": [
        "- tuple : most simple light structure\n",
        "- tuple < set < list"
      ],
      "metadata": {
        "id": "GEbbviC25yGK"
      }
    },
    {
      "cell_type": "markdown",
      "source": [
        "### conversion data structure\n",
        "- we can convert type using : list(), set() function"
      ],
      "metadata": {
        "id": "0tcH0Fk_56gF"
      }
    },
    {
      "cell_type": "code",
      "source": [
        "l = list((1,2,3))\n",
        "type(l)\n"
      ],
      "metadata": {
        "colab": {
          "base_uri": "https://localhost:8080/"
        },
        "id": "8ZHS_try6KXR",
        "outputId": "86616d99-0e55-4f3d-edee-13f80222a182"
      },
      "execution_count": null,
      "outputs": [
        {
          "output_type": "execute_result",
          "data": {
            "text/plain": [
              "list"
            ]
          },
          "metadata": {},
          "execution_count": 114
        }
      ]
    },
    {
      "cell_type": "code",
      "source": [
        "s = set(list((1,2,3)))\n",
        "type(s)\n"
      ],
      "metadata": {
        "colab": {
          "base_uri": "https://localhost:8080/"
        },
        "id": "eIeGJBJr6MX5",
        "outputId": "6d10688f-8448-4730-f8b3-a3644d130eeb"
      },
      "execution_count": null,
      "outputs": [
        {
          "output_type": "execute_result",
          "data": {
            "text/plain": [
              "set"
            ]
          },
          "metadata": {},
          "execution_count": 116
        }
      ]
    },
    {
      "cell_type": "markdown",
      "source": [
        "## 딕셔너리"
      ],
      "metadata": {
        "id": "mZYVxdsb6QaZ"
      }
    },
    {
      "cell_type": "code",
      "source": [
        "# prompt: create dictionary example\n",
        "\n",
        "a = {'name':'Kim', 'age':33, 'gender':'male'}\n",
        "print(a)\n",
        "print(a['name'])\n",
        "a['name'] = 'Park'\n",
        "print(a)\n"
      ],
      "metadata": {
        "colab": {
          "base_uri": "https://localhost:8080/"
        },
        "id": "GsdCY98xBXu7",
        "outputId": "e7a7d329-d6d1-4b2b-8d3a-d1b5ff1916ab"
      },
      "execution_count": null,
      "outputs": [
        {
          "output_type": "stream",
          "name": "stdout",
          "text": [
            "{'name': 'Kim', 'age': 33, 'gender': 'male'}\n",
            "Kim\n",
            "{'name': 'Park', 'age': 33, 'gender': 'male'}\n"
          ]
        }
      ]
    },
    {
      "cell_type": "code",
      "source": [
        "# prompt: create dictionary example corresponding functions\n",
        "\n",
        "a = {'name':'Kim', 'age':33, 'gender':'male'}\n",
        "print(a)\n",
        "print(a['name'])\n",
        "a['name'] = 'Park'\n",
        "print(a)\n",
        "# dictionary functions\n",
        "print(a.keys()) # key list\n",
        "print(a.values()) # value list\n",
        "print(a.items()) # key, value tuple list\n"
      ],
      "metadata": {
        "colab": {
          "base_uri": "https://localhost:8080/"
        },
        "id": "zZlZH6S4BdOW",
        "outputId": "1c5f4e69-10b9-4242-925e-4daa4c2f2d31"
      },
      "execution_count": null,
      "outputs": [
        {
          "output_type": "stream",
          "name": "stdout",
          "text": [
            "{'name': 'Kim', 'age': 33, 'gender': 'male'}\n",
            "Kim\n",
            "{'name': 'Park', 'age': 33, 'gender': 'male'}\n",
            "dict_keys(['name', 'age', 'gender'])\n",
            "dict_values(['Park', 33, 'male'])\n",
            "dict_items([('name', 'Park'), ('age', 33), ('gender', 'male')])\n"
          ]
        }
      ]
    },
    {
      "cell_type": "code",
      "source": [
        "# prompt: major functions in dictionary\n",
        "\n",
        "a.get('name') # get value by key\n",
        "a.get('name', 'not found') # get value by key, if key not found then return 'not found'\n",
        "a.setdefault('name', 'not found') # set value by key, if key not found then create key and set 'not found' value\n",
        "a.update({'name':'Park', 'age':34}) # update dictionary by dictionary\n",
        "a.pop('name') # remove key and value\n",
        "a.pop('name', 'not found') # remove key and value, if key not found then return 'not found'\n",
        "a.clear() # clear all dictionary\n"
      ],
      "metadata": {
        "id": "ImSV3T_UBmsF"
      },
      "execution_count": null,
      "outputs": []
    },
    {
      "cell_type": "code",
      "source": [
        "# prompt: sorting a by value\n",
        "\n",
        "a = {1: 3, 2: 1, 3: 2}\n",
        "print(sorted(a.items(), key=lambda x: x[1]))\n"
      ],
      "metadata": {
        "colab": {
          "base_uri": "https://localhost:8080/"
        },
        "id": "CDaCZYLSBvHv",
        "outputId": "7a64608d-ade0-48be-d3e0-85809265c126"
      },
      "execution_count": null,
      "outputs": [
        {
          "output_type": "stream",
          "name": "stdout",
          "text": [
            "[(2, 1), (3, 2), (1, 3)]\n"
          ]
        }
      ]
    },
    {
      "cell_type": "code",
      "source": [
        "# prompt: change the value of dictionary a\n",
        "a = {'name':'Kim', 'age':33, 'gender':'male'}\n",
        "a['age'] = 34\n",
        "print(a)\n"
      ],
      "metadata": {
        "colab": {
          "base_uri": "https://localhost:8080/"
        },
        "id": "-2uOmUKxB4Ba",
        "outputId": "9899b4e7-e53c-4eab-d5cf-c8da150ec0af"
      },
      "execution_count": null,
      "outputs": [
        {
          "output_type": "stream",
          "name": "stdout",
          "text": [
            "{'name': 'Kim', 'age': 34, 'gender': 'male'}\n"
          ]
        }
      ]
    },
    {
      "cell_type": "code",
      "source": [
        "# prompt: append key,value in a\n",
        "\n",
        "a['phone'] = '010-1234-5678'\n",
        "print(a)"
      ],
      "metadata": {
        "colab": {
          "base_uri": "https://localhost:8080/"
        },
        "id": "BfxTJD_pCI4f",
        "outputId": "e21f9daf-4e69-4b79-d191-89740c0dfc3c"
      },
      "execution_count": null,
      "outputs": [
        {
          "output_type": "stream",
          "name": "stdout",
          "text": [
            "{'name': 'Kim', 'age': 34, 'gender': 'male', 'phone': '010-1234-5678'}\n"
          ]
        }
      ]
    },
    {
      "cell_type": "markdown",
      "source": [
        "## for loop in python"
      ],
      "metadata": {
        "id": "VZOpNjVkCSl3"
      }
    },
    {
      "cell_type": "code",
      "source": [
        "# prompt: example for loop\n",
        "\n",
        "for i in range(0,10):\n",
        "  print(i)\n"
      ],
      "metadata": {
        "colab": {
          "base_uri": "https://localhost:8080/"
        },
        "id": "jEa0d-3lCe1M",
        "outputId": "07f6c271-ae42-4780-9db1-f9c9516e144b"
      },
      "execution_count": null,
      "outputs": [
        {
          "output_type": "stream",
          "name": "stdout",
          "text": [
            "0\n",
            "1\n",
            "2\n",
            "3\n",
            "4\n",
            "5\n",
            "6\n",
            "7\n",
            "8\n",
            "9\n"
          ]
        }
      ]
    },
    {
      "cell_type": "code",
      "source": [
        "# prompt: create for loop example using dictionary\n",
        "\n",
        "a = {'name':'Kim', 'age':33, 'gender':'male'}\n",
        "for key, value in a.items():\n",
        "  print(key, value)\n"
      ],
      "metadata": {
        "colab": {
          "base_uri": "https://localhost:8080/"
        },
        "id": "sM1c1CPuCiUo",
        "outputId": "2daccd4e-6a17-41d9-9cd2-e1b44a10cbcc"
      },
      "execution_count": null,
      "outputs": [
        {
          "output_type": "stream",
          "name": "stdout",
          "text": [
            "name Kim\n",
            "age 33\n",
            "gender male\n"
          ]
        }
      ]
    },
    {
      "cell_type": "code",
      "source": [
        "# prompt: using \"del\" command delete dictionary value\n",
        "\n",
        "a = {'name':'Kim', 'age':33, 'gender':'male'}\n",
        "del a['age']\n",
        "print(a)\n"
      ],
      "metadata": {
        "colab": {
          "base_uri": "https://localhost:8080/"
        },
        "id": "EHWRKnlIDuGm",
        "outputId": "bcdd3c08-bd4c-4918-e851-81fe4cf15928"
      },
      "execution_count": null,
      "outputs": [
        {
          "output_type": "stream",
          "name": "stdout",
          "text": [
            "{'name': 'Kim', 'gender': 'male'}\n"
          ]
        }
      ]
    },
    {
      "cell_type": "code",
      "source": [
        "# prompt: explain and create example of just copy and deep copy\n",
        "\n",
        "a = [1, 2, 3]\n",
        "b = a\n",
        "print(a)\n",
        "print(b)\n",
        "b[0] = 5\n",
        "print(a)\n",
        "print(b)\n",
        "print('*'*30)\n",
        "# shallow copy\n",
        "c = a[:]\n",
        "print(a)\n",
        "print(c)\n",
        "c[0] = 5\n",
        "print(a)\n",
        "print(c)\n",
        "\n",
        "\n",
        "print('-'*30)\n",
        "# deep copy\n",
        "import copy\n",
        "d = copy.deepcopy(a)\n",
        "print(a)\n",
        "print(d)\n",
        "d[0] = 5\n",
        "print(a)\n",
        "print(d)\n"
      ],
      "metadata": {
        "colab": {
          "base_uri": "https://localhost:8080/"
        },
        "id": "6vOq-5n1ESID",
        "outputId": "35603113-688f-4a68-ce26-799294e65a29"
      },
      "execution_count": null,
      "outputs": [
        {
          "output_type": "stream",
          "name": "stdout",
          "text": [
            "[1, 2, 3]\n",
            "[1, 2, 3]\n",
            "[5, 2, 3]\n",
            "[5, 2, 3]\n",
            "******************************\n",
            "[5, 2, 3]\n",
            "[5, 2, 3]\n",
            "[5, 2, 3]\n",
            "[5, 2, 3]\n",
            "------------------------------\n",
            "[5, 2, 3]\n",
            "[5, 2, 3]\n",
            "[5, 2, 3]\n",
            "[5, 2, 3]\n"
          ]
        }
      ]
    },
    {
      "cell_type": "code",
      "source": [],
      "metadata": {
        "id": "o8BJxVxjEeHd"
      },
      "execution_count": null,
      "outputs": []
    }
  ]
}